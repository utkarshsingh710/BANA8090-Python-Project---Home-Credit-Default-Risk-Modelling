{
 "cells": [
  {
   "cell_type": "markdown",
   "metadata": {},
   "source": [
    "<font size=\"10\">Loan payment default risk prediction</font>"
   ]
  },
  {
   "cell_type": "markdown",
   "metadata": {
    "ExecuteTime": {
     "end_time": "2020-04-19T19:58:59.505675Z",
     "start_time": "2020-04-19T19:58:59.498680Z"
    }
   },
   "source": [
    "<font size=\"4\">Project by: Utkarsh Singh (M13457333)</font>"
   ]
  },
  {
   "cell_type": "markdown",
   "metadata": {},
   "source": [
    "# Project description"
   ]
  },
  {
   "cell_type": "markdown",
   "metadata": {},
   "source": [
    "Home Credit is an international non-bank financial institution. Home Credit strives to broaden financial inclusion for the unbanked population by providing a positive and safe borrowing experience. In order to make sure this underserved population has a positive loan experience, Home Credit makes use of a variety of alternative data--including telco and transactional information--to predict their clients' repayment abilities.\n",
    "\n",
    "In this project, we will predict the **risk of default** in payment for a sample of current loans. We will use **5** datasets associated with a current loan in overall sample of loans. These are datasets include:\n",
    "\n",
    "* Static header data about the loan and the applicant\n",
    "* previous credit lines associated with the loan applicant as provided by the bureau datasets\n",
    "* DPD data on these bureau credit lines\n",
    "* Past instalments payments data on each loan in the sample\n",
    "* Data on all credit applications made before the current loan"
   ]
  },
  {
   "cell_type": "markdown",
   "metadata": {
    "ExecuteTime": {
     "end_time": "2020-04-09T03:24:42.030840Z",
     "start_time": "2020-04-09T03:24:40.125596Z"
    }
   },
   "source": [
    "# Import important packages"
   ]
  },
  {
   "cell_type": "code",
   "execution_count": null,
   "metadata": {},
   "outputs": [],
   "source": [
    "#Install Kaggle library\n",
    "pip install kaggle\n",
    "\n",
    "# - Log in to kaggle account\n",
    "# - From the my account tab, download the API Token. Place it in \"C:\\Users\\Hi\\.kaggle\" folder"
   ]
  },
  {
   "cell_type": "code",
   "execution_count": 2,
   "metadata": {
    "ExecuteTime": {
     "end_time": "2020-04-19T06:20:30.794510Z",
     "start_time": "2020-04-19T06:20:10.542836Z"
    }
   },
   "outputs": [],
   "source": [
    "import pandas as pd, numpy as np, scipy as sp, sklearn,requests,kaggle, matplotlib.pyplot as plt, seaborn as sb,plotly as ply, statsmodels as stat, tabulate,re,nltk"
   ]
  },
  {
   "cell_type": "markdown",
   "metadata": {},
   "source": [
    "# Download data using Kaggle web API"
   ]
  },
  {
   "cell_type": "code",
   "execution_count": 4,
   "metadata": {
    "ExecuteTime": {
     "end_time": "2020-04-09T04:57:14.277151Z",
     "start_time": "2020-04-09T04:57:10.591938Z"
    }
   },
   "outputs": [
    {
     "name": "stdout",
     "output_type": "stream",
     "text": [
      "Downloading application_train.csv.zip to C:\\Users\\Hi\n",
      "\n"
     ]
    },
    {
     "name": "stderr",
     "output_type": "stream",
     "text": [
      "\n",
      "  0%|          | 0.00/36.1M [00:00<?, ?B/s]\n",
      "  3%|2         | 1.00M/36.1M [00:00<00:06, 5.72MB/s]\n",
      " 11%|#1        | 4.00M/36.1M [00:00<00:04, 7.34MB/s]\n",
      " 19%|#9        | 7.00M/36.1M [00:00<00:03, 9.26MB/s]\n",
      " 25%|##4       | 9.00M/36.1M [00:00<00:02, 11.0MB/s]\n",
      " 30%|###       | 11.0M/36.1M [00:00<00:02, 12.3MB/s]\n",
      " 36%|###6      | 13.0M/36.1M [00:00<00:01, 12.8MB/s]\n",
      " 42%|####1     | 15.0M/36.1M [00:00<00:01, 14.5MB/s]\n",
      " 50%|####9     | 18.0M/36.1M [00:01<00:01, 16.5MB/s]\n",
      " 58%|#####8    | 21.0M/36.1M [00:01<00:00, 17.9MB/s]\n",
      " 66%|######6   | 24.0M/36.1M [00:01<00:00, 19.1MB/s]\n",
      " 72%|#######2  | 26.0M/36.1M [00:01<00:00, 18.1MB/s]\n",
      " 80%|########  | 29.0M/36.1M [00:01<00:00, 19.7MB/s]\n",
      " 89%|########8 | 32.0M/36.1M [00:01<00:00, 21.0MB/s]\n",
      " 97%|#########6| 35.0M/36.1M [00:01<00:00, 21.9MB/s]\n",
      "100%|##########| 36.1M/36.1M [00:01<00:00, 19.7MB/s]\n"
     ]
    }
   ],
   "source": [
    "#Import datafiles from kaggle API\n",
    "!kaggle competitions download -c home-credit-default-risk -f application_train.csv\n",
    "!kaggle competitions download -c home-credit-default-risk -f bureau.csv\n",
    "!kaggle competitions download -c home-credit-default-risk -f bureau_balance.csv\n",
    "!kaggle competitions download -c home-credit-default-risk -f installments_payments.csv\n",
    "!kaggle competitions download -c home-credit-default-risk -f previous_application.csv"
   ]
  },
  {
   "cell_type": "markdown",
   "metadata": {},
   "source": [
    "The datasets are unzipped and stored at the local folder"
   ]
  },
  {
   "cell_type": "markdown",
   "metadata": {},
   "source": [
    "# Define functions"
   ]
  },
  {
   "cell_type": "code",
   "execution_count": 157,
   "metadata": {
    "ExecuteTime": {
     "end_time": "2020-04-19T19:21:14.808742Z",
     "start_time": "2020-04-19T19:21:14.777759Z"
    }
   },
   "outputs": [],
   "source": [
    "# Define a function to left join multiple dataframes\n",
    "\n",
    "def multiple_left_join(datalist,joining_key):\n",
    "    input_size = len(datalist)\n",
    "    keylist = list(range(1,input_size+1,1))\n",
    "    datadict = dict.fromkeys(keylist)\n",
    "\n",
    "    for k in datadict:  #  initialize data dictionary with dataframes\n",
    "            datadict[k] = datalist[k-1]\n",
    "\n",
    "    merged = datadict[1]\n",
    "\n",
    "    for k in datadict:\n",
    "        if(k+1<=input_size):\n",
    "            merged = pd.merge(merged,datadict[k+1],how='left',on=joining_key)\n",
    "        else:\n",
    "            break\n",
    "    return merged\n",
    "\n",
    "\n",
    "\n",
    "# Define function to plot stacked bars for all categorical variables vs response - Shows distribution of response in each category\n",
    "\n",
    "def plot_stacked_bars(df,target,dataid):\n",
    "    categcolnames = list(df.select_dtypes(include = \"object\").columns)\n",
    "    #categcolnames.remove(dataid)\n",
    "    fig, axes = plt.subplots(4, 4, figsize=(40,40))\n",
    "\n",
    "    for var,ax in zip(categcolnames,axes.flatten()):\n",
    "\n",
    "        plotdf1 = df[[dataid,target,var]].groupby([var,target])[[dataid]].nunique().reset_index().pivot(index = var,columns = target,values =dataid).reset_index().replace(np.nan,0)\n",
    "        totals = [i+j for i,j in zip(plotdf1[0], plotdf1[1])]\n",
    "        nonevents = [i / j * 100 for i,j in zip(plotdf1[0], totals)]\n",
    "        events = [i / j * 100 for i,j in zip(plotdf1[1], totals)]\n",
    "\n",
    "        barWidth = 0.85\n",
    "        names = df[var].unique()\n",
    "        r = list(range(len(names)))\n",
    "        # Create nonevents bar\n",
    "        ax.bar(r, nonevents, color='blue', edgecolor='white', width=barWidth)\n",
    "        # Create events Bars\n",
    "        ax.bar(r, events, bottom=nonevents, color='orange', edgecolor='white', width=barWidth)\n",
    "        # Custom x axis\n",
    "        #ax.xticks(r, names, rotation=45)\n",
    "        ax.set_title(var)\n",
    "        ax.set_xticks(r)\n",
    "        ax.set_xticklabels(names)\n",
    "\n",
    "\n",
    " # Define function to print number of records within each category of character columns       \n",
    "def categorical_var_freq(df):\n",
    "    x=0\n",
    "    while x < len(list(df.select_dtypes(include = \"object\").columns)):\n",
    "        varname = list(df.select_dtypes(include = \"object\").columns)[x]\n",
    "        print(varname,\"\\n\")\n",
    "        print(pd.DataFrame(df[varname].value_counts()),\"\\n\")\n",
    "        x=x+1\n",
    "\n",
    "# Define function to calculate Cramer's-V statstic for measuring association between categorical variables\n",
    "\n",
    "import scipy.stats as ss\n",
    "\n",
    "def cramers_v(X,Y):\n",
    "    confusion_matrix = pd.crosstab(X,Y).values\n",
    "    chi2 = ss.chi2_contingency(confusion_matrix)[0]\n",
    "    n = confusion_matrix.sum()\n",
    "    phi2 = chi2/n\n",
    "    r,k = confusion_matrix.shape\n",
    "    phi2corr = max(0, phi2-((k-1)*(r-1))/(n-1))\n",
    "    rcorr = r-((r-1)**2)/(n-1)\n",
    "    kcorr = k-((k-1)**2)/(n-1)\n",
    "    return np.sqrt(phi2corr/min((kcorr-1),(rcorr-1)))\n",
    "\n",
    "\n",
    "# Define a asymmetric misclassification cost function for model validation - Weight of 10 assigned to False Negatives (Estimated from past experience)\n",
    "\n",
    "def asymm_misclassif(predicted_prob,observed_y,p):\n",
    "    FP = (predicted_prob>p) & (observed_y==0)\n",
    "    FN = (predicted_prob<=p) & (observed_y==1)\n",
    "    misclassification_rate = np.mean(FP+np.multiply(FN,10))\n",
    "    return misclassification_rate\n",
    "\n",
    "\n",
    "# Define a symmetric misclassification function for model validation \n",
    "\n",
    "def symm_misclassif(predicted_prob,observed_y,p):\n",
    "    FP = (predicted_prob>p) & (observed_y==0)\n",
    "    FN = (predicted_prob<=p) & (observed_y==1)\n",
    "    misclassification_rate = np.mean(FP+FN)\n",
    "    return misclassification_rate"
   ]
  },
  {
   "cell_type": "markdown",
   "metadata": {},
   "source": [
    "# Data exploration"
   ]
  },
  {
   "cell_type": "code",
   "execution_count": 3,
   "metadata": {
    "ExecuteTime": {
     "end_time": "2020-04-19T06:20:35.352726Z",
     "start_time": "2020-04-19T06:20:35.347730Z"
    }
   },
   "outputs": [],
   "source": [
    "# Set working directory\n",
    "import os\n",
    "os.chdir(\"C:\\\\Users\\\\Hi\\\\Documents\\\\UC BANA Master\\\\1. Coursework\\\\7. Spring - 8090 Python\\\\Final Project\\\\Home Credit Data\")"
   ]
  },
  {
   "cell_type": "markdown",
   "metadata": {},
   "source": [
    "## Application header data"
   ]
  },
  {
   "cell_type": "markdown",
   "metadata": {},
   "source": [
    "### Data description"
   ]
  },
  {
   "cell_type": "markdown",
   "metadata": {},
   "source": [
    "This dataset contains static data on all applications. One row represents one loan in our data sample"
   ]
  },
  {
   "cell_type": "code",
   "execution_count": 96,
   "metadata": {
    "ExecuteTime": {
     "end_time": "2020-04-19T02:58:00.229025Z",
     "start_time": "2020-04-19T02:57:54.965082Z"
    }
   },
   "outputs": [
    {
     "name": "stdout",
     "output_type": "stream",
     "text": [
      "(307511, 122)\n",
      "307511\n"
     ]
    }
   ],
   "source": [
    "apptrain = pd.read_csv('application_train.csv')\n",
    "print(apptrain.shape)\n",
    "print(apptrain['SK_ID_CURR'].nunique())"
   ]
  },
  {
   "cell_type": "markdown",
   "metadata": {},
   "source": [
    "### Column data types"
   ]
  },
  {
   "cell_type": "code",
   "execution_count": 8,
   "metadata": {
    "ExecuteTime": {
     "end_time": "2020-04-09T05:19:40.076232Z",
     "start_time": "2020-04-09T05:19:40.062246Z"
    },
    "scrolled": true
   },
   "outputs": [
    {
     "data": {
      "text/plain": [
       "SK_ID_CURR                      int64\n",
       "TARGET                          int64\n",
       "NAME_CONTRACT_TYPE             object\n",
       "CODE_GENDER                    object\n",
       "FLAG_OWN_CAR                   object\n",
       "FLAG_OWN_REALTY                object\n",
       "CNT_CHILDREN                    int64\n",
       "AMT_INCOME_TOTAL              float64\n",
       "AMT_CREDIT                    float64\n",
       "AMT_ANNUITY                   float64\n",
       "AMT_GOODS_PRICE               float64\n",
       "NAME_TYPE_SUITE                object\n",
       "NAME_INCOME_TYPE               object\n",
       "NAME_EDUCATION_TYPE            object\n",
       "NAME_FAMILY_STATUS             object\n",
       "NAME_HOUSING_TYPE              object\n",
       "REGION_POPULATION_RELATIVE    float64\n",
       "DAYS_BIRTH                      int64\n",
       "DAYS_EMPLOYED                   int64\n",
       "DAYS_REGISTRATION             float64\n",
       "DAYS_ID_PUBLISH                 int64\n",
       "OWN_CAR_AGE                   float64\n",
       "FLAG_MOBIL                      int64\n",
       "FLAG_EMP_PHONE                  int64\n",
       "FLAG_WORK_PHONE                 int64\n",
       "FLAG_CONT_MOBILE                int64\n",
       "FLAG_PHONE                      int64\n",
       "FLAG_EMAIL                      int64\n",
       "OCCUPATION_TYPE                object\n",
       "CNT_FAM_MEMBERS               float64\n",
       "                               ...   \n",
       "DEF_30_CNT_SOCIAL_CIRCLE      float64\n",
       "OBS_60_CNT_SOCIAL_CIRCLE      float64\n",
       "DEF_60_CNT_SOCIAL_CIRCLE      float64\n",
       "DAYS_LAST_PHONE_CHANGE        float64\n",
       "FLAG_DOCUMENT_2                 int64\n",
       "FLAG_DOCUMENT_3                 int64\n",
       "FLAG_DOCUMENT_4                 int64\n",
       "FLAG_DOCUMENT_5                 int64\n",
       "FLAG_DOCUMENT_6                 int64\n",
       "FLAG_DOCUMENT_7                 int64\n",
       "FLAG_DOCUMENT_8                 int64\n",
       "FLAG_DOCUMENT_9                 int64\n",
       "FLAG_DOCUMENT_10                int64\n",
       "FLAG_DOCUMENT_11                int64\n",
       "FLAG_DOCUMENT_12                int64\n",
       "FLAG_DOCUMENT_13                int64\n",
       "FLAG_DOCUMENT_14                int64\n",
       "FLAG_DOCUMENT_15                int64\n",
       "FLAG_DOCUMENT_16                int64\n",
       "FLAG_DOCUMENT_17                int64\n",
       "FLAG_DOCUMENT_18                int64\n",
       "FLAG_DOCUMENT_19                int64\n",
       "FLAG_DOCUMENT_20                int64\n",
       "FLAG_DOCUMENT_21                int64\n",
       "AMT_REQ_CREDIT_BUREAU_HOUR    float64\n",
       "AMT_REQ_CREDIT_BUREAU_DAY     float64\n",
       "AMT_REQ_CREDIT_BUREAU_WEEK    float64\n",
       "AMT_REQ_CREDIT_BUREAU_MON     float64\n",
       "AMT_REQ_CREDIT_BUREAU_QRT     float64\n",
       "AMT_REQ_CREDIT_BUREAU_YEAR    float64\n",
       "Length: 122, dtype: object"
      ]
     },
     "execution_count": 8,
     "metadata": {},
     "output_type": "execute_result"
    }
   ],
   "source": [
    "# Check column datatypes\n",
    "apptrain.dtypes"
   ]
  },
  {
   "cell_type": "markdown",
   "metadata": {},
   "source": [
    "### response variable distribution"
   ]
  },
  {
   "cell_type": "code",
   "execution_count": 10,
   "metadata": {
    "ExecuteTime": {
     "end_time": "2020-04-09T05:21:10.586496Z",
     "start_time": "2020-04-09T05:21:10.543522Z"
    }
   },
   "outputs": [
    {
     "data": {
      "text/plain": [
       "0    282686\n",
       "1     24825\n",
       "Name: TARGET, dtype: int64"
      ]
     },
     "execution_count": 10,
     "metadata": {},
     "output_type": "execute_result"
    }
   ],
   "source": [
    "# Check response variable distribution\n",
    "apptrain[\"TARGET\"].value_counts()"
   ]
  },
  {
   "cell_type": "markdown",
   "metadata": {},
   "source": [
    "### Data summary"
   ]
  },
  {
   "cell_type": "code",
   "execution_count": 11,
   "metadata": {
    "ExecuteTime": {
     "end_time": "2020-04-09T05:28:50.067835Z",
     "start_time": "2020-04-09T05:28:46.836182Z"
    }
   },
   "outputs": [
    {
     "data": {
      "text/html": [
       "<div>\n",
       "<style scoped>\n",
       "    .dataframe tbody tr th:only-of-type {\n",
       "        vertical-align: middle;\n",
       "    }\n",
       "\n",
       "    .dataframe tbody tr th {\n",
       "        vertical-align: top;\n",
       "    }\n",
       "\n",
       "    .dataframe thead th {\n",
       "        text-align: right;\n",
       "    }\n",
       "</style>\n",
       "<table border=\"1\" class=\"dataframe\">\n",
       "  <thead>\n",
       "    <tr style=\"text-align: right;\">\n",
       "      <th></th>\n",
       "      <th>CNT_CHILDREN</th>\n",
       "      <th>AMT_INCOME_TOTAL</th>\n",
       "      <th>AMT_CREDIT</th>\n",
       "      <th>AMT_ANNUITY</th>\n",
       "      <th>AMT_GOODS_PRICE</th>\n",
       "      <th>REGION_POPULATION_RELATIVE</th>\n",
       "      <th>DAYS_BIRTH</th>\n",
       "      <th>DAYS_EMPLOYED</th>\n",
       "      <th>DAYS_REGISTRATION</th>\n",
       "      <th>DAYS_ID_PUBLISH</th>\n",
       "      <th>...</th>\n",
       "      <th>FLAG_DOCUMENT_18</th>\n",
       "      <th>FLAG_DOCUMENT_19</th>\n",
       "      <th>FLAG_DOCUMENT_20</th>\n",
       "      <th>FLAG_DOCUMENT_21</th>\n",
       "      <th>AMT_REQ_CREDIT_BUREAU_HOUR</th>\n",
       "      <th>AMT_REQ_CREDIT_BUREAU_DAY</th>\n",
       "      <th>AMT_REQ_CREDIT_BUREAU_WEEK</th>\n",
       "      <th>AMT_REQ_CREDIT_BUREAU_MON</th>\n",
       "      <th>AMT_REQ_CREDIT_BUREAU_QRT</th>\n",
       "      <th>AMT_REQ_CREDIT_BUREAU_YEAR</th>\n",
       "    </tr>\n",
       "  </thead>\n",
       "  <tbody>\n",
       "    <tr>\n",
       "      <th>count</th>\n",
       "      <td>307511.000000</td>\n",
       "      <td>3.075110e+05</td>\n",
       "      <td>3.075110e+05</td>\n",
       "      <td>307499.000000</td>\n",
       "      <td>3.072330e+05</td>\n",
       "      <td>307511.000000</td>\n",
       "      <td>307511.000000</td>\n",
       "      <td>307511.000000</td>\n",
       "      <td>307511.000000</td>\n",
       "      <td>307511.000000</td>\n",
       "      <td>...</td>\n",
       "      <td>307511.000000</td>\n",
       "      <td>307511.000000</td>\n",
       "      <td>307511.000000</td>\n",
       "      <td>307511.000000</td>\n",
       "      <td>265992.000000</td>\n",
       "      <td>265992.000000</td>\n",
       "      <td>265992.000000</td>\n",
       "      <td>265992.000000</td>\n",
       "      <td>265992.000000</td>\n",
       "      <td>265992.000000</td>\n",
       "    </tr>\n",
       "    <tr>\n",
       "      <th>mean</th>\n",
       "      <td>0.417052</td>\n",
       "      <td>1.687979e+05</td>\n",
       "      <td>5.990260e+05</td>\n",
       "      <td>27108.573909</td>\n",
       "      <td>5.383962e+05</td>\n",
       "      <td>0.020868</td>\n",
       "      <td>-16036.995067</td>\n",
       "      <td>63815.045904</td>\n",
       "      <td>-4986.120328</td>\n",
       "      <td>-2994.202373</td>\n",
       "      <td>...</td>\n",
       "      <td>0.008130</td>\n",
       "      <td>0.000595</td>\n",
       "      <td>0.000507</td>\n",
       "      <td>0.000335</td>\n",
       "      <td>0.006402</td>\n",
       "      <td>0.007000</td>\n",
       "      <td>0.034362</td>\n",
       "      <td>0.267395</td>\n",
       "      <td>0.265474</td>\n",
       "      <td>1.899974</td>\n",
       "    </tr>\n",
       "    <tr>\n",
       "      <th>std</th>\n",
       "      <td>0.722121</td>\n",
       "      <td>2.371231e+05</td>\n",
       "      <td>4.024908e+05</td>\n",
       "      <td>14493.737315</td>\n",
       "      <td>3.694465e+05</td>\n",
       "      <td>0.013831</td>\n",
       "      <td>4363.988632</td>\n",
       "      <td>141275.766519</td>\n",
       "      <td>3522.886321</td>\n",
       "      <td>1509.450419</td>\n",
       "      <td>...</td>\n",
       "      <td>0.089798</td>\n",
       "      <td>0.024387</td>\n",
       "      <td>0.022518</td>\n",
       "      <td>0.018299</td>\n",
       "      <td>0.083849</td>\n",
       "      <td>0.110757</td>\n",
       "      <td>0.204685</td>\n",
       "      <td>0.916002</td>\n",
       "      <td>0.794056</td>\n",
       "      <td>1.869295</td>\n",
       "    </tr>\n",
       "    <tr>\n",
       "      <th>min</th>\n",
       "      <td>0.000000</td>\n",
       "      <td>2.565000e+04</td>\n",
       "      <td>4.500000e+04</td>\n",
       "      <td>1615.500000</td>\n",
       "      <td>4.050000e+04</td>\n",
       "      <td>0.000290</td>\n",
       "      <td>-25229.000000</td>\n",
       "      <td>-17912.000000</td>\n",
       "      <td>-24672.000000</td>\n",
       "      <td>-7197.000000</td>\n",
       "      <td>...</td>\n",
       "      <td>0.000000</td>\n",
       "      <td>0.000000</td>\n",
       "      <td>0.000000</td>\n",
       "      <td>0.000000</td>\n",
       "      <td>0.000000</td>\n",
       "      <td>0.000000</td>\n",
       "      <td>0.000000</td>\n",
       "      <td>0.000000</td>\n",
       "      <td>0.000000</td>\n",
       "      <td>0.000000</td>\n",
       "    </tr>\n",
       "    <tr>\n",
       "      <th>25%</th>\n",
       "      <td>0.000000</td>\n",
       "      <td>1.125000e+05</td>\n",
       "      <td>2.700000e+05</td>\n",
       "      <td>16524.000000</td>\n",
       "      <td>2.385000e+05</td>\n",
       "      <td>0.010006</td>\n",
       "      <td>-19682.000000</td>\n",
       "      <td>-2760.000000</td>\n",
       "      <td>-7479.500000</td>\n",
       "      <td>-4299.000000</td>\n",
       "      <td>...</td>\n",
       "      <td>0.000000</td>\n",
       "      <td>0.000000</td>\n",
       "      <td>0.000000</td>\n",
       "      <td>0.000000</td>\n",
       "      <td>0.000000</td>\n",
       "      <td>0.000000</td>\n",
       "      <td>0.000000</td>\n",
       "      <td>0.000000</td>\n",
       "      <td>0.000000</td>\n",
       "      <td>0.000000</td>\n",
       "    </tr>\n",
       "    <tr>\n",
       "      <th>50%</th>\n",
       "      <td>0.000000</td>\n",
       "      <td>1.471500e+05</td>\n",
       "      <td>5.135310e+05</td>\n",
       "      <td>24903.000000</td>\n",
       "      <td>4.500000e+05</td>\n",
       "      <td>0.018850</td>\n",
       "      <td>-15750.000000</td>\n",
       "      <td>-1213.000000</td>\n",
       "      <td>-4504.000000</td>\n",
       "      <td>-3254.000000</td>\n",
       "      <td>...</td>\n",
       "      <td>0.000000</td>\n",
       "      <td>0.000000</td>\n",
       "      <td>0.000000</td>\n",
       "      <td>0.000000</td>\n",
       "      <td>0.000000</td>\n",
       "      <td>0.000000</td>\n",
       "      <td>0.000000</td>\n",
       "      <td>0.000000</td>\n",
       "      <td>0.000000</td>\n",
       "      <td>1.000000</td>\n",
       "    </tr>\n",
       "    <tr>\n",
       "      <th>75%</th>\n",
       "      <td>1.000000</td>\n",
       "      <td>2.025000e+05</td>\n",
       "      <td>8.086500e+05</td>\n",
       "      <td>34596.000000</td>\n",
       "      <td>6.795000e+05</td>\n",
       "      <td>0.028663</td>\n",
       "      <td>-12413.000000</td>\n",
       "      <td>-289.000000</td>\n",
       "      <td>-2010.000000</td>\n",
       "      <td>-1720.000000</td>\n",
       "      <td>...</td>\n",
       "      <td>0.000000</td>\n",
       "      <td>0.000000</td>\n",
       "      <td>0.000000</td>\n",
       "      <td>0.000000</td>\n",
       "      <td>0.000000</td>\n",
       "      <td>0.000000</td>\n",
       "      <td>0.000000</td>\n",
       "      <td>0.000000</td>\n",
       "      <td>0.000000</td>\n",
       "      <td>3.000000</td>\n",
       "    </tr>\n",
       "    <tr>\n",
       "      <th>max</th>\n",
       "      <td>19.000000</td>\n",
       "      <td>1.170000e+08</td>\n",
       "      <td>4.050000e+06</td>\n",
       "      <td>258025.500000</td>\n",
       "      <td>4.050000e+06</td>\n",
       "      <td>0.072508</td>\n",
       "      <td>-7489.000000</td>\n",
       "      <td>365243.000000</td>\n",
       "      <td>0.000000</td>\n",
       "      <td>0.000000</td>\n",
       "      <td>...</td>\n",
       "      <td>1.000000</td>\n",
       "      <td>1.000000</td>\n",
       "      <td>1.000000</td>\n",
       "      <td>1.000000</td>\n",
       "      <td>4.000000</td>\n",
       "      <td>9.000000</td>\n",
       "      <td>8.000000</td>\n",
       "      <td>27.000000</td>\n",
       "      <td>261.000000</td>\n",
       "      <td>25.000000</td>\n",
       "    </tr>\n",
       "  </tbody>\n",
       "</table>\n",
       "<p>8 rows × 104 columns</p>\n",
       "</div>"
      ],
      "text/plain": [
       "        CNT_CHILDREN  AMT_INCOME_TOTAL    AMT_CREDIT    AMT_ANNUITY  \\\n",
       "count  307511.000000      3.075110e+05  3.075110e+05  307499.000000   \n",
       "mean        0.417052      1.687979e+05  5.990260e+05   27108.573909   \n",
       "std         0.722121      2.371231e+05  4.024908e+05   14493.737315   \n",
       "min         0.000000      2.565000e+04  4.500000e+04    1615.500000   \n",
       "25%         0.000000      1.125000e+05  2.700000e+05   16524.000000   \n",
       "50%         0.000000      1.471500e+05  5.135310e+05   24903.000000   \n",
       "75%         1.000000      2.025000e+05  8.086500e+05   34596.000000   \n",
       "max        19.000000      1.170000e+08  4.050000e+06  258025.500000   \n",
       "\n",
       "       AMT_GOODS_PRICE  REGION_POPULATION_RELATIVE     DAYS_BIRTH  \\\n",
       "count     3.072330e+05               307511.000000  307511.000000   \n",
       "mean      5.383962e+05                    0.020868  -16036.995067   \n",
       "std       3.694465e+05                    0.013831    4363.988632   \n",
       "min       4.050000e+04                    0.000290  -25229.000000   \n",
       "25%       2.385000e+05                    0.010006  -19682.000000   \n",
       "50%       4.500000e+05                    0.018850  -15750.000000   \n",
       "75%       6.795000e+05                    0.028663  -12413.000000   \n",
       "max       4.050000e+06                    0.072508   -7489.000000   \n",
       "\n",
       "       DAYS_EMPLOYED  DAYS_REGISTRATION  DAYS_ID_PUBLISH  ...  \\\n",
       "count  307511.000000      307511.000000    307511.000000  ...   \n",
       "mean    63815.045904       -4986.120328     -2994.202373  ...   \n",
       "std    141275.766519        3522.886321      1509.450419  ...   \n",
       "min    -17912.000000      -24672.000000     -7197.000000  ...   \n",
       "25%     -2760.000000       -7479.500000     -4299.000000  ...   \n",
       "50%     -1213.000000       -4504.000000     -3254.000000  ...   \n",
       "75%      -289.000000       -2010.000000     -1720.000000  ...   \n",
       "max    365243.000000           0.000000         0.000000  ...   \n",
       "\n",
       "       FLAG_DOCUMENT_18  FLAG_DOCUMENT_19  FLAG_DOCUMENT_20  FLAG_DOCUMENT_21  \\\n",
       "count     307511.000000     307511.000000     307511.000000     307511.000000   \n",
       "mean           0.008130          0.000595          0.000507          0.000335   \n",
       "std            0.089798          0.024387          0.022518          0.018299   \n",
       "min            0.000000          0.000000          0.000000          0.000000   \n",
       "25%            0.000000          0.000000          0.000000          0.000000   \n",
       "50%            0.000000          0.000000          0.000000          0.000000   \n",
       "75%            0.000000          0.000000          0.000000          0.000000   \n",
       "max            1.000000          1.000000          1.000000          1.000000   \n",
       "\n",
       "       AMT_REQ_CREDIT_BUREAU_HOUR  AMT_REQ_CREDIT_BUREAU_DAY  \\\n",
       "count               265992.000000              265992.000000   \n",
       "mean                     0.006402                   0.007000   \n",
       "std                      0.083849                   0.110757   \n",
       "min                      0.000000                   0.000000   \n",
       "25%                      0.000000                   0.000000   \n",
       "50%                      0.000000                   0.000000   \n",
       "75%                      0.000000                   0.000000   \n",
       "max                      4.000000                   9.000000   \n",
       "\n",
       "       AMT_REQ_CREDIT_BUREAU_WEEK  AMT_REQ_CREDIT_BUREAU_MON  \\\n",
       "count               265992.000000              265992.000000   \n",
       "mean                     0.034362                   0.267395   \n",
       "std                      0.204685                   0.916002   \n",
       "min                      0.000000                   0.000000   \n",
       "25%                      0.000000                   0.000000   \n",
       "50%                      0.000000                   0.000000   \n",
       "75%                      0.000000                   0.000000   \n",
       "max                      8.000000                  27.000000   \n",
       "\n",
       "       AMT_REQ_CREDIT_BUREAU_QRT  AMT_REQ_CREDIT_BUREAU_YEAR  \n",
       "count              265992.000000               265992.000000  \n",
       "mean                    0.265474                    1.899974  \n",
       "std                     0.794056                    1.869295  \n",
       "min                     0.000000                    0.000000  \n",
       "25%                     0.000000                    0.000000  \n",
       "50%                     0.000000                    1.000000  \n",
       "75%                     0.000000                    3.000000  \n",
       "max                   261.000000                   25.000000  \n",
       "\n",
       "[8 rows x 104 columns]"
      ]
     },
     "execution_count": 11,
     "metadata": {},
     "output_type": "execute_result"
    }
   ],
   "source": [
    "apptrain.drop(['SK_ID_CURR','TARGET'],axis=1).describe()"
   ]
  },
  {
   "cell_type": "markdown",
   "metadata": {},
   "source": [
    "## Bureau data"
   ]
  },
  {
   "cell_type": "markdown",
   "metadata": {},
   "source": [
    "### Data description"
   ]
  },
  {
   "cell_type": "markdown",
   "metadata": {},
   "source": [
    "* This data consists of all client's previous credits provided by other financial institutions that were reported to Credit Bureau (for clients who have a loan in our sample).\n",
    "* For every loan in our sample, there are as many rows as number of credits the client had in Credit Bureau before the application date."
   ]
  },
  {
   "cell_type": "code",
   "execution_count": 26,
   "metadata": {
    "ExecuteTime": {
     "end_time": "2020-04-18T17:02:30.332808Z",
     "start_time": "2020-04-18T17:02:25.561909Z"
    }
   },
   "outputs": [],
   "source": [
    "bureau = pd.read_csv('bureau.csv')\n",
    "bureau = bureau.sort_values(['SK_ID_CURR', 'DAYS_CREDIT'])"
   ]
  },
  {
   "cell_type": "code",
   "execution_count": 7,
   "metadata": {
    "ExecuteTime": {
     "end_time": "2020-04-18T04:21:21.097586Z",
     "start_time": "2020-04-18T04:21:21.018632Z"
    },
    "scrolled": true
   },
   "outputs": [
    {
     "data": {
      "text/html": [
       "<div>\n",
       "<style scoped>\n",
       "    .dataframe tbody tr th:only-of-type {\n",
       "        vertical-align: middle;\n",
       "    }\n",
       "\n",
       "    .dataframe tbody tr th {\n",
       "        vertical-align: top;\n",
       "    }\n",
       "\n",
       "    .dataframe thead th {\n",
       "        text-align: right;\n",
       "    }\n",
       "</style>\n",
       "<table border=\"1\" class=\"dataframe\">\n",
       "  <thead>\n",
       "    <tr style=\"text-align: right;\">\n",
       "      <th></th>\n",
       "      <th>SK_ID_CURR</th>\n",
       "      <th>SK_ID_BUREAU</th>\n",
       "      <th>CREDIT_ACTIVE</th>\n",
       "      <th>CREDIT_CURRENCY</th>\n",
       "      <th>DAYS_CREDIT</th>\n",
       "      <th>CREDIT_DAY_OVERDUE</th>\n",
       "      <th>DAYS_CREDIT_ENDDATE</th>\n",
       "      <th>DAYS_ENDDATE_FACT</th>\n",
       "      <th>AMT_CREDIT_MAX_OVERDUE</th>\n",
       "      <th>CNT_CREDIT_PROLONG</th>\n",
       "      <th>AMT_CREDIT_SUM</th>\n",
       "      <th>AMT_CREDIT_SUM_DEBT</th>\n",
       "      <th>AMT_CREDIT_SUM_LIMIT</th>\n",
       "      <th>AMT_CREDIT_SUM_OVERDUE</th>\n",
       "      <th>CREDIT_TYPE</th>\n",
       "      <th>DAYS_CREDIT_UPDATE</th>\n",
       "      <th>AMT_ANNUITY</th>\n",
       "    </tr>\n",
       "  </thead>\n",
       "  <tbody>\n",
       "    <tr>\n",
       "      <th>0</th>\n",
       "      <td>215354</td>\n",
       "      <td>5714462</td>\n",
       "      <td>Closed</td>\n",
       "      <td>currency 1</td>\n",
       "      <td>-497</td>\n",
       "      <td>0</td>\n",
       "      <td>-153.0</td>\n",
       "      <td>-153.0</td>\n",
       "      <td>NaN</td>\n",
       "      <td>0</td>\n",
       "      <td>91323.00</td>\n",
       "      <td>0.00</td>\n",
       "      <td>NaN</td>\n",
       "      <td>0.0</td>\n",
       "      <td>Consumer credit</td>\n",
       "      <td>-131</td>\n",
       "      <td>NaN</td>\n",
       "    </tr>\n",
       "    <tr>\n",
       "      <th>1</th>\n",
       "      <td>215354</td>\n",
       "      <td>5714463</td>\n",
       "      <td>Active</td>\n",
       "      <td>currency 1</td>\n",
       "      <td>-208</td>\n",
       "      <td>0</td>\n",
       "      <td>1075.0</td>\n",
       "      <td>NaN</td>\n",
       "      <td>NaN</td>\n",
       "      <td>0</td>\n",
       "      <td>225000.00</td>\n",
       "      <td>171342.00</td>\n",
       "      <td>NaN</td>\n",
       "      <td>0.0</td>\n",
       "      <td>Credit card</td>\n",
       "      <td>-20</td>\n",
       "      <td>NaN</td>\n",
       "    </tr>\n",
       "    <tr>\n",
       "      <th>2</th>\n",
       "      <td>215354</td>\n",
       "      <td>5714464</td>\n",
       "      <td>Active</td>\n",
       "      <td>currency 1</td>\n",
       "      <td>-203</td>\n",
       "      <td>0</td>\n",
       "      <td>528.0</td>\n",
       "      <td>NaN</td>\n",
       "      <td>NaN</td>\n",
       "      <td>0</td>\n",
       "      <td>464323.50</td>\n",
       "      <td>NaN</td>\n",
       "      <td>NaN</td>\n",
       "      <td>0.0</td>\n",
       "      <td>Consumer credit</td>\n",
       "      <td>-16</td>\n",
       "      <td>NaN</td>\n",
       "    </tr>\n",
       "    <tr>\n",
       "      <th>3</th>\n",
       "      <td>215354</td>\n",
       "      <td>5714465</td>\n",
       "      <td>Active</td>\n",
       "      <td>currency 1</td>\n",
       "      <td>-203</td>\n",
       "      <td>0</td>\n",
       "      <td>NaN</td>\n",
       "      <td>NaN</td>\n",
       "      <td>NaN</td>\n",
       "      <td>0</td>\n",
       "      <td>90000.00</td>\n",
       "      <td>NaN</td>\n",
       "      <td>NaN</td>\n",
       "      <td>0.0</td>\n",
       "      <td>Credit card</td>\n",
       "      <td>-16</td>\n",
       "      <td>NaN</td>\n",
       "    </tr>\n",
       "    <tr>\n",
       "      <th>4</th>\n",
       "      <td>215354</td>\n",
       "      <td>5714466</td>\n",
       "      <td>Active</td>\n",
       "      <td>currency 1</td>\n",
       "      <td>-629</td>\n",
       "      <td>0</td>\n",
       "      <td>1197.0</td>\n",
       "      <td>NaN</td>\n",
       "      <td>77674.5</td>\n",
       "      <td>0</td>\n",
       "      <td>2700000.00</td>\n",
       "      <td>NaN</td>\n",
       "      <td>NaN</td>\n",
       "      <td>0.0</td>\n",
       "      <td>Consumer credit</td>\n",
       "      <td>-21</td>\n",
       "      <td>NaN</td>\n",
       "    </tr>\n",
       "    <tr>\n",
       "      <th>5</th>\n",
       "      <td>215354</td>\n",
       "      <td>5714467</td>\n",
       "      <td>Active</td>\n",
       "      <td>currency 1</td>\n",
       "      <td>-273</td>\n",
       "      <td>0</td>\n",
       "      <td>27460.0</td>\n",
       "      <td>NaN</td>\n",
       "      <td>0.0</td>\n",
       "      <td>0</td>\n",
       "      <td>180000.00</td>\n",
       "      <td>71017.38</td>\n",
       "      <td>108982.62</td>\n",
       "      <td>0.0</td>\n",
       "      <td>Credit card</td>\n",
       "      <td>-31</td>\n",
       "      <td>NaN</td>\n",
       "    </tr>\n",
       "    <tr>\n",
       "      <th>6</th>\n",
       "      <td>215354</td>\n",
       "      <td>5714468</td>\n",
       "      <td>Active</td>\n",
       "      <td>currency 1</td>\n",
       "      <td>-43</td>\n",
       "      <td>0</td>\n",
       "      <td>79.0</td>\n",
       "      <td>NaN</td>\n",
       "      <td>0.0</td>\n",
       "      <td>0</td>\n",
       "      <td>42103.80</td>\n",
       "      <td>42103.80</td>\n",
       "      <td>0.00</td>\n",
       "      <td>0.0</td>\n",
       "      <td>Consumer credit</td>\n",
       "      <td>-22</td>\n",
       "      <td>NaN</td>\n",
       "    </tr>\n",
       "    <tr>\n",
       "      <th>7</th>\n",
       "      <td>162297</td>\n",
       "      <td>5714469</td>\n",
       "      <td>Closed</td>\n",
       "      <td>currency 1</td>\n",
       "      <td>-1896</td>\n",
       "      <td>0</td>\n",
       "      <td>-1684.0</td>\n",
       "      <td>-1710.0</td>\n",
       "      <td>14985.0</td>\n",
       "      <td>0</td>\n",
       "      <td>76878.45</td>\n",
       "      <td>0.00</td>\n",
       "      <td>0.00</td>\n",
       "      <td>0.0</td>\n",
       "      <td>Consumer credit</td>\n",
       "      <td>-1710</td>\n",
       "      <td>NaN</td>\n",
       "    </tr>\n",
       "    <tr>\n",
       "      <th>8</th>\n",
       "      <td>162297</td>\n",
       "      <td>5714470</td>\n",
       "      <td>Closed</td>\n",
       "      <td>currency 1</td>\n",
       "      <td>-1146</td>\n",
       "      <td>0</td>\n",
       "      <td>-811.0</td>\n",
       "      <td>-840.0</td>\n",
       "      <td>0.0</td>\n",
       "      <td>0</td>\n",
       "      <td>103007.70</td>\n",
       "      <td>0.00</td>\n",
       "      <td>0.00</td>\n",
       "      <td>0.0</td>\n",
       "      <td>Consumer credit</td>\n",
       "      <td>-840</td>\n",
       "      <td>NaN</td>\n",
       "    </tr>\n",
       "    <tr>\n",
       "      <th>9</th>\n",
       "      <td>162297</td>\n",
       "      <td>5714471</td>\n",
       "      <td>Active</td>\n",
       "      <td>currency 1</td>\n",
       "      <td>-1146</td>\n",
       "      <td>0</td>\n",
       "      <td>-484.0</td>\n",
       "      <td>NaN</td>\n",
       "      <td>0.0</td>\n",
       "      <td>0</td>\n",
       "      <td>4500.00</td>\n",
       "      <td>0.00</td>\n",
       "      <td>0.00</td>\n",
       "      <td>0.0</td>\n",
       "      <td>Credit card</td>\n",
       "      <td>-690</td>\n",
       "      <td>NaN</td>\n",
       "    </tr>\n",
       "  </tbody>\n",
       "</table>\n",
       "</div>"
      ],
      "text/plain": [
       "   SK_ID_CURR  SK_ID_BUREAU CREDIT_ACTIVE CREDIT_CURRENCY  DAYS_CREDIT  \\\n",
       "0      215354       5714462        Closed      currency 1         -497   \n",
       "1      215354       5714463        Active      currency 1         -208   \n",
       "2      215354       5714464        Active      currency 1         -203   \n",
       "3      215354       5714465        Active      currency 1         -203   \n",
       "4      215354       5714466        Active      currency 1         -629   \n",
       "5      215354       5714467        Active      currency 1         -273   \n",
       "6      215354       5714468        Active      currency 1          -43   \n",
       "7      162297       5714469        Closed      currency 1        -1896   \n",
       "8      162297       5714470        Closed      currency 1        -1146   \n",
       "9      162297       5714471        Active      currency 1        -1146   \n",
       "\n",
       "   CREDIT_DAY_OVERDUE  DAYS_CREDIT_ENDDATE  DAYS_ENDDATE_FACT  \\\n",
       "0                   0               -153.0             -153.0   \n",
       "1                   0               1075.0                NaN   \n",
       "2                   0                528.0                NaN   \n",
       "3                   0                  NaN                NaN   \n",
       "4                   0               1197.0                NaN   \n",
       "5                   0              27460.0                NaN   \n",
       "6                   0                 79.0                NaN   \n",
       "7                   0              -1684.0            -1710.0   \n",
       "8                   0               -811.0             -840.0   \n",
       "9                   0               -484.0                NaN   \n",
       "\n",
       "   AMT_CREDIT_MAX_OVERDUE  CNT_CREDIT_PROLONG  AMT_CREDIT_SUM  \\\n",
       "0                     NaN                   0        91323.00   \n",
       "1                     NaN                   0       225000.00   \n",
       "2                     NaN                   0       464323.50   \n",
       "3                     NaN                   0        90000.00   \n",
       "4                 77674.5                   0      2700000.00   \n",
       "5                     0.0                   0       180000.00   \n",
       "6                     0.0                   0        42103.80   \n",
       "7                 14985.0                   0        76878.45   \n",
       "8                     0.0                   0       103007.70   \n",
       "9                     0.0                   0         4500.00   \n",
       "\n",
       "   AMT_CREDIT_SUM_DEBT  AMT_CREDIT_SUM_LIMIT  AMT_CREDIT_SUM_OVERDUE  \\\n",
       "0                 0.00                   NaN                     0.0   \n",
       "1            171342.00                   NaN                     0.0   \n",
       "2                  NaN                   NaN                     0.0   \n",
       "3                  NaN                   NaN                     0.0   \n",
       "4                  NaN                   NaN                     0.0   \n",
       "5             71017.38             108982.62                     0.0   \n",
       "6             42103.80                  0.00                     0.0   \n",
       "7                 0.00                  0.00                     0.0   \n",
       "8                 0.00                  0.00                     0.0   \n",
       "9                 0.00                  0.00                     0.0   \n",
       "\n",
       "       CREDIT_TYPE  DAYS_CREDIT_UPDATE  AMT_ANNUITY  \n",
       "0  Consumer credit                -131          NaN  \n",
       "1      Credit card                 -20          NaN  \n",
       "2  Consumer credit                 -16          NaN  \n",
       "3      Credit card                 -16          NaN  \n",
       "4  Consumer credit                 -21          NaN  \n",
       "5      Credit card                 -31          NaN  \n",
       "6  Consumer credit                 -22          NaN  \n",
       "7  Consumer credit               -1710          NaN  \n",
       "8  Consumer credit                -840          NaN  \n",
       "9      Credit card                -690          NaN  "
      ]
     },
     "execution_count": 7,
     "metadata": {},
     "output_type": "execute_result"
    }
   ],
   "source": [
    "bureau.head(10)"
   ]
  },
  {
   "cell_type": "markdown",
   "metadata": {},
   "source": [
    "### Column data types"
   ]
  },
  {
   "cell_type": "code",
   "execution_count": 9,
   "metadata": {
    "ExecuteTime": {
     "end_time": "2020-04-18T04:27:37.264035Z",
     "start_time": "2020-04-18T04:27:37.255039Z"
    }
   },
   "outputs": [
    {
     "data": {
      "text/plain": [
       "SK_ID_CURR                  int64\n",
       "SK_ID_BUREAU                int64\n",
       "CREDIT_ACTIVE              object\n",
       "CREDIT_CURRENCY            object\n",
       "DAYS_CREDIT                 int64\n",
       "CREDIT_DAY_OVERDUE          int64\n",
       "DAYS_CREDIT_ENDDATE       float64\n",
       "DAYS_ENDDATE_FACT         float64\n",
       "AMT_CREDIT_MAX_OVERDUE    float64\n",
       "CNT_CREDIT_PROLONG          int64\n",
       "AMT_CREDIT_SUM            float64\n",
       "AMT_CREDIT_SUM_DEBT       float64\n",
       "AMT_CREDIT_SUM_LIMIT      float64\n",
       "AMT_CREDIT_SUM_OVERDUE    float64\n",
       "CREDIT_TYPE                object\n",
       "DAYS_CREDIT_UPDATE          int64\n",
       "AMT_ANNUITY               float64\n",
       "dtype: object"
      ]
     },
     "execution_count": 9,
     "metadata": {},
     "output_type": "execute_result"
    }
   ],
   "source": [
    "bureau.dtypes"
   ]
  },
  {
   "cell_type": "markdown",
   "metadata": {},
   "source": [
    "### Data Summary"
   ]
  },
  {
   "cell_type": "code",
   "execution_count": 17,
   "metadata": {
    "ExecuteTime": {
     "end_time": "2020-04-18T05:40:41.292254Z",
     "start_time": "2020-04-18T05:40:41.052391Z"
    }
   },
   "outputs": [
    {
     "name": "stdout",
     "output_type": "stream",
     "text": [
      "Bureau credit lines available for: 305811  loans in our sample\n",
      "Total  1716428  past bureau credit lines\n"
     ]
    }
   ],
   "source": [
    "print('Bureau credit lines available for:',bureau['SK_ID_CURR'].nunique(),' loans in our sample')\n",
    "print('Total ',bureau['SK_ID_BUREAU'].nunique(''),' past bureau credit lines')"
   ]
  },
  {
   "cell_type": "code",
   "execution_count": 12,
   "metadata": {
    "ExecuteTime": {
     "end_time": "2020-04-18T04:29:21.964204Z",
     "start_time": "2020-04-18T04:29:19.867413Z"
    }
   },
   "outputs": [
    {
     "data": {
      "text/html": [
       "<div>\n",
       "<style scoped>\n",
       "    .dataframe tbody tr th:only-of-type {\n",
       "        vertical-align: middle;\n",
       "    }\n",
       "\n",
       "    .dataframe tbody tr th {\n",
       "        vertical-align: top;\n",
       "    }\n",
       "\n",
       "    .dataframe thead th {\n",
       "        text-align: right;\n",
       "    }\n",
       "</style>\n",
       "<table border=\"1\" class=\"dataframe\">\n",
       "  <thead>\n",
       "    <tr style=\"text-align: right;\">\n",
       "      <th></th>\n",
       "      <th>CREDIT_ACTIVE</th>\n",
       "      <th>CREDIT_CURRENCY</th>\n",
       "      <th>DAYS_CREDIT</th>\n",
       "      <th>CREDIT_DAY_OVERDUE</th>\n",
       "      <th>DAYS_CREDIT_ENDDATE</th>\n",
       "      <th>DAYS_ENDDATE_FACT</th>\n",
       "      <th>AMT_CREDIT_MAX_OVERDUE</th>\n",
       "      <th>CNT_CREDIT_PROLONG</th>\n",
       "      <th>AMT_CREDIT_SUM</th>\n",
       "      <th>AMT_CREDIT_SUM_DEBT</th>\n",
       "      <th>AMT_CREDIT_SUM_LIMIT</th>\n",
       "      <th>AMT_CREDIT_SUM_OVERDUE</th>\n",
       "      <th>CREDIT_TYPE</th>\n",
       "      <th>DAYS_CREDIT_UPDATE</th>\n",
       "      <th>AMT_ANNUITY</th>\n",
       "    </tr>\n",
       "  </thead>\n",
       "  <tbody>\n",
       "    <tr>\n",
       "      <th>count</th>\n",
       "      <td>1716428</td>\n",
       "      <td>1716428</td>\n",
       "      <td>1.716428e+06</td>\n",
       "      <td>1.716428e+06</td>\n",
       "      <td>1.610875e+06</td>\n",
       "      <td>1.082775e+06</td>\n",
       "      <td>5.919400e+05</td>\n",
       "      <td>1.716428e+06</td>\n",
       "      <td>1.716415e+06</td>\n",
       "      <td>1.458759e+06</td>\n",
       "      <td>1.124648e+06</td>\n",
       "      <td>1.716428e+06</td>\n",
       "      <td>1716428</td>\n",
       "      <td>1.716428e+06</td>\n",
       "      <td>4.896370e+05</td>\n",
       "    </tr>\n",
       "    <tr>\n",
       "      <th>unique</th>\n",
       "      <td>4</td>\n",
       "      <td>4</td>\n",
       "      <td>NaN</td>\n",
       "      <td>NaN</td>\n",
       "      <td>NaN</td>\n",
       "      <td>NaN</td>\n",
       "      <td>NaN</td>\n",
       "      <td>NaN</td>\n",
       "      <td>NaN</td>\n",
       "      <td>NaN</td>\n",
       "      <td>NaN</td>\n",
       "      <td>NaN</td>\n",
       "      <td>15</td>\n",
       "      <td>NaN</td>\n",
       "      <td>NaN</td>\n",
       "    </tr>\n",
       "    <tr>\n",
       "      <th>top</th>\n",
       "      <td>Closed</td>\n",
       "      <td>currency 1</td>\n",
       "      <td>NaN</td>\n",
       "      <td>NaN</td>\n",
       "      <td>NaN</td>\n",
       "      <td>NaN</td>\n",
       "      <td>NaN</td>\n",
       "      <td>NaN</td>\n",
       "      <td>NaN</td>\n",
       "      <td>NaN</td>\n",
       "      <td>NaN</td>\n",
       "      <td>NaN</td>\n",
       "      <td>Consumer credit</td>\n",
       "      <td>NaN</td>\n",
       "      <td>NaN</td>\n",
       "    </tr>\n",
       "    <tr>\n",
       "      <th>freq</th>\n",
       "      <td>1079273</td>\n",
       "      <td>1715020</td>\n",
       "      <td>NaN</td>\n",
       "      <td>NaN</td>\n",
       "      <td>NaN</td>\n",
       "      <td>NaN</td>\n",
       "      <td>NaN</td>\n",
       "      <td>NaN</td>\n",
       "      <td>NaN</td>\n",
       "      <td>NaN</td>\n",
       "      <td>NaN</td>\n",
       "      <td>NaN</td>\n",
       "      <td>1251615</td>\n",
       "      <td>NaN</td>\n",
       "      <td>NaN</td>\n",
       "    </tr>\n",
       "    <tr>\n",
       "      <th>mean</th>\n",
       "      <td>NaN</td>\n",
       "      <td>NaN</td>\n",
       "      <td>-1.142108e+03</td>\n",
       "      <td>8.181666e-01</td>\n",
       "      <td>5.105174e+02</td>\n",
       "      <td>-1.017437e+03</td>\n",
       "      <td>3.825418e+03</td>\n",
       "      <td>6.410406e-03</td>\n",
       "      <td>3.549946e+05</td>\n",
       "      <td>1.370851e+05</td>\n",
       "      <td>6.229515e+03</td>\n",
       "      <td>3.791276e+01</td>\n",
       "      <td>NaN</td>\n",
       "      <td>-5.937483e+02</td>\n",
       "      <td>1.571276e+04</td>\n",
       "    </tr>\n",
       "    <tr>\n",
       "      <th>std</th>\n",
       "      <td>NaN</td>\n",
       "      <td>NaN</td>\n",
       "      <td>7.951649e+02</td>\n",
       "      <td>3.654443e+01</td>\n",
       "      <td>4.994220e+03</td>\n",
       "      <td>7.140106e+02</td>\n",
       "      <td>2.060316e+05</td>\n",
       "      <td>9.622391e-02</td>\n",
       "      <td>1.149811e+06</td>\n",
       "      <td>6.774011e+05</td>\n",
       "      <td>4.503203e+04</td>\n",
       "      <td>5.937650e+03</td>\n",
       "      <td>NaN</td>\n",
       "      <td>7.207473e+02</td>\n",
       "      <td>3.258269e+05</td>\n",
       "    </tr>\n",
       "    <tr>\n",
       "      <th>min</th>\n",
       "      <td>NaN</td>\n",
       "      <td>NaN</td>\n",
       "      <td>-2.922000e+03</td>\n",
       "      <td>0.000000e+00</td>\n",
       "      <td>-4.206000e+04</td>\n",
       "      <td>-4.202300e+04</td>\n",
       "      <td>0.000000e+00</td>\n",
       "      <td>0.000000e+00</td>\n",
       "      <td>0.000000e+00</td>\n",
       "      <td>-4.705600e+06</td>\n",
       "      <td>-5.864061e+05</td>\n",
       "      <td>0.000000e+00</td>\n",
       "      <td>NaN</td>\n",
       "      <td>-4.194700e+04</td>\n",
       "      <td>0.000000e+00</td>\n",
       "    </tr>\n",
       "    <tr>\n",
       "      <th>25%</th>\n",
       "      <td>NaN</td>\n",
       "      <td>NaN</td>\n",
       "      <td>-1.666000e+03</td>\n",
       "      <td>0.000000e+00</td>\n",
       "      <td>-1.138000e+03</td>\n",
       "      <td>-1.489000e+03</td>\n",
       "      <td>0.000000e+00</td>\n",
       "      <td>0.000000e+00</td>\n",
       "      <td>5.130000e+04</td>\n",
       "      <td>0.000000e+00</td>\n",
       "      <td>0.000000e+00</td>\n",
       "      <td>0.000000e+00</td>\n",
       "      <td>NaN</td>\n",
       "      <td>-9.080000e+02</td>\n",
       "      <td>0.000000e+00</td>\n",
       "    </tr>\n",
       "    <tr>\n",
       "      <th>50%</th>\n",
       "      <td>NaN</td>\n",
       "      <td>NaN</td>\n",
       "      <td>-9.870000e+02</td>\n",
       "      <td>0.000000e+00</td>\n",
       "      <td>-3.300000e+02</td>\n",
       "      <td>-8.970000e+02</td>\n",
       "      <td>0.000000e+00</td>\n",
       "      <td>0.000000e+00</td>\n",
       "      <td>1.255185e+05</td>\n",
       "      <td>0.000000e+00</td>\n",
       "      <td>0.000000e+00</td>\n",
       "      <td>0.000000e+00</td>\n",
       "      <td>NaN</td>\n",
       "      <td>-3.950000e+02</td>\n",
       "      <td>0.000000e+00</td>\n",
       "    </tr>\n",
       "    <tr>\n",
       "      <th>75%</th>\n",
       "      <td>NaN</td>\n",
       "      <td>NaN</td>\n",
       "      <td>-4.740000e+02</td>\n",
       "      <td>0.000000e+00</td>\n",
       "      <td>4.740000e+02</td>\n",
       "      <td>-4.250000e+02</td>\n",
       "      <td>0.000000e+00</td>\n",
       "      <td>0.000000e+00</td>\n",
       "      <td>3.150000e+05</td>\n",
       "      <td>4.015350e+04</td>\n",
       "      <td>0.000000e+00</td>\n",
       "      <td>0.000000e+00</td>\n",
       "      <td>NaN</td>\n",
       "      <td>-3.300000e+01</td>\n",
       "      <td>1.350000e+04</td>\n",
       "    </tr>\n",
       "    <tr>\n",
       "      <th>max</th>\n",
       "      <td>NaN</td>\n",
       "      <td>NaN</td>\n",
       "      <td>0.000000e+00</td>\n",
       "      <td>2.792000e+03</td>\n",
       "      <td>3.119900e+04</td>\n",
       "      <td>0.000000e+00</td>\n",
       "      <td>1.159872e+08</td>\n",
       "      <td>9.000000e+00</td>\n",
       "      <td>5.850000e+08</td>\n",
       "      <td>1.701000e+08</td>\n",
       "      <td>4.705600e+06</td>\n",
       "      <td>3.756681e+06</td>\n",
       "      <td>NaN</td>\n",
       "      <td>3.720000e+02</td>\n",
       "      <td>1.184534e+08</td>\n",
       "    </tr>\n",
       "  </tbody>\n",
       "</table>\n",
       "</div>"
      ],
      "text/plain": [
       "       CREDIT_ACTIVE CREDIT_CURRENCY   DAYS_CREDIT  CREDIT_DAY_OVERDUE  \\\n",
       "count        1716428         1716428  1.716428e+06        1.716428e+06   \n",
       "unique             4               4           NaN                 NaN   \n",
       "top           Closed      currency 1           NaN                 NaN   \n",
       "freq         1079273         1715020           NaN                 NaN   \n",
       "mean             NaN             NaN -1.142108e+03        8.181666e-01   \n",
       "std              NaN             NaN  7.951649e+02        3.654443e+01   \n",
       "min              NaN             NaN -2.922000e+03        0.000000e+00   \n",
       "25%              NaN             NaN -1.666000e+03        0.000000e+00   \n",
       "50%              NaN             NaN -9.870000e+02        0.000000e+00   \n",
       "75%              NaN             NaN -4.740000e+02        0.000000e+00   \n",
       "max              NaN             NaN  0.000000e+00        2.792000e+03   \n",
       "\n",
       "        DAYS_CREDIT_ENDDATE  DAYS_ENDDATE_FACT  AMT_CREDIT_MAX_OVERDUE  \\\n",
       "count          1.610875e+06       1.082775e+06            5.919400e+05   \n",
       "unique                  NaN                NaN                     NaN   \n",
       "top                     NaN                NaN                     NaN   \n",
       "freq                    NaN                NaN                     NaN   \n",
       "mean           5.105174e+02      -1.017437e+03            3.825418e+03   \n",
       "std            4.994220e+03       7.140106e+02            2.060316e+05   \n",
       "min           -4.206000e+04      -4.202300e+04            0.000000e+00   \n",
       "25%           -1.138000e+03      -1.489000e+03            0.000000e+00   \n",
       "50%           -3.300000e+02      -8.970000e+02            0.000000e+00   \n",
       "75%            4.740000e+02      -4.250000e+02            0.000000e+00   \n",
       "max            3.119900e+04       0.000000e+00            1.159872e+08   \n",
       "\n",
       "        CNT_CREDIT_PROLONG  AMT_CREDIT_SUM  AMT_CREDIT_SUM_DEBT  \\\n",
       "count         1.716428e+06    1.716415e+06         1.458759e+06   \n",
       "unique                 NaN             NaN                  NaN   \n",
       "top                    NaN             NaN                  NaN   \n",
       "freq                   NaN             NaN                  NaN   \n",
       "mean          6.410406e-03    3.549946e+05         1.370851e+05   \n",
       "std           9.622391e-02    1.149811e+06         6.774011e+05   \n",
       "min           0.000000e+00    0.000000e+00        -4.705600e+06   \n",
       "25%           0.000000e+00    5.130000e+04         0.000000e+00   \n",
       "50%           0.000000e+00    1.255185e+05         0.000000e+00   \n",
       "75%           0.000000e+00    3.150000e+05         4.015350e+04   \n",
       "max           9.000000e+00    5.850000e+08         1.701000e+08   \n",
       "\n",
       "        AMT_CREDIT_SUM_LIMIT  AMT_CREDIT_SUM_OVERDUE      CREDIT_TYPE  \\\n",
       "count           1.124648e+06            1.716428e+06          1716428   \n",
       "unique                   NaN                     NaN               15   \n",
       "top                      NaN                     NaN  Consumer credit   \n",
       "freq                     NaN                     NaN          1251615   \n",
       "mean            6.229515e+03            3.791276e+01              NaN   \n",
       "std             4.503203e+04            5.937650e+03              NaN   \n",
       "min            -5.864061e+05            0.000000e+00              NaN   \n",
       "25%             0.000000e+00            0.000000e+00              NaN   \n",
       "50%             0.000000e+00            0.000000e+00              NaN   \n",
       "75%             0.000000e+00            0.000000e+00              NaN   \n",
       "max             4.705600e+06            3.756681e+06              NaN   \n",
       "\n",
       "        DAYS_CREDIT_UPDATE   AMT_ANNUITY  \n",
       "count         1.716428e+06  4.896370e+05  \n",
       "unique                 NaN           NaN  \n",
       "top                    NaN           NaN  \n",
       "freq                   NaN           NaN  \n",
       "mean         -5.937483e+02  1.571276e+04  \n",
       "std           7.207473e+02  3.258269e+05  \n",
       "min          -4.194700e+04  0.000000e+00  \n",
       "25%          -9.080000e+02  0.000000e+00  \n",
       "50%          -3.950000e+02  0.000000e+00  \n",
       "75%          -3.300000e+01  1.350000e+04  \n",
       "max           3.720000e+02  1.184534e+08  "
      ]
     },
     "execution_count": 12,
     "metadata": {},
     "output_type": "execute_result"
    }
   ],
   "source": [
    "bureau.drop(['SK_ID_CURR','SK_ID_BUREAU'],axis=1).describe(include=\"all\")"
   ]
  },
  {
   "cell_type": "markdown",
   "metadata": {},
   "source": [
    "## Bureau balance (DPD) data"
   ]
  },
  {
   "cell_type": "markdown",
   "metadata": {},
   "source": [
    "### Data description"
   ]
  },
  {
   "cell_type": "markdown",
   "metadata": {},
   "source": [
    "* Monthly balances of all previous credit lines in the Credit Bureau data\n",
    "* This table has one row for each month of history of every previous credit reported to Credit Bureau – i.e the table has (#loans in sample * # of relative previous credits * # of months where we have some history observable for the previous credits) rows."
   ]
  },
  {
   "cell_type": "code",
   "execution_count": 76,
   "metadata": {
    "ExecuteTime": {
     "end_time": "2020-04-18T21:40:49.927564Z",
     "start_time": "2020-04-18T21:40:41.433252Z"
    }
   },
   "outputs": [],
   "source": [
    "bureau_bal = pd.read_csv(\"bureau_balance.csv\")"
   ]
  },
  {
   "cell_type": "markdown",
   "metadata": {},
   "source": [
    "### Column data types"
   ]
  },
  {
   "cell_type": "code",
   "execution_count": 16,
   "metadata": {
    "ExecuteTime": {
     "end_time": "2020-04-18T05:36:51.662751Z",
     "start_time": "2020-04-18T05:36:51.643761Z"
    }
   },
   "outputs": [
    {
     "name": "stdout",
     "output_type": "stream",
     "text": [
      "SK_ID_BUREAU       int64\n",
      "MONTHS_BALANCE     int64\n",
      "STATUS            object\n",
      "dtype: object\n"
     ]
    },
    {
     "data": {
      "text/html": [
       "<div>\n",
       "<style scoped>\n",
       "    .dataframe tbody tr th:only-of-type {\n",
       "        vertical-align: middle;\n",
       "    }\n",
       "\n",
       "    .dataframe tbody tr th {\n",
       "        vertical-align: top;\n",
       "    }\n",
       "\n",
       "    .dataframe thead th {\n",
       "        text-align: right;\n",
       "    }\n",
       "</style>\n",
       "<table border=\"1\" class=\"dataframe\">\n",
       "  <thead>\n",
       "    <tr style=\"text-align: right;\">\n",
       "      <th></th>\n",
       "      <th>SK_ID_BUREAU</th>\n",
       "      <th>MONTHS_BALANCE</th>\n",
       "      <th>STATUS</th>\n",
       "    </tr>\n",
       "  </thead>\n",
       "  <tbody>\n",
       "    <tr>\n",
       "      <th>0</th>\n",
       "      <td>5715448</td>\n",
       "      <td>0</td>\n",
       "      <td>C</td>\n",
       "    </tr>\n",
       "    <tr>\n",
       "      <th>1</th>\n",
       "      <td>5715448</td>\n",
       "      <td>-1</td>\n",
       "      <td>C</td>\n",
       "    </tr>\n",
       "    <tr>\n",
       "      <th>2</th>\n",
       "      <td>5715448</td>\n",
       "      <td>-2</td>\n",
       "      <td>C</td>\n",
       "    </tr>\n",
       "    <tr>\n",
       "      <th>3</th>\n",
       "      <td>5715448</td>\n",
       "      <td>-3</td>\n",
       "      <td>C</td>\n",
       "    </tr>\n",
       "    <tr>\n",
       "      <th>4</th>\n",
       "      <td>5715448</td>\n",
       "      <td>-4</td>\n",
       "      <td>C</td>\n",
       "    </tr>\n",
       "    <tr>\n",
       "      <th>5</th>\n",
       "      <td>5715448</td>\n",
       "      <td>-5</td>\n",
       "      <td>C</td>\n",
       "    </tr>\n",
       "    <tr>\n",
       "      <th>6</th>\n",
       "      <td>5715448</td>\n",
       "      <td>-6</td>\n",
       "      <td>C</td>\n",
       "    </tr>\n",
       "    <tr>\n",
       "      <th>7</th>\n",
       "      <td>5715448</td>\n",
       "      <td>-7</td>\n",
       "      <td>C</td>\n",
       "    </tr>\n",
       "    <tr>\n",
       "      <th>8</th>\n",
       "      <td>5715448</td>\n",
       "      <td>-8</td>\n",
       "      <td>C</td>\n",
       "    </tr>\n",
       "    <tr>\n",
       "      <th>9</th>\n",
       "      <td>5715448</td>\n",
       "      <td>-9</td>\n",
       "      <td>0</td>\n",
       "    </tr>\n",
       "  </tbody>\n",
       "</table>\n",
       "</div>"
      ],
      "text/plain": [
       "   SK_ID_BUREAU  MONTHS_BALANCE STATUS\n",
       "0       5715448               0      C\n",
       "1       5715448              -1      C\n",
       "2       5715448              -2      C\n",
       "3       5715448              -3      C\n",
       "4       5715448              -4      C\n",
       "5       5715448              -5      C\n",
       "6       5715448              -6      C\n",
       "7       5715448              -7      C\n",
       "8       5715448              -8      C\n",
       "9       5715448              -9      0"
      ]
     },
     "execution_count": 16,
     "metadata": {},
     "output_type": "execute_result"
    }
   ],
   "source": [
    "print(bureau_bal.dtypes)\n",
    "bureau_bal.head(10)"
   ]
  },
  {
   "cell_type": "code",
   "execution_count": 18,
   "metadata": {
    "ExecuteTime": {
     "end_time": "2020-04-18T05:41:49.602436Z",
     "start_time": "2020-04-18T05:41:49.250619Z"
    }
   },
   "outputs": [
    {
     "name": "stdout",
     "output_type": "stream",
     "text": [
      "Balance data on  817395  past bureau credit lines\n"
     ]
    }
   ],
   "source": [
    "print('Balance data on ',bureau_bal['SK_ID_BUREAU'].nunique(''),' past bureau credit lines')"
   ]
  },
  {
   "cell_type": "markdown",
   "metadata": {},
   "source": [
    "## Previous loans applications data (All previous home credit loans)"
   ]
  },
  {
   "cell_type": "markdown",
   "metadata": {},
   "source": [
    "### Data description"
   ]
  },
  {
   "cell_type": "markdown",
   "metadata": {},
   "source": [
    "* All previous applications for Home Credit loans of clients who have loans in our sample.\n",
    "* There is one row for each previous application related to loans in our data sample."
   ]
  },
  {
   "cell_type": "code",
   "execution_count": 94,
   "metadata": {
    "ExecuteTime": {
     "end_time": "2020-04-19T02:51:10.138937Z",
     "start_time": "2020-04-19T02:50:59.087737Z"
    }
   },
   "outputs": [
    {
     "data": {
      "text/plain": [
       "(1670214, 37)"
      ]
     },
     "execution_count": 94,
     "metadata": {},
     "output_type": "execute_result"
    }
   ],
   "source": [
    "prevapplications = pd.read_csv('previous_application.csv')\n",
    "prevapplications.shape"
   ]
  },
  {
   "cell_type": "code",
   "execution_count": 30,
   "metadata": {
    "ExecuteTime": {
     "end_time": "2020-04-18T06:13:06.654381Z",
     "start_time": "2020-04-18T06:13:06.597416Z"
    }
   },
   "outputs": [
    {
     "data": {
      "text/html": [
       "<div>\n",
       "<style scoped>\n",
       "    .dataframe tbody tr th:only-of-type {\n",
       "        vertical-align: middle;\n",
       "    }\n",
       "\n",
       "    .dataframe tbody tr th {\n",
       "        vertical-align: top;\n",
       "    }\n",
       "\n",
       "    .dataframe thead th {\n",
       "        text-align: right;\n",
       "    }\n",
       "</style>\n",
       "<table border=\"1\" class=\"dataframe\">\n",
       "  <thead>\n",
       "    <tr style=\"text-align: right;\">\n",
       "      <th></th>\n",
       "      <th>SK_ID_PREV</th>\n",
       "      <th>SK_ID_CURR</th>\n",
       "      <th>NAME_CONTRACT_TYPE</th>\n",
       "      <th>AMT_ANNUITY</th>\n",
       "      <th>AMT_APPLICATION</th>\n",
       "      <th>AMT_CREDIT</th>\n",
       "      <th>AMT_DOWN_PAYMENT</th>\n",
       "      <th>AMT_GOODS_PRICE</th>\n",
       "      <th>WEEKDAY_APPR_PROCESS_START</th>\n",
       "      <th>HOUR_APPR_PROCESS_START</th>\n",
       "      <th>...</th>\n",
       "      <th>NAME_SELLER_INDUSTRY</th>\n",
       "      <th>CNT_PAYMENT</th>\n",
       "      <th>NAME_YIELD_GROUP</th>\n",
       "      <th>PRODUCT_COMBINATION</th>\n",
       "      <th>DAYS_FIRST_DRAWING</th>\n",
       "      <th>DAYS_FIRST_DUE</th>\n",
       "      <th>DAYS_LAST_DUE_1ST_VERSION</th>\n",
       "      <th>DAYS_LAST_DUE</th>\n",
       "      <th>DAYS_TERMINATION</th>\n",
       "      <th>NFLAG_INSURED_ON_APPROVAL</th>\n",
       "    </tr>\n",
       "  </thead>\n",
       "  <tbody>\n",
       "    <tr>\n",
       "      <th>0</th>\n",
       "      <td>2030495</td>\n",
       "      <td>271877</td>\n",
       "      <td>Consumer loans</td>\n",
       "      <td>1730.430</td>\n",
       "      <td>17145.0</td>\n",
       "      <td>17145.0</td>\n",
       "      <td>0.0</td>\n",
       "      <td>17145.0</td>\n",
       "      <td>SATURDAY</td>\n",
       "      <td>15</td>\n",
       "      <td>...</td>\n",
       "      <td>Connectivity</td>\n",
       "      <td>12.0</td>\n",
       "      <td>middle</td>\n",
       "      <td>POS mobile with interest</td>\n",
       "      <td>365243.0</td>\n",
       "      <td>-42.0</td>\n",
       "      <td>300.0</td>\n",
       "      <td>-42.0</td>\n",
       "      <td>-37.0</td>\n",
       "      <td>0.0</td>\n",
       "    </tr>\n",
       "    <tr>\n",
       "      <th>1</th>\n",
       "      <td>2802425</td>\n",
       "      <td>108129</td>\n",
       "      <td>Cash loans</td>\n",
       "      <td>25188.615</td>\n",
       "      <td>607500.0</td>\n",
       "      <td>679671.0</td>\n",
       "      <td>NaN</td>\n",
       "      <td>607500.0</td>\n",
       "      <td>THURSDAY</td>\n",
       "      <td>11</td>\n",
       "      <td>...</td>\n",
       "      <td>XNA</td>\n",
       "      <td>36.0</td>\n",
       "      <td>low_action</td>\n",
       "      <td>Cash X-Sell: low</td>\n",
       "      <td>365243.0</td>\n",
       "      <td>-134.0</td>\n",
       "      <td>916.0</td>\n",
       "      <td>365243.0</td>\n",
       "      <td>365243.0</td>\n",
       "      <td>1.0</td>\n",
       "    </tr>\n",
       "    <tr>\n",
       "      <th>2</th>\n",
       "      <td>2523466</td>\n",
       "      <td>122040</td>\n",
       "      <td>Cash loans</td>\n",
       "      <td>15060.735</td>\n",
       "      <td>112500.0</td>\n",
       "      <td>136444.5</td>\n",
       "      <td>NaN</td>\n",
       "      <td>112500.0</td>\n",
       "      <td>TUESDAY</td>\n",
       "      <td>11</td>\n",
       "      <td>...</td>\n",
       "      <td>XNA</td>\n",
       "      <td>12.0</td>\n",
       "      <td>high</td>\n",
       "      <td>Cash X-Sell: high</td>\n",
       "      <td>365243.0</td>\n",
       "      <td>-271.0</td>\n",
       "      <td>59.0</td>\n",
       "      <td>365243.0</td>\n",
       "      <td>365243.0</td>\n",
       "      <td>1.0</td>\n",
       "    </tr>\n",
       "    <tr>\n",
       "      <th>3</th>\n",
       "      <td>2819243</td>\n",
       "      <td>176158</td>\n",
       "      <td>Cash loans</td>\n",
       "      <td>47041.335</td>\n",
       "      <td>450000.0</td>\n",
       "      <td>470790.0</td>\n",
       "      <td>NaN</td>\n",
       "      <td>450000.0</td>\n",
       "      <td>MONDAY</td>\n",
       "      <td>7</td>\n",
       "      <td>...</td>\n",
       "      <td>XNA</td>\n",
       "      <td>12.0</td>\n",
       "      <td>middle</td>\n",
       "      <td>Cash X-Sell: middle</td>\n",
       "      <td>365243.0</td>\n",
       "      <td>-482.0</td>\n",
       "      <td>-152.0</td>\n",
       "      <td>-182.0</td>\n",
       "      <td>-177.0</td>\n",
       "      <td>1.0</td>\n",
       "    </tr>\n",
       "    <tr>\n",
       "      <th>4</th>\n",
       "      <td>1784265</td>\n",
       "      <td>202054</td>\n",
       "      <td>Cash loans</td>\n",
       "      <td>31924.395</td>\n",
       "      <td>337500.0</td>\n",
       "      <td>404055.0</td>\n",
       "      <td>NaN</td>\n",
       "      <td>337500.0</td>\n",
       "      <td>THURSDAY</td>\n",
       "      <td>9</td>\n",
       "      <td>...</td>\n",
       "      <td>XNA</td>\n",
       "      <td>24.0</td>\n",
       "      <td>high</td>\n",
       "      <td>Cash Street: high</td>\n",
       "      <td>NaN</td>\n",
       "      <td>NaN</td>\n",
       "      <td>NaN</td>\n",
       "      <td>NaN</td>\n",
       "      <td>NaN</td>\n",
       "      <td>NaN</td>\n",
       "    </tr>\n",
       "    <tr>\n",
       "      <th>5</th>\n",
       "      <td>1383531</td>\n",
       "      <td>199383</td>\n",
       "      <td>Cash loans</td>\n",
       "      <td>23703.930</td>\n",
       "      <td>315000.0</td>\n",
       "      <td>340573.5</td>\n",
       "      <td>NaN</td>\n",
       "      <td>315000.0</td>\n",
       "      <td>SATURDAY</td>\n",
       "      <td>8</td>\n",
       "      <td>...</td>\n",
       "      <td>XNA</td>\n",
       "      <td>18.0</td>\n",
       "      <td>low_normal</td>\n",
       "      <td>Cash X-Sell: low</td>\n",
       "      <td>365243.0</td>\n",
       "      <td>-654.0</td>\n",
       "      <td>-144.0</td>\n",
       "      <td>-144.0</td>\n",
       "      <td>-137.0</td>\n",
       "      <td>1.0</td>\n",
       "    </tr>\n",
       "    <tr>\n",
       "      <th>6</th>\n",
       "      <td>2315218</td>\n",
       "      <td>175704</td>\n",
       "      <td>Cash loans</td>\n",
       "      <td>NaN</td>\n",
       "      <td>0.0</td>\n",
       "      <td>0.0</td>\n",
       "      <td>NaN</td>\n",
       "      <td>NaN</td>\n",
       "      <td>TUESDAY</td>\n",
       "      <td>11</td>\n",
       "      <td>...</td>\n",
       "      <td>XNA</td>\n",
       "      <td>NaN</td>\n",
       "      <td>XNA</td>\n",
       "      <td>Cash</td>\n",
       "      <td>NaN</td>\n",
       "      <td>NaN</td>\n",
       "      <td>NaN</td>\n",
       "      <td>NaN</td>\n",
       "      <td>NaN</td>\n",
       "      <td>NaN</td>\n",
       "    </tr>\n",
       "    <tr>\n",
       "      <th>7</th>\n",
       "      <td>1656711</td>\n",
       "      <td>296299</td>\n",
       "      <td>Cash loans</td>\n",
       "      <td>NaN</td>\n",
       "      <td>0.0</td>\n",
       "      <td>0.0</td>\n",
       "      <td>NaN</td>\n",
       "      <td>NaN</td>\n",
       "      <td>MONDAY</td>\n",
       "      <td>7</td>\n",
       "      <td>...</td>\n",
       "      <td>XNA</td>\n",
       "      <td>NaN</td>\n",
       "      <td>XNA</td>\n",
       "      <td>Cash</td>\n",
       "      <td>NaN</td>\n",
       "      <td>NaN</td>\n",
       "      <td>NaN</td>\n",
       "      <td>NaN</td>\n",
       "      <td>NaN</td>\n",
       "      <td>NaN</td>\n",
       "    </tr>\n",
       "    <tr>\n",
       "      <th>8</th>\n",
       "      <td>2367563</td>\n",
       "      <td>342292</td>\n",
       "      <td>Cash loans</td>\n",
       "      <td>NaN</td>\n",
       "      <td>0.0</td>\n",
       "      <td>0.0</td>\n",
       "      <td>NaN</td>\n",
       "      <td>NaN</td>\n",
       "      <td>MONDAY</td>\n",
       "      <td>15</td>\n",
       "      <td>...</td>\n",
       "      <td>XNA</td>\n",
       "      <td>NaN</td>\n",
       "      <td>XNA</td>\n",
       "      <td>Cash</td>\n",
       "      <td>NaN</td>\n",
       "      <td>NaN</td>\n",
       "      <td>NaN</td>\n",
       "      <td>NaN</td>\n",
       "      <td>NaN</td>\n",
       "      <td>NaN</td>\n",
       "    </tr>\n",
       "    <tr>\n",
       "      <th>9</th>\n",
       "      <td>2579447</td>\n",
       "      <td>334349</td>\n",
       "      <td>Cash loans</td>\n",
       "      <td>NaN</td>\n",
       "      <td>0.0</td>\n",
       "      <td>0.0</td>\n",
       "      <td>NaN</td>\n",
       "      <td>NaN</td>\n",
       "      <td>SATURDAY</td>\n",
       "      <td>15</td>\n",
       "      <td>...</td>\n",
       "      <td>XNA</td>\n",
       "      <td>NaN</td>\n",
       "      <td>XNA</td>\n",
       "      <td>Cash</td>\n",
       "      <td>NaN</td>\n",
       "      <td>NaN</td>\n",
       "      <td>NaN</td>\n",
       "      <td>NaN</td>\n",
       "      <td>NaN</td>\n",
       "      <td>NaN</td>\n",
       "    </tr>\n",
       "  </tbody>\n",
       "</table>\n",
       "<p>10 rows × 37 columns</p>\n",
       "</div>"
      ],
      "text/plain": [
       "   SK_ID_PREV  SK_ID_CURR NAME_CONTRACT_TYPE  AMT_ANNUITY  AMT_APPLICATION  \\\n",
       "0     2030495      271877     Consumer loans     1730.430          17145.0   \n",
       "1     2802425      108129         Cash loans    25188.615         607500.0   \n",
       "2     2523466      122040         Cash loans    15060.735         112500.0   \n",
       "3     2819243      176158         Cash loans    47041.335         450000.0   \n",
       "4     1784265      202054         Cash loans    31924.395         337500.0   \n",
       "5     1383531      199383         Cash loans    23703.930         315000.0   \n",
       "6     2315218      175704         Cash loans          NaN              0.0   \n",
       "7     1656711      296299         Cash loans          NaN              0.0   \n",
       "8     2367563      342292         Cash loans          NaN              0.0   \n",
       "9     2579447      334349         Cash loans          NaN              0.0   \n",
       "\n",
       "   AMT_CREDIT  AMT_DOWN_PAYMENT  AMT_GOODS_PRICE WEEKDAY_APPR_PROCESS_START  \\\n",
       "0     17145.0               0.0          17145.0                   SATURDAY   \n",
       "1    679671.0               NaN         607500.0                   THURSDAY   \n",
       "2    136444.5               NaN         112500.0                    TUESDAY   \n",
       "3    470790.0               NaN         450000.0                     MONDAY   \n",
       "4    404055.0               NaN         337500.0                   THURSDAY   \n",
       "5    340573.5               NaN         315000.0                   SATURDAY   \n",
       "6         0.0               NaN              NaN                    TUESDAY   \n",
       "7         0.0               NaN              NaN                     MONDAY   \n",
       "8         0.0               NaN              NaN                     MONDAY   \n",
       "9         0.0               NaN              NaN                   SATURDAY   \n",
       "\n",
       "   HOUR_APPR_PROCESS_START  ... NAME_SELLER_INDUSTRY  CNT_PAYMENT  \\\n",
       "0                       15  ...         Connectivity         12.0   \n",
       "1                       11  ...                  XNA         36.0   \n",
       "2                       11  ...                  XNA         12.0   \n",
       "3                        7  ...                  XNA         12.0   \n",
       "4                        9  ...                  XNA         24.0   \n",
       "5                        8  ...                  XNA         18.0   \n",
       "6                       11  ...                  XNA          NaN   \n",
       "7                        7  ...                  XNA          NaN   \n",
       "8                       15  ...                  XNA          NaN   \n",
       "9                       15  ...                  XNA          NaN   \n",
       "\n",
       "   NAME_YIELD_GROUP       PRODUCT_COMBINATION  DAYS_FIRST_DRAWING  \\\n",
       "0            middle  POS mobile with interest            365243.0   \n",
       "1        low_action          Cash X-Sell: low            365243.0   \n",
       "2              high         Cash X-Sell: high            365243.0   \n",
       "3            middle       Cash X-Sell: middle            365243.0   \n",
       "4              high         Cash Street: high                 NaN   \n",
       "5        low_normal          Cash X-Sell: low            365243.0   \n",
       "6               XNA                      Cash                 NaN   \n",
       "7               XNA                      Cash                 NaN   \n",
       "8               XNA                      Cash                 NaN   \n",
       "9               XNA                      Cash                 NaN   \n",
       "\n",
       "  DAYS_FIRST_DUE DAYS_LAST_DUE_1ST_VERSION  DAYS_LAST_DUE DAYS_TERMINATION  \\\n",
       "0          -42.0                     300.0          -42.0            -37.0   \n",
       "1         -134.0                     916.0       365243.0         365243.0   \n",
       "2         -271.0                      59.0       365243.0         365243.0   \n",
       "3         -482.0                    -152.0         -182.0           -177.0   \n",
       "4            NaN                       NaN            NaN              NaN   \n",
       "5         -654.0                    -144.0         -144.0           -137.0   \n",
       "6            NaN                       NaN            NaN              NaN   \n",
       "7            NaN                       NaN            NaN              NaN   \n",
       "8            NaN                       NaN            NaN              NaN   \n",
       "9            NaN                       NaN            NaN              NaN   \n",
       "\n",
       "  NFLAG_INSURED_ON_APPROVAL  \n",
       "0                       0.0  \n",
       "1                       1.0  \n",
       "2                       1.0  \n",
       "3                       1.0  \n",
       "4                       NaN  \n",
       "5                       1.0  \n",
       "6                       NaN  \n",
       "7                       NaN  \n",
       "8                       NaN  \n",
       "9                       NaN  \n",
       "\n",
       "[10 rows x 37 columns]"
      ]
     },
     "execution_count": 30,
     "metadata": {},
     "output_type": "execute_result"
    }
   ],
   "source": [
    "prevapplications.head(10)"
   ]
  },
  {
   "cell_type": "markdown",
   "metadata": {},
   "source": [
    "### Column data types"
   ]
  },
  {
   "cell_type": "code",
   "execution_count": 31,
   "metadata": {
    "ExecuteTime": {
     "end_time": "2020-04-18T06:13:29.519872Z",
     "start_time": "2020-04-18T06:13:29.507878Z"
    },
    "scrolled": true
   },
   "outputs": [
    {
     "data": {
      "text/plain": [
       "SK_ID_PREV                       int64\n",
       "SK_ID_CURR                       int64\n",
       "NAME_CONTRACT_TYPE              object\n",
       "AMT_ANNUITY                    float64\n",
       "AMT_APPLICATION                float64\n",
       "AMT_CREDIT                     float64\n",
       "AMT_DOWN_PAYMENT               float64\n",
       "AMT_GOODS_PRICE                float64\n",
       "WEEKDAY_APPR_PROCESS_START      object\n",
       "HOUR_APPR_PROCESS_START          int64\n",
       "FLAG_LAST_APPL_PER_CONTRACT     object\n",
       "NFLAG_LAST_APPL_IN_DAY           int64\n",
       "RATE_DOWN_PAYMENT              float64\n",
       "RATE_INTEREST_PRIMARY          float64\n",
       "RATE_INTEREST_PRIVILEGED       float64\n",
       "NAME_CASH_LOAN_PURPOSE          object\n",
       "NAME_CONTRACT_STATUS            object\n",
       "DAYS_DECISION                    int64\n",
       "NAME_PAYMENT_TYPE               object\n",
       "CODE_REJECT_REASON              object\n",
       "NAME_TYPE_SUITE                 object\n",
       "NAME_CLIENT_TYPE                object\n",
       "NAME_GOODS_CATEGORY             object\n",
       "NAME_PORTFOLIO                  object\n",
       "NAME_PRODUCT_TYPE               object\n",
       "CHANNEL_TYPE                    object\n",
       "SELLERPLACE_AREA                 int64\n",
       "NAME_SELLER_INDUSTRY            object\n",
       "CNT_PAYMENT                    float64\n",
       "NAME_YIELD_GROUP                object\n",
       "PRODUCT_COMBINATION             object\n",
       "DAYS_FIRST_DRAWING             float64\n",
       "DAYS_FIRST_DUE                 float64\n",
       "DAYS_LAST_DUE_1ST_VERSION      float64\n",
       "DAYS_LAST_DUE                  float64\n",
       "DAYS_TERMINATION               float64\n",
       "NFLAG_INSURED_ON_APPROVAL      float64\n",
       "dtype: object"
      ]
     },
     "execution_count": 31,
     "metadata": {},
     "output_type": "execute_result"
    }
   ],
   "source": [
    "prevapplications.dtypes"
   ]
  },
  {
   "cell_type": "markdown",
   "metadata": {},
   "source": [
    "### Data summary"
   ]
  },
  {
   "cell_type": "code",
   "execution_count": 32,
   "metadata": {
    "ExecuteTime": {
     "end_time": "2020-04-18T06:26:55.619854Z",
     "start_time": "2020-04-18T06:26:55.364005Z"
    }
   },
   "outputs": [
    {
     "name": "stdout",
     "output_type": "stream",
     "text": [
      "Previous applications data available for: 338857  loans in our sample\n",
      "data available for  1670214  unique previous applications\n"
     ]
    }
   ],
   "source": [
    "print('Previous applications data available for:',prevapplications['SK_ID_CURR'].nunique(),' loans in our sample')\n",
    "print('data available for ',prevapplications['SK_ID_PREV'].nunique(),' unique previous applications')"
   ]
  },
  {
   "cell_type": "markdown",
   "metadata": {},
   "source": [
    "## Past Home Credit loans instalments data"
   ]
  },
  {
   "cell_type": "markdown",
   "metadata": {},
   "source": [
    "### Data description"
   ]
  },
  {
   "cell_type": "markdown",
   "metadata": {},
   "source": [
    "* Repayment history for the previously disbursed credits in Home Credit related to the loans in our sample.\n",
    "* There is a) one row for every payment that was made plus b) one row each for missed payment.\n",
    "* One row is equivalent to one installment corresponding to one payment of one previous Home Credit credit related to loans in our sample."
   ]
  },
  {
   "cell_type": "code",
   "execution_count": 86,
   "metadata": {
    "ExecuteTime": {
     "end_time": "2020-04-19T02:03:51.357474Z",
     "start_time": "2020-04-19T02:03:38.449287Z"
    }
   },
   "outputs": [
    {
     "data": {
      "text/html": [
       "<div>\n",
       "<style scoped>\n",
       "    .dataframe tbody tr th:only-of-type {\n",
       "        vertical-align: middle;\n",
       "    }\n",
       "\n",
       "    .dataframe tbody tr th {\n",
       "        vertical-align: top;\n",
       "    }\n",
       "\n",
       "    .dataframe thead th {\n",
       "        text-align: right;\n",
       "    }\n",
       "</style>\n",
       "<table border=\"1\" class=\"dataframe\">\n",
       "  <thead>\n",
       "    <tr style=\"text-align: right;\">\n",
       "      <th></th>\n",
       "      <th>SK_ID_PREV</th>\n",
       "      <th>SK_ID_CURR</th>\n",
       "      <th>NUM_INSTALMENT_VERSION</th>\n",
       "      <th>NUM_INSTALMENT_NUMBER</th>\n",
       "      <th>DAYS_INSTALMENT</th>\n",
       "      <th>DAYS_ENTRY_PAYMENT</th>\n",
       "      <th>AMT_INSTALMENT</th>\n",
       "      <th>AMT_PAYMENT</th>\n",
       "    </tr>\n",
       "  </thead>\n",
       "  <tbody>\n",
       "    <tr>\n",
       "      <th>0</th>\n",
       "      <td>1054186</td>\n",
       "      <td>161674</td>\n",
       "      <td>1.0</td>\n",
       "      <td>6</td>\n",
       "      <td>-1180.0</td>\n",
       "      <td>-1187.0</td>\n",
       "      <td>6948.360</td>\n",
       "      <td>6948.360</td>\n",
       "    </tr>\n",
       "    <tr>\n",
       "      <th>1</th>\n",
       "      <td>1330831</td>\n",
       "      <td>151639</td>\n",
       "      <td>0.0</td>\n",
       "      <td>34</td>\n",
       "      <td>-2156.0</td>\n",
       "      <td>-2156.0</td>\n",
       "      <td>1716.525</td>\n",
       "      <td>1716.525</td>\n",
       "    </tr>\n",
       "    <tr>\n",
       "      <th>2</th>\n",
       "      <td>2085231</td>\n",
       "      <td>193053</td>\n",
       "      <td>2.0</td>\n",
       "      <td>1</td>\n",
       "      <td>-63.0</td>\n",
       "      <td>-63.0</td>\n",
       "      <td>25425.000</td>\n",
       "      <td>25425.000</td>\n",
       "    </tr>\n",
       "    <tr>\n",
       "      <th>3</th>\n",
       "      <td>2452527</td>\n",
       "      <td>199697</td>\n",
       "      <td>1.0</td>\n",
       "      <td>3</td>\n",
       "      <td>-2418.0</td>\n",
       "      <td>-2426.0</td>\n",
       "      <td>24350.130</td>\n",
       "      <td>24350.130</td>\n",
       "    </tr>\n",
       "    <tr>\n",
       "      <th>4</th>\n",
       "      <td>2714724</td>\n",
       "      <td>167756</td>\n",
       "      <td>1.0</td>\n",
       "      <td>2</td>\n",
       "      <td>-1383.0</td>\n",
       "      <td>-1366.0</td>\n",
       "      <td>2165.040</td>\n",
       "      <td>2160.585</td>\n",
       "    </tr>\n",
       "    <tr>\n",
       "      <th>5</th>\n",
       "      <td>1137312</td>\n",
       "      <td>164489</td>\n",
       "      <td>1.0</td>\n",
       "      <td>12</td>\n",
       "      <td>-1384.0</td>\n",
       "      <td>-1417.0</td>\n",
       "      <td>5970.375</td>\n",
       "      <td>5970.375</td>\n",
       "    </tr>\n",
       "    <tr>\n",
       "      <th>6</th>\n",
       "      <td>2234264</td>\n",
       "      <td>184693</td>\n",
       "      <td>4.0</td>\n",
       "      <td>11</td>\n",
       "      <td>-349.0</td>\n",
       "      <td>-352.0</td>\n",
       "      <td>29432.295</td>\n",
       "      <td>29432.295</td>\n",
       "    </tr>\n",
       "    <tr>\n",
       "      <th>7</th>\n",
       "      <td>1818599</td>\n",
       "      <td>111420</td>\n",
       "      <td>2.0</td>\n",
       "      <td>4</td>\n",
       "      <td>-968.0</td>\n",
       "      <td>-994.0</td>\n",
       "      <td>17862.165</td>\n",
       "      <td>17862.165</td>\n",
       "    </tr>\n",
       "    <tr>\n",
       "      <th>8</th>\n",
       "      <td>2723183</td>\n",
       "      <td>112102</td>\n",
       "      <td>0.0</td>\n",
       "      <td>14</td>\n",
       "      <td>-197.0</td>\n",
       "      <td>-197.0</td>\n",
       "      <td>70.740</td>\n",
       "      <td>70.740</td>\n",
       "    </tr>\n",
       "    <tr>\n",
       "      <th>9</th>\n",
       "      <td>1413990</td>\n",
       "      <td>109741</td>\n",
       "      <td>1.0</td>\n",
       "      <td>4</td>\n",
       "      <td>-570.0</td>\n",
       "      <td>-609.0</td>\n",
       "      <td>14308.470</td>\n",
       "      <td>14308.470</td>\n",
       "    </tr>\n",
       "  </tbody>\n",
       "</table>\n",
       "</div>"
      ],
      "text/plain": [
       "   SK_ID_PREV  SK_ID_CURR  NUM_INSTALMENT_VERSION  NUM_INSTALMENT_NUMBER  \\\n",
       "0     1054186      161674                     1.0                      6   \n",
       "1     1330831      151639                     0.0                     34   \n",
       "2     2085231      193053                     2.0                      1   \n",
       "3     2452527      199697                     1.0                      3   \n",
       "4     2714724      167756                     1.0                      2   \n",
       "5     1137312      164489                     1.0                     12   \n",
       "6     2234264      184693                     4.0                     11   \n",
       "7     1818599      111420                     2.0                      4   \n",
       "8     2723183      112102                     0.0                     14   \n",
       "9     1413990      109741                     1.0                      4   \n",
       "\n",
       "   DAYS_INSTALMENT  DAYS_ENTRY_PAYMENT  AMT_INSTALMENT  AMT_PAYMENT  \n",
       "0          -1180.0             -1187.0        6948.360     6948.360  \n",
       "1          -2156.0             -2156.0        1716.525     1716.525  \n",
       "2            -63.0               -63.0       25425.000    25425.000  \n",
       "3          -2418.0             -2426.0       24350.130    24350.130  \n",
       "4          -1383.0             -1366.0        2165.040     2160.585  \n",
       "5          -1384.0             -1417.0        5970.375     5970.375  \n",
       "6           -349.0              -352.0       29432.295    29432.295  \n",
       "7           -968.0              -994.0       17862.165    17862.165  \n",
       "8           -197.0              -197.0          70.740       70.740  \n",
       "9           -570.0              -609.0       14308.470    14308.470  "
      ]
     },
     "execution_count": 86,
     "metadata": {},
     "output_type": "execute_result"
    }
   ],
   "source": [
    "paymenthistorydata = pd.read_csv('installments_payments.csv')\n",
    "paymenthistorydata.head(10)"
   ]
  },
  {
   "cell_type": "markdown",
   "metadata": {},
   "source": [
    "### Column data types"
   ]
  },
  {
   "cell_type": "code",
   "execution_count": 26,
   "metadata": {
    "ExecuteTime": {
     "end_time": "2020-04-18T06:03:42.334597Z",
     "start_time": "2020-04-18T06:03:42.324607Z"
    }
   },
   "outputs": [
    {
     "data": {
      "text/plain": [
       "SK_ID_PREV                  int64\n",
       "SK_ID_CURR                  int64\n",
       "NUM_INSTALMENT_VERSION    float64\n",
       "NUM_INSTALMENT_NUMBER       int64\n",
       "DAYS_INSTALMENT           float64\n",
       "DAYS_ENTRY_PAYMENT        float64\n",
       "AMT_INSTALMENT            float64\n",
       "AMT_PAYMENT               float64\n",
       "dtype: object"
      ]
     },
     "execution_count": 26,
     "metadata": {},
     "output_type": "execute_result"
    }
   ],
   "source": [
    "paymenthistorydata.dtypes"
   ]
  },
  {
   "cell_type": "markdown",
   "metadata": {},
   "source": [
    "### Data Summary"
   ]
  },
  {
   "cell_type": "code",
   "execution_count": 27,
   "metadata": {
    "ExecuteTime": {
     "end_time": "2020-04-18T06:05:56.257397Z",
     "start_time": "2020-04-18T06:05:55.231992Z"
    }
   },
   "outputs": [
    {
     "name": "stdout",
     "output_type": "stream",
     "text": [
      "Prev. home credit loans instalments data available for: 339587  loans in our sample\n",
      "instalments data available for  997752  unique prev home credit loans\n"
     ]
    }
   ],
   "source": [
    "print('Prev. home credit loans instalments data available for:',paymenthistorydata['SK_ID_CURR'].nunique(),' loans in our sample')\n",
    "print('instalments data available for ',paymenthistorydata['SK_ID_PREV'].nunique(),' unique prev home credit loans')"
   ]
  },
  {
   "cell_type": "code",
   "execution_count": 28,
   "metadata": {
    "ExecuteTime": {
     "end_time": "2020-04-18T06:07:15.649112Z",
     "start_time": "2020-04-18T06:07:11.732366Z"
    }
   },
   "outputs": [
    {
     "data": {
      "text/html": [
       "<div>\n",
       "<style scoped>\n",
       "    .dataframe tbody tr th:only-of-type {\n",
       "        vertical-align: middle;\n",
       "    }\n",
       "\n",
       "    .dataframe tbody tr th {\n",
       "        vertical-align: top;\n",
       "    }\n",
       "\n",
       "    .dataframe thead th {\n",
       "        text-align: right;\n",
       "    }\n",
       "</style>\n",
       "<table border=\"1\" class=\"dataframe\">\n",
       "  <thead>\n",
       "    <tr style=\"text-align: right;\">\n",
       "      <th></th>\n",
       "      <th>NUM_INSTALMENT_VERSION</th>\n",
       "      <th>NUM_INSTALMENT_NUMBER</th>\n",
       "      <th>DAYS_INSTALMENT</th>\n",
       "      <th>DAYS_ENTRY_PAYMENT</th>\n",
       "      <th>AMT_INSTALMENT</th>\n",
       "      <th>AMT_PAYMENT</th>\n",
       "    </tr>\n",
       "  </thead>\n",
       "  <tbody>\n",
       "    <tr>\n",
       "      <th>count</th>\n",
       "      <td>1.360540e+07</td>\n",
       "      <td>1.360540e+07</td>\n",
       "      <td>1.360540e+07</td>\n",
       "      <td>1.360250e+07</td>\n",
       "      <td>1.360540e+07</td>\n",
       "      <td>1.360250e+07</td>\n",
       "    </tr>\n",
       "    <tr>\n",
       "      <th>mean</th>\n",
       "      <td>8.566373e-01</td>\n",
       "      <td>1.887090e+01</td>\n",
       "      <td>-1.042270e+03</td>\n",
       "      <td>-1.051114e+03</td>\n",
       "      <td>1.705091e+04</td>\n",
       "      <td>1.723822e+04</td>\n",
       "    </tr>\n",
       "    <tr>\n",
       "      <th>std</th>\n",
       "      <td>1.035216e+00</td>\n",
       "      <td>2.666407e+01</td>\n",
       "      <td>8.009463e+02</td>\n",
       "      <td>8.005859e+02</td>\n",
       "      <td>5.057025e+04</td>\n",
       "      <td>5.473578e+04</td>\n",
       "    </tr>\n",
       "    <tr>\n",
       "      <th>min</th>\n",
       "      <td>0.000000e+00</td>\n",
       "      <td>1.000000e+00</td>\n",
       "      <td>-2.922000e+03</td>\n",
       "      <td>-4.921000e+03</td>\n",
       "      <td>0.000000e+00</td>\n",
       "      <td>0.000000e+00</td>\n",
       "    </tr>\n",
       "    <tr>\n",
       "      <th>25%</th>\n",
       "      <td>0.000000e+00</td>\n",
       "      <td>4.000000e+00</td>\n",
       "      <td>-1.654000e+03</td>\n",
       "      <td>-1.662000e+03</td>\n",
       "      <td>4.226085e+03</td>\n",
       "      <td>3.398265e+03</td>\n",
       "    </tr>\n",
       "    <tr>\n",
       "      <th>50%</th>\n",
       "      <td>1.000000e+00</td>\n",
       "      <td>8.000000e+00</td>\n",
       "      <td>-8.180000e+02</td>\n",
       "      <td>-8.270000e+02</td>\n",
       "      <td>8.884080e+03</td>\n",
       "      <td>8.125515e+03</td>\n",
       "    </tr>\n",
       "    <tr>\n",
       "      <th>75%</th>\n",
       "      <td>1.000000e+00</td>\n",
       "      <td>1.900000e+01</td>\n",
       "      <td>-3.610000e+02</td>\n",
       "      <td>-3.700000e+02</td>\n",
       "      <td>1.671021e+04</td>\n",
       "      <td>1.610842e+04</td>\n",
       "    </tr>\n",
       "    <tr>\n",
       "      <th>max</th>\n",
       "      <td>1.780000e+02</td>\n",
       "      <td>2.770000e+02</td>\n",
       "      <td>-1.000000e+00</td>\n",
       "      <td>-1.000000e+00</td>\n",
       "      <td>3.771488e+06</td>\n",
       "      <td>3.771488e+06</td>\n",
       "    </tr>\n",
       "  </tbody>\n",
       "</table>\n",
       "</div>"
      ],
      "text/plain": [
       "       NUM_INSTALMENT_VERSION  NUM_INSTALMENT_NUMBER  DAYS_INSTALMENT  \\\n",
       "count            1.360540e+07           1.360540e+07     1.360540e+07   \n",
       "mean             8.566373e-01           1.887090e+01    -1.042270e+03   \n",
       "std              1.035216e+00           2.666407e+01     8.009463e+02   \n",
       "min              0.000000e+00           1.000000e+00    -2.922000e+03   \n",
       "25%              0.000000e+00           4.000000e+00    -1.654000e+03   \n",
       "50%              1.000000e+00           8.000000e+00    -8.180000e+02   \n",
       "75%              1.000000e+00           1.900000e+01    -3.610000e+02   \n",
       "max              1.780000e+02           2.770000e+02    -1.000000e+00   \n",
       "\n",
       "       DAYS_ENTRY_PAYMENT  AMT_INSTALMENT   AMT_PAYMENT  \n",
       "count        1.360250e+07    1.360540e+07  1.360250e+07  \n",
       "mean        -1.051114e+03    1.705091e+04  1.723822e+04  \n",
       "std          8.005859e+02    5.057025e+04  5.473578e+04  \n",
       "min         -4.921000e+03    0.000000e+00  0.000000e+00  \n",
       "25%         -1.662000e+03    4.226085e+03  3.398265e+03  \n",
       "50%         -8.270000e+02    8.884080e+03  8.125515e+03  \n",
       "75%         -3.700000e+02    1.671021e+04  1.610842e+04  \n",
       "max         -1.000000e+00    3.771488e+06  3.771488e+06  "
      ]
     },
     "execution_count": 28,
     "metadata": {},
     "output_type": "execute_result"
    }
   ],
   "source": [
    "paymenthistorydata.drop(['SK_ID_CURR','SK_ID_PREV'],axis=1).describe(include=\"all\")"
   ]
  },
  {
   "cell_type": "markdown",
   "metadata": {},
   "source": [
    "# Feature Engineering Part I"
   ]
  },
  {
   "cell_type": "markdown",
   "metadata": {},
   "source": [
    "## Feature creation from different datasets"
   ]
  },
  {
   "cell_type": "markdown",
   "metadata": {},
   "source": [
    "In this section, we will create predictor variables using data in each of the above datasets. This is the largest and the most detailed section of this project. At the end of this section we will have:\n",
    "\n",
    "* A dataframe of aggregated features for each of the above datasets, unique at a SK_ID_CURR level (loan ID present in the training sample)\n",
    "* Summary of each feature for sanity check\n",
    "\n",
    "Features created by the end of this section will be later combined into a single master dataset which will be used for variable selection"
   ]
  },
  {
   "cell_type": "markdown",
   "metadata": {},
   "source": [
    "### Bureau Data"
   ]
  },
  {
   "cell_type": "code",
   "execution_count": 34,
   "metadata": {
    "ExecuteTime": {
     "end_time": "2020-04-18T17:32:20.769339Z",
     "start_time": "2020-04-18T17:32:20.760340Z"
    }
   },
   "outputs": [
    {
     "data": {
      "text/plain": [
       "(307511, 1)"
      ]
     },
     "execution_count": 34,
     "metadata": {},
     "output_type": "execute_result"
    }
   ],
   "source": [
    "loan_sample = apptrain[['SK_ID_CURR']]\n",
    "loan_sample.shape"
   ]
  },
  {
   "cell_type": "code",
   "execution_count": 21,
   "metadata": {
    "ExecuteTime": {
     "end_time": "2020-04-18T16:47:17.492750Z",
     "start_time": "2020-04-18T16:47:13.653946Z"
    }
   },
   "outputs": [
    {
     "data": {
      "text/plain": [
       "(305811, 2)"
      ]
     },
     "execution_count": 21,
     "metadata": {},
     "output_type": "execute_result"
    }
   ],
   "source": [
    "# Calculate number of active and closed bureau credit lines associated with the loans in sample\n",
    "\n",
    "T1 = bureau.rename(columns={'CREDIT_ACTIVE':'bureaulinestatus'}).groupby(['SK_ID_CURR','bureaulinestatus'])[[\"SK_ID_BUREAU\"]].nunique().reset_index().rename(columns={'SK_ID_BUREAU':'count'}).pivot(index='SK_ID_CURR',columns='bureaulinestatus',values='count').reset_index().replace(np.nan,0)\n",
    "print(T1.shape)\n",
    "\n",
    "#No of days before the current application when another credit was applied\n",
    "\n",
    "T2 = bureau.sort_values(by = [\"SK_ID_CURR\",\"DAYS_CREDIT\"]).groupby([\"SK_ID_CURR\"],as_index = False).nth(-1)[[\"SK_ID_CURR\",\"DAYS_CREDIT\"]].rename(columns={'DAYS_CREDIT':'DaysRecentBurCredApplied'})\n",
    "print(T2.shape)\n",
    "\n",
    "# Avg application interval between bureau credit lines\n",
    "\n",
    "copy = bureau[['SK_ID_CURR','SK_ID_BUREAU','DAYS_CREDIT','CREDIT_ACTIVE','AMT_CREDIT_MAX_OVERDUE','CNT_CREDIT_PROLONG','AMT_CREDIT_SUM_DEBT','CREDIT_TYPE']].copy()\n",
    "copy['application_interval'] = copy.groupby('SK_ID_CURR')['DAYS_CREDIT'].diff(-1)\n",
    "missing_iter = iter(copy.groupby('SK_ID_CURR')['DAYS_CREDIT'].max())\n",
    "copy['application_interval'] = copy['application_interval'].map(lambda x: -next(missing_iter) if np.isnan(x) else -x)\n",
    "T3 = copy.groupby('SK_ID_CURR')[['application_interval']].mean().reset_index()\n",
    "print(T3.shape)\n",
    "\n",
    "# Maximum overdue days in any bureau credit line\n",
    "T4 = bureau.groupby('SK_ID_CURR')[['CREDIT_DAY_OVERDUE']].max().reset_index().rename(columns={'CREDIT_DAY_OVERDUE':'max_CREDIT_DAY_OVERDUE'})\n",
    "print(T4.shape)\n",
    "\n",
    "# Total overdue days for all active bureau credit lines\n",
    "T5 = bureau.loc[bureau.CREDIT_ACTIVE=='Active'].groupby('SK_ID_CURR')[['CREDIT_DAY_OVERDUE']].sum().reset_index().rename(columns={'CREDIT_DAY_OVERDUE':'Act_Total_Credit_Days_Overdue'})\n",
    "T5 = pd.merge(loan_sample,T5,how='left',on='SK_ID_CURR').replace(np.nan,0)\n",
    "print(T5.shape)\n",
    "\n",
    "# Max overdue days for active bureau lines\n",
    "T6 = bureau.loc[bureau.CREDIT_ACTIVE=='Active'].groupby('SK_ID_CURR')[['CREDIT_DAY_OVERDUE']].max().reset_index().rename(columns={'CREDIT_DAY_OVERDUE':'Act_Max_Credit_Days_Overdue'})\n",
    "T6 = pd.merge(loan_sample,T6,how='left',on='SK_ID_CURR').replace(np.nan,0)\n",
    "print(T6.shape)\n",
    "\n",
    "# Sum of maximum overdue amount of bureau credit lines weighted by recency of line\n",
    "\n",
    "copy['ADJ_DAYS'] = (copy.DAYS_CREDIT - copy.DAYS_CREDIT.min()) / (copy.DAYS_CREDIT.max() - copy.DAYS_CREDIT.min()) + 0.5\n",
    "copy['ADJ_AMT_CREDIT_MAX_OVERDUE'] = copy.ADJ_DAYS * copy.AMT_CREDIT_MAX_OVERDUE\n",
    "T7 = copy.groupby('SK_ID_CURR')[['ADJ_AMT_CREDIT_MAX_OVERDUE']].sum().reset_index()\n",
    "print(T7.shape)\n",
    "\n",
    "# Avg. max overdue amount weighted by recency\n",
    "T8 = copy.groupby('SK_ID_CURR')[['ADJ_AMT_CREDIT_MAX_OVERDUE']].mean().reset_index()\n",
    "print(T8.shape)\n",
    "\n",
    "# Of all the bureau credit lines, what is the maximum overdue amount, for each loan sample\n",
    "T9 = copy.groupby('SK_ID_CURR')[['AMT_CREDIT_MAX_OVERDUE']].max().reset_index()\n",
    "print(T9.shape)\n",
    "\n",
    "# Average number of times bureau credit lines were prolonged - for each loan sample - calculate weighted avg (by recency)\n",
    "copy['ADJ_CNT_CREDIT_PROLONG'] = copy.ADJ_DAYS * copy.CNT_CREDIT_PROLONG\n",
    "T10 = copy.groupby('SK_ID_CURR')[['ADJ_CNT_CREDIT_PROLONG']].mean().reset_index().replace(np.nan,0) # use adj days\n",
    "print(T10.shape)\n",
    "\n",
    "# Maximum number of times a bureau credit line was prolonged -  for each loan sample\n",
    "T11 = copy.groupby('SK_ID_CURR')[['CNT_CREDIT_PROLONG']].max().reset_index().replace(np.nan,0)\n",
    "print(T11.shape)\n",
    "\n",
    "# Total debt of all active bureau credit lines - for each loan sample - weighted by recency\n",
    "copy['ADJ_AMT_CREDIT_SUM_DEBT'] = copy.ADJ_DAYS * bureau.AMT_CREDIT_SUM_DEBT\n",
    "T12 = copy[copy['CREDIT_ACTIVE'] == 'Active'].groupby('SK_ID_CURR')[['ADJ_AMT_CREDIT_SUM_DEBT']].sum().reset_index().rename(columns={'ADJ_AMT_CREDIT_SUM_DEBT':'ACT_ADJ_AMT_CREDIT_SUM_DEBT'})\n",
    "T12 = pd.merge(loan_sample,T12,how='left',on='SK_ID_CURR').replace(np.nan,0)\n",
    "print(T12.shape)\n",
    "\n",
    "# Avg debt of all active bureau credit lines - for each loan sample - weighted by recency\n",
    "T13 = copy[copy['CREDIT_ACTIVE'] == 'Active'].groupby('SK_ID_CURR')[['ADJ_AMT_CREDIT_SUM_DEBT']].mean().reset_index().rename(columns={'ADJ_AMT_CREDIT_SUM_DEBT':'ACT_AVG_ADJ_AMT_CREDIT_SUM_DEBT'})\n",
    "T13 = pd.merge(loan_sample,T13,how='left',on='SK_ID_CURR').replace(np.nan,0)\n",
    "print(T13.shape)\n",
    "\n",
    "# Max debt of all active bureau credit lines - for each loan sample\n",
    "T14 = copy[copy['CREDIT_ACTIVE'] == 'Active'].groupby('SK_ID_CURR')[['AMT_CREDIT_SUM_DEBT']].max().reset_index().rename(columns={'AMT_CREDIT_SUM_DEBT':'ACT_MAX_AMT_CREDIT_SUM_DEBT'})\n",
    "T14 = pd.merge(loan_sample,T14,how='left',on='SK_ID_CURR').replace(np.nan,0)\n",
    "print(T14.shape)\n",
    "\n",
    "# Avg debt of all bureau credit lines - for each loan sample - weighted by recency\n",
    "T15 = copy.groupby('SK_ID_CURR')[['ADJ_AMT_CREDIT_SUM_DEBT']].mean().reset_index().rename(columns={'ADJ_AMT_CREDIT_SUM_DEBT':'AVG_ADJ_AMT_CREDIT_SUM_DEBT'})\n",
    "T15 = pd.merge(loan_sample,T15,how='left',on='SK_ID_CURR').replace(np.nan,0)\n",
    "print(T15.shape)\n",
    "\n",
    "# Max debt of all bureau credit lines - for each loan sample\n",
    "T16 = copy.groupby('SK_ID_CURR')[['AMT_CREDIT_SUM_DEBT']].max().reset_index().rename(columns={'AMT_CREDIT_SUM_DEBT':'MAX_AMT_CREDIT_SUM_DEBT'})\n",
    "T16 = pd.merge(loan_sample,T16,how='left',on='SK_ID_CURR').replace(np.nan,0)\n",
    "print(T16.shape)\n",
    "\n",
    "\n",
    "# Active accounts debt to credit ratio\n",
    "interim_df = bureau.loc[bureau.CREDIT_ACTIVE=='Active'].groupby('SK_ID_CURR').agg({'AMT_CREDIT_SUM':['sum'],'AMT_CREDIT_SUM_DEBT':['sum'],'AMT_CREDIT_SUM_LIMIT':['sum'],'AMT_CREDIT_SUM_OVERDUE':['sum']}).reset_index()\n",
    "interim_df.columns = interim_df.columns.get_level_values(0)\n",
    "interim_df['ActDebtToCreditRatio'] = interim_df['AMT_CREDIT_SUM_DEBT']/interim_df['AMT_CREDIT_SUM']\n",
    "interim_df['ActOverdueToDebtRatio'] = interim_df['AMT_CREDIT_SUM_OVERDUE']/interim_df['AMT_CREDIT_SUM_DEBT']\n",
    "interim_df = interim_df.replace(np.nan,0)\n",
    "T17 = interim_df[['SK_ID_CURR','AMT_CREDIT_SUM_LIMIT','AMT_CREDIT_SUM_OVERDUE','ActDebtToCreditRatio','ActOverdueToDebtRatio']].rename(columns={'AMT_CREDIT_SUM_LIMIT':'ACT_AMT_CREDIT_SUM_LIMIT','AMT_CREDIT_SUM_OVERDUE':'ACT_AMT_CREDIT_SUM_OVERDUE'})\n",
    "T17 = pd.merge(loan_sample,T17,how='left',on='SK_ID_CURR').replace(np.nan,0)\n",
    "print(T17.shape)\n",
    "\n",
    "# How recently did the credit bureau info get updated - for each loan in the sample\n",
    "T18 = bureau.groupby('SK_ID_CURR')[['DAYS_CREDIT_UPDATE']].max().reset_index()\n",
    "print(T18.shape)\n",
    "\n",
    "\n",
    "# Total bureau active credit lines per credit type\n",
    "copy['credittypenew'] = copy[\"CREDIT_TYPE\"].apply(lambda x: \"Otherconsumerloan\" if x in ('Consumer credit','Car loan','Microloan','Another type of loan','Unknown type of loan','Cash loan (non-earmarked)','Loan for purchase of shares (margin lending)') else ('commercialloan' if x in ('Loan for business development','Loan for working capital replenishment','Loan for the purchase of equipment','Real estate loan','Interbank credit','Mobile operator loan') else x))\n",
    "actcredlinesdata = copy[copy[\"CREDIT_ACTIVE\"] == \"Active\"].groupby([\"SK_ID_CURR\",\"credittypenew\"])[[\"SK_ID_BUREAU\"]].nunique().reset_index() \n",
    "actcredlinesdata['credittypenew'] = actcredlinesdata['credittypenew'].apply(lambda x: x + \"_actcredlines\")\n",
    "T19 = actcredlinesdata.pivot(index = \"SK_ID_CURR\", columns = \"credittypenew\",values = \"SK_ID_BUREAU\").reset_index()\n",
    "T19 = pd.merge(loan_sample,T19,how='left',on='SK_ID_CURR').replace(np.nan,0)\n",
    "print(T19.shape)\n",
    "T19.head()\n",
    "\n",
    "\n",
    "\n"
   ]
  },
  {
   "cell_type": "code",
   "execution_count": 72,
   "metadata": {
    "ExecuteTime": {
     "end_time": "2020-04-18T21:18:48.022144Z",
     "start_time": "2020-04-18T21:18:47.009722Z"
    }
   },
   "outputs": [
    {
     "name": "stdout",
     "output_type": "stream",
     "text": [
      "(307511, 2)\n",
      "(307511, 2)\n"
     ]
    }
   ],
   "source": [
    "# T5 = bureau.loc[bureau.CREDIT_ACTIVE=='Active'].groupby('SK_ID_CURR')[['CREDIT_DAY_OVERDUE']].sum().reset_index().rename(columns={'CREDIT_DAY_OVERDUE':'Act_Total_Credit_Days_Overdue'})\n",
    "# T5 = pd.merge(loan_sample,T5,how='left',on='SK_ID_CURR').replace(np.nan,0)\n",
    "# print(T5.shape)\n",
    "\n",
    "# # Max overdue days for active bureau lines\n",
    "# T6 = bureau.loc[bureau.CREDIT_ACTIVE=='Active'].groupby('SK_ID_CURR')[['CREDIT_DAY_OVERDUE']].max().reset_index().rename(columns={'CREDIT_DAY_OVERDUE':'Act_Max_Credit_Days_Overdue'})\n",
    "# T6 = pd.merge(loan_sample,T6,how='left',on='SK_ID_CURR').replace(np.nan,0)\n",
    "# print(T6.shape)"
   ]
  },
  {
   "cell_type": "code",
   "execution_count": 74,
   "metadata": {
    "ExecuteTime": {
     "end_time": "2020-04-18T21:19:35.701007Z",
     "start_time": "2020-04-18T21:19:31.816229Z"
    }
   },
   "outputs": [
    {
     "name": "stdout",
     "output_type": "stream",
     "text": [
      "(307511, 29)\n"
     ]
    },
    {
     "data": {
      "text/html": [
       "<div>\n",
       "<style scoped>\n",
       "    .dataframe tbody tr th:only-of-type {\n",
       "        vertical-align: middle;\n",
       "    }\n",
       "\n",
       "    .dataframe tbody tr th {\n",
       "        vertical-align: top;\n",
       "    }\n",
       "\n",
       "    .dataframe thead th {\n",
       "        text-align: right;\n",
       "    }\n",
       "</style>\n",
       "<table border=\"1\" class=\"dataframe\">\n",
       "  <thead>\n",
       "    <tr style=\"text-align: right;\">\n",
       "      <th></th>\n",
       "      <th>SK_ID_CURR</th>\n",
       "      <th>Active</th>\n",
       "      <th>Bad debt</th>\n",
       "      <th>Closed</th>\n",
       "      <th>Sold</th>\n",
       "      <th>DaysRecentBurCredApplied</th>\n",
       "      <th>application_interval</th>\n",
       "      <th>max_CREDIT_DAY_OVERDUE</th>\n",
       "      <th>Act_Total_Credit_Days_Overdue</th>\n",
       "      <th>Act_Max_Credit_Days_Overdue</th>\n",
       "      <th>...</th>\n",
       "      <th>MAX_AMT_CREDIT_SUM_DEBT</th>\n",
       "      <th>ACT_AMT_CREDIT_SUM_LIMIT</th>\n",
       "      <th>ACT_AMT_CREDIT_SUM_OVERDUE</th>\n",
       "      <th>ActDebtToCreditRatio</th>\n",
       "      <th>ActOverdueToDebtRatio</th>\n",
       "      <th>DAYS_CREDIT_UPDATE</th>\n",
       "      <th>Credit card_actcredlines</th>\n",
       "      <th>Mortgage_actcredlines</th>\n",
       "      <th>Otherconsumerloan_actcredlines</th>\n",
       "      <th>commercialloan_actcredlines</th>\n",
       "    </tr>\n",
       "  </thead>\n",
       "  <tbody>\n",
       "    <tr>\n",
       "      <th>0</th>\n",
       "      <td>100002</td>\n",
       "      <td>2.0</td>\n",
       "      <td>0.0</td>\n",
       "      <td>6.0</td>\n",
       "      <td>0.0</td>\n",
       "      <td>-103.0</td>\n",
       "      <td>179.625000</td>\n",
       "      <td>0.0</td>\n",
       "      <td>0.0</td>\n",
       "      <td>0.0</td>\n",
       "      <td>...</td>\n",
       "      <td>245781.0</td>\n",
       "      <td>31988.565</td>\n",
       "      <td>0.0</td>\n",
       "      <td>0.509931</td>\n",
       "      <td>0.0</td>\n",
       "      <td>-7.0</td>\n",
       "      <td>1.0</td>\n",
       "      <td>0.0</td>\n",
       "      <td>1.0</td>\n",
       "      <td>0.0</td>\n",
       "    </tr>\n",
       "    <tr>\n",
       "      <th>1</th>\n",
       "      <td>100003</td>\n",
       "      <td>1.0</td>\n",
       "      <td>0.0</td>\n",
       "      <td>3.0</td>\n",
       "      <td>0.0</td>\n",
       "      <td>-606.0</td>\n",
       "      <td>646.500000</td>\n",
       "      <td>0.0</td>\n",
       "      <td>0.0</td>\n",
       "      <td>0.0</td>\n",
       "      <td>...</td>\n",
       "      <td>0.0</td>\n",
       "      <td>810000.000</td>\n",
       "      <td>0.0</td>\n",
       "      <td>0.000000</td>\n",
       "      <td>0.0</td>\n",
       "      <td>-43.0</td>\n",
       "      <td>1.0</td>\n",
       "      <td>0.0</td>\n",
       "      <td>0.0</td>\n",
       "      <td>0.0</td>\n",
       "    </tr>\n",
       "    <tr>\n",
       "      <th>2</th>\n",
       "      <td>100004</td>\n",
       "      <td>0.0</td>\n",
       "      <td>0.0</td>\n",
       "      <td>2.0</td>\n",
       "      <td>0.0</td>\n",
       "      <td>-408.0</td>\n",
       "      <td>663.000000</td>\n",
       "      <td>0.0</td>\n",
       "      <td>0.0</td>\n",
       "      <td>0.0</td>\n",
       "      <td>...</td>\n",
       "      <td>0.0</td>\n",
       "      <td>0.000</td>\n",
       "      <td>0.0</td>\n",
       "      <td>0.000000</td>\n",
       "      <td>0.0</td>\n",
       "      <td>-382.0</td>\n",
       "      <td>0.0</td>\n",
       "      <td>0.0</td>\n",
       "      <td>0.0</td>\n",
       "      <td>0.0</td>\n",
       "    </tr>\n",
       "    <tr>\n",
       "      <th>3</th>\n",
       "      <td>100006</td>\n",
       "      <td>0.0</td>\n",
       "      <td>0.0</td>\n",
       "      <td>0.0</td>\n",
       "      <td>0.0</td>\n",
       "      <td>0.0</td>\n",
       "      <td>0.000000</td>\n",
       "      <td>0.0</td>\n",
       "      <td>0.0</td>\n",
       "      <td>0.0</td>\n",
       "      <td>...</td>\n",
       "      <td>0.0</td>\n",
       "      <td>0.000</td>\n",
       "      <td>0.0</td>\n",
       "      <td>0.000000</td>\n",
       "      <td>0.0</td>\n",
       "      <td>0.0</td>\n",
       "      <td>0.0</td>\n",
       "      <td>0.0</td>\n",
       "      <td>0.0</td>\n",
       "      <td>0.0</td>\n",
       "    </tr>\n",
       "    <tr>\n",
       "      <th>4</th>\n",
       "      <td>100007</td>\n",
       "      <td>0.0</td>\n",
       "      <td>0.0</td>\n",
       "      <td>1.0</td>\n",
       "      <td>0.0</td>\n",
       "      <td>-1149.0</td>\n",
       "      <td>1149.000000</td>\n",
       "      <td>0.0</td>\n",
       "      <td>0.0</td>\n",
       "      <td>0.0</td>\n",
       "      <td>...</td>\n",
       "      <td>0.0</td>\n",
       "      <td>0.000</td>\n",
       "      <td>0.0</td>\n",
       "      <td>0.000000</td>\n",
       "      <td>0.0</td>\n",
       "      <td>-783.0</td>\n",
       "      <td>0.0</td>\n",
       "      <td>0.0</td>\n",
       "      <td>0.0</td>\n",
       "      <td>0.0</td>\n",
       "    </tr>\n",
       "    <tr>\n",
       "      <th>5</th>\n",
       "      <td>100008</td>\n",
       "      <td>1.0</td>\n",
       "      <td>0.0</td>\n",
       "      <td>2.0</td>\n",
       "      <td>0.0</td>\n",
       "      <td>-78.0</td>\n",
       "      <td>365.666667</td>\n",
       "      <td>0.0</td>\n",
       "      <td>0.0</td>\n",
       "      <td>0.0</td>\n",
       "      <td>...</td>\n",
       "      <td>240057.0</td>\n",
       "      <td>0.000</td>\n",
       "      <td>0.0</td>\n",
       "      <td>0.897054</td>\n",
       "      <td>0.0</td>\n",
       "      <td>-16.0</td>\n",
       "      <td>0.0</td>\n",
       "      <td>0.0</td>\n",
       "      <td>1.0</td>\n",
       "      <td>0.0</td>\n",
       "    </tr>\n",
       "    <tr>\n",
       "      <th>6</th>\n",
       "      <td>100009</td>\n",
       "      <td>4.0</td>\n",
       "      <td>0.0</td>\n",
       "      <td>14.0</td>\n",
       "      <td>0.0</td>\n",
       "      <td>-239.0</td>\n",
       "      <td>160.111111</td>\n",
       "      <td>0.0</td>\n",
       "      <td>0.0</td>\n",
       "      <td>0.0</td>\n",
       "      <td>...</td>\n",
       "      <td>557959.5</td>\n",
       "      <td>0.000</td>\n",
       "      <td>0.0</td>\n",
       "      <td>0.705274</td>\n",
       "      <td>0.0</td>\n",
       "      <td>-23.0</td>\n",
       "      <td>2.0</td>\n",
       "      <td>0.0</td>\n",
       "      <td>2.0</td>\n",
       "      <td>0.0</td>\n",
       "    </tr>\n",
       "    <tr>\n",
       "      <th>7</th>\n",
       "      <td>100010</td>\n",
       "      <td>1.0</td>\n",
       "      <td>0.0</td>\n",
       "      <td>1.0</td>\n",
       "      <td>0.0</td>\n",
       "      <td>-1138.0</td>\n",
       "      <td>1370.500000</td>\n",
       "      <td>0.0</td>\n",
       "      <td>0.0</td>\n",
       "      <td>0.0</td>\n",
       "      <td>...</td>\n",
       "      <td>348007.5</td>\n",
       "      <td>0.000</td>\n",
       "      <td>0.0</td>\n",
       "      <td>0.515567</td>\n",
       "      <td>0.0</td>\n",
       "      <td>-18.0</td>\n",
       "      <td>0.0</td>\n",
       "      <td>0.0</td>\n",
       "      <td>1.0</td>\n",
       "      <td>0.0</td>\n",
       "    </tr>\n",
       "    <tr>\n",
       "      <th>8</th>\n",
       "      <td>100011</td>\n",
       "      <td>0.0</td>\n",
       "      <td>0.0</td>\n",
       "      <td>4.0</td>\n",
       "      <td>0.0</td>\n",
       "      <td>-1309.0</td>\n",
       "      <td>627.000000</td>\n",
       "      <td>0.0</td>\n",
       "      <td>0.0</td>\n",
       "      <td>0.0</td>\n",
       "      <td>...</td>\n",
       "      <td>0.0</td>\n",
       "      <td>0.000</td>\n",
       "      <td>0.0</td>\n",
       "      <td>0.000000</td>\n",
       "      <td>0.0</td>\n",
       "      <td>-965.0</td>\n",
       "      <td>0.0</td>\n",
       "      <td>0.0</td>\n",
       "      <td>0.0</td>\n",
       "      <td>0.0</td>\n",
       "    </tr>\n",
       "    <tr>\n",
       "      <th>9</th>\n",
       "      <td>100012</td>\n",
       "      <td>0.0</td>\n",
       "      <td>0.0</td>\n",
       "      <td>0.0</td>\n",
       "      <td>0.0</td>\n",
       "      <td>0.0</td>\n",
       "      <td>0.000000</td>\n",
       "      <td>0.0</td>\n",
       "      <td>0.0</td>\n",
       "      <td>0.0</td>\n",
       "      <td>...</td>\n",
       "      <td>0.0</td>\n",
       "      <td>0.000</td>\n",
       "      <td>0.0</td>\n",
       "      <td>0.000000</td>\n",
       "      <td>0.0</td>\n",
       "      <td>0.0</td>\n",
       "      <td>0.0</td>\n",
       "      <td>0.0</td>\n",
       "      <td>0.0</td>\n",
       "      <td>0.0</td>\n",
       "    </tr>\n",
       "  </tbody>\n",
       "</table>\n",
       "<p>10 rows × 29 columns</p>\n",
       "</div>"
      ],
      "text/plain": [
       "   SK_ID_CURR  Active  Bad debt  Closed  Sold  DaysRecentBurCredApplied  \\\n",
       "0      100002     2.0       0.0     6.0   0.0                    -103.0   \n",
       "1      100003     1.0       0.0     3.0   0.0                    -606.0   \n",
       "2      100004     0.0       0.0     2.0   0.0                    -408.0   \n",
       "3      100006     0.0       0.0     0.0   0.0                       0.0   \n",
       "4      100007     0.0       0.0     1.0   0.0                   -1149.0   \n",
       "5      100008     1.0       0.0     2.0   0.0                     -78.0   \n",
       "6      100009     4.0       0.0    14.0   0.0                    -239.0   \n",
       "7      100010     1.0       0.0     1.0   0.0                   -1138.0   \n",
       "8      100011     0.0       0.0     4.0   0.0                   -1309.0   \n",
       "9      100012     0.0       0.0     0.0   0.0                       0.0   \n",
       "\n",
       "   application_interval  max_CREDIT_DAY_OVERDUE  \\\n",
       "0            179.625000                     0.0   \n",
       "1            646.500000                     0.0   \n",
       "2            663.000000                     0.0   \n",
       "3              0.000000                     0.0   \n",
       "4           1149.000000                     0.0   \n",
       "5            365.666667                     0.0   \n",
       "6            160.111111                     0.0   \n",
       "7           1370.500000                     0.0   \n",
       "8            627.000000                     0.0   \n",
       "9              0.000000                     0.0   \n",
       "\n",
       "   Act_Total_Credit_Days_Overdue  Act_Max_Credit_Days_Overdue  ...  \\\n",
       "0                            0.0                          0.0  ...   \n",
       "1                            0.0                          0.0  ...   \n",
       "2                            0.0                          0.0  ...   \n",
       "3                            0.0                          0.0  ...   \n",
       "4                            0.0                          0.0  ...   \n",
       "5                            0.0                          0.0  ...   \n",
       "6                            0.0                          0.0  ...   \n",
       "7                            0.0                          0.0  ...   \n",
       "8                            0.0                          0.0  ...   \n",
       "9                            0.0                          0.0  ...   \n",
       "\n",
       "   MAX_AMT_CREDIT_SUM_DEBT  ACT_AMT_CREDIT_SUM_LIMIT  \\\n",
       "0                 245781.0                 31988.565   \n",
       "1                      0.0                810000.000   \n",
       "2                      0.0                     0.000   \n",
       "3                      0.0                     0.000   \n",
       "4                      0.0                     0.000   \n",
       "5                 240057.0                     0.000   \n",
       "6                 557959.5                     0.000   \n",
       "7                 348007.5                     0.000   \n",
       "8                      0.0                     0.000   \n",
       "9                      0.0                     0.000   \n",
       "\n",
       "   ACT_AMT_CREDIT_SUM_OVERDUE  ActDebtToCreditRatio  ActOverdueToDebtRatio  \\\n",
       "0                         0.0              0.509931                    0.0   \n",
       "1                         0.0              0.000000                    0.0   \n",
       "2                         0.0              0.000000                    0.0   \n",
       "3                         0.0              0.000000                    0.0   \n",
       "4                         0.0              0.000000                    0.0   \n",
       "5                         0.0              0.897054                    0.0   \n",
       "6                         0.0              0.705274                    0.0   \n",
       "7                         0.0              0.515567                    0.0   \n",
       "8                         0.0              0.000000                    0.0   \n",
       "9                         0.0              0.000000                    0.0   \n",
       "\n",
       "   DAYS_CREDIT_UPDATE  Credit card_actcredlines  Mortgage_actcredlines  \\\n",
       "0                -7.0                       1.0                    0.0   \n",
       "1               -43.0                       1.0                    0.0   \n",
       "2              -382.0                       0.0                    0.0   \n",
       "3                 0.0                       0.0                    0.0   \n",
       "4              -783.0                       0.0                    0.0   \n",
       "5               -16.0                       0.0                    0.0   \n",
       "6               -23.0                       2.0                    0.0   \n",
       "7               -18.0                       0.0                    0.0   \n",
       "8              -965.0                       0.0                    0.0   \n",
       "9                 0.0                       0.0                    0.0   \n",
       "\n",
       "   Otherconsumerloan_actcredlines  commercialloan_actcredlines  \n",
       "0                             1.0                          0.0  \n",
       "1                             0.0                          0.0  \n",
       "2                             0.0                          0.0  \n",
       "3                             0.0                          0.0  \n",
       "4                             0.0                          0.0  \n",
       "5                             1.0                          0.0  \n",
       "6                             2.0                          0.0  \n",
       "7                             1.0                          0.0  \n",
       "8                             0.0                          0.0  \n",
       "9                             0.0                          0.0  \n",
       "\n",
       "[10 rows x 29 columns]"
      ]
     },
     "execution_count": 74,
     "metadata": {},
     "output_type": "execute_result"
    }
   ],
   "source": [
    "dflist = [loan_sample,T1,T2,T3,T4,T5,T6,T7,T8,T9,T10,T11,T12,T13,T14,T15,T16,T17,T18,T19]\n",
    "joinkey = 'SK_ID_CURR'\n",
    "\n",
    "bureau_features_merged = multiple_left_join(dflist,joinkey).replace(np.nan,0)\n",
    "\n",
    "print(bureau_features_merged.shape)\n",
    "bureau_features_merged.head(10)"
   ]
  },
  {
   "cell_type": "code",
   "execution_count": 85,
   "metadata": {
    "ExecuteTime": {
     "end_time": "2020-04-19T01:58:58.418951Z",
     "start_time": "2020-04-19T01:58:57.911246Z"
    }
   },
   "outputs": [
    {
     "data": {
      "text/html": [
       "<div>\n",
       "<style scoped>\n",
       "    .dataframe tbody tr th:only-of-type {\n",
       "        vertical-align: middle;\n",
       "    }\n",
       "\n",
       "    .dataframe tbody tr th {\n",
       "        vertical-align: top;\n",
       "    }\n",
       "\n",
       "    .dataframe thead th {\n",
       "        text-align: right;\n",
       "    }\n",
       "</style>\n",
       "<table border=\"1\" class=\"dataframe\">\n",
       "  <thead>\n",
       "    <tr style=\"text-align: right;\">\n",
       "      <th></th>\n",
       "      <th>Active</th>\n",
       "      <th>Bad debt</th>\n",
       "      <th>Closed</th>\n",
       "      <th>Sold</th>\n",
       "      <th>DaysRecentBurCredApplied</th>\n",
       "      <th>application_interval</th>\n",
       "      <th>max_CREDIT_DAY_OVERDUE</th>\n",
       "      <th>Act_Total_Credit_Days_Overdue</th>\n",
       "      <th>Act_Max_Credit_Days_Overdue</th>\n",
       "      <th>ADJ_AMT_CREDIT_MAX_OVERDUE_x</th>\n",
       "      <th>...</th>\n",
       "      <th>MAX_AMT_CREDIT_SUM_DEBT</th>\n",
       "      <th>ACT_AMT_CREDIT_SUM_LIMIT</th>\n",
       "      <th>ACT_AMT_CREDIT_SUM_OVERDUE</th>\n",
       "      <th>ActDebtToCreditRatio</th>\n",
       "      <th>ActOverdueToDebtRatio</th>\n",
       "      <th>DAYS_CREDIT_UPDATE</th>\n",
       "      <th>Credit card_actcredlines</th>\n",
       "      <th>Mortgage_actcredlines</th>\n",
       "      <th>Otherconsumerloan_actcredlines</th>\n",
       "      <th>commercialloan_actcredlines</th>\n",
       "    </tr>\n",
       "  </thead>\n",
       "  <tbody>\n",
       "    <tr>\n",
       "      <th>count</th>\n",
       "      <td>307511.000000</td>\n",
       "      <td>307511.000000</td>\n",
       "      <td>307511.000000</td>\n",
       "      <td>307511.000000</td>\n",
       "      <td>307511.000000</td>\n",
       "      <td>307511.000000</td>\n",
       "      <td>307511.000000</td>\n",
       "      <td>307511.000000</td>\n",
       "      <td>307511.000000</td>\n",
       "      <td>3.075110e+05</td>\n",
       "      <td>...</td>\n",
       "      <td>3.075110e+05</td>\n",
       "      <td>3.075110e+05</td>\n",
       "      <td>3.075110e+05</td>\n",
       "      <td>3.075110e+05</td>\n",
       "      <td>3.075110e+05</td>\n",
       "      <td>307511.000000</td>\n",
       "      <td>307511.000000</td>\n",
       "      <td>307511.000000</td>\n",
       "      <td>307511.000000</td>\n",
       "      <td>307511.000000</td>\n",
       "    </tr>\n",
       "    <tr>\n",
       "      <th>mean</th>\n",
       "      <td>1.762275</td>\n",
       "      <td>0.000065</td>\n",
       "      <td>2.984391</td>\n",
       "      <td>0.018383</td>\n",
       "      <td>-419.255152</td>\n",
       "      <td>400.662128</td>\n",
       "      <td>4.089542</td>\n",
       "      <td>3.447496</td>\n",
       "      <td>3.326499</td>\n",
       "      <td>5.857682e+03</td>\n",
       "      <td>...</td>\n",
       "      <td>4.344722e+05</td>\n",
       "      <td>1.742709e+04</td>\n",
       "      <td>1.671665e+02</td>\n",
       "      <td>NaN</td>\n",
       "      <td>inf</td>\n",
       "      <td>-120.810241</td>\n",
       "      <td>0.801116</td>\n",
       "      <td>0.035404</td>\n",
       "      <td>0.924100</td>\n",
       "      <td>0.001655</td>\n",
       "    </tr>\n",
       "    <tr>\n",
       "      <th>std</th>\n",
       "      <td>1.804891</td>\n",
       "      <td>0.008064</td>\n",
       "      <td>3.359529</td>\n",
       "      <td>0.146403</td>\n",
       "      <td>526.292236</td>\n",
       "      <td>429.961922</td>\n",
       "      <td>82.531621</td>\n",
       "      <td>76.067471</td>\n",
       "      <td>73.348144</td>\n",
       "      <td>1.857542e+05</td>\n",
       "      <td>...</td>\n",
       "      <td>1.241232e+06</td>\n",
       "      <td>8.410842e+04</td>\n",
       "      <td>1.395571e+04</td>\n",
       "      <td>NaN</td>\n",
       "      <td>NaN</td>\n",
       "      <td>326.645995</td>\n",
       "      <td>1.112614</td>\n",
       "      <td>0.192841</td>\n",
       "      <td>1.128412</td>\n",
       "      <td>0.043135</td>\n",
       "    </tr>\n",
       "    <tr>\n",
       "      <th>min</th>\n",
       "      <td>0.000000</td>\n",
       "      <td>0.000000</td>\n",
       "      <td>0.000000</td>\n",
       "      <td>0.000000</td>\n",
       "      <td>-2922.000000</td>\n",
       "      <td>0.000000</td>\n",
       "      <td>0.000000</td>\n",
       "      <td>0.000000</td>\n",
       "      <td>0.000000</td>\n",
       "      <td>0.000000e+00</td>\n",
       "      <td>...</td>\n",
       "      <td>-2.595965e+04</td>\n",
       "      <td>-5.798541e+05</td>\n",
       "      <td>0.000000e+00</td>\n",
       "      <td>-inf</td>\n",
       "      <td>-3.969900e-01</td>\n",
       "      <td>-41890.000000</td>\n",
       "      <td>0.000000</td>\n",
       "      <td>0.000000</td>\n",
       "      <td>0.000000</td>\n",
       "      <td>0.000000</td>\n",
       "    </tr>\n",
       "    <tr>\n",
       "      <th>25%</th>\n",
       "      <td>0.000000</td>\n",
       "      <td>0.000000</td>\n",
       "      <td>0.000000</td>\n",
       "      <td>0.000000</td>\n",
       "      <td>-537.000000</td>\n",
       "      <td>155.600000</td>\n",
       "      <td>0.000000</td>\n",
       "      <td>0.000000</td>\n",
       "      <td>0.000000</td>\n",
       "      <td>0.000000e+00</td>\n",
       "      <td>...</td>\n",
       "      <td>0.000000e+00</td>\n",
       "      <td>0.000000e+00</td>\n",
       "      <td>0.000000e+00</td>\n",
       "      <td>0.000000e+00</td>\n",
       "      <td>0.000000e+00</td>\n",
       "      <td>-38.000000</td>\n",
       "      <td>0.000000</td>\n",
       "      <td>0.000000</td>\n",
       "      <td>0.000000</td>\n",
       "      <td>0.000000</td>\n",
       "    </tr>\n",
       "    <tr>\n",
       "      <th>50%</th>\n",
       "      <td>1.000000</td>\n",
       "      <td>0.000000</td>\n",
       "      <td>2.000000</td>\n",
       "      <td>0.000000</td>\n",
       "      <td>-239.000000</td>\n",
       "      <td>289.555556</td>\n",
       "      <td>0.000000</td>\n",
       "      <td>0.000000</td>\n",
       "      <td>0.000000</td>\n",
       "      <td>0.000000e+00</td>\n",
       "      <td>...</td>\n",
       "      <td>7.670700e+04</td>\n",
       "      <td>0.000000e+00</td>\n",
       "      <td>0.000000e+00</td>\n",
       "      <td>2.803600e-01</td>\n",
       "      <td>0.000000e+00</td>\n",
       "      <td>-15.000000</td>\n",
       "      <td>0.000000</td>\n",
       "      <td>0.000000</td>\n",
       "      <td>1.000000</td>\n",
       "      <td>0.000000</td>\n",
       "    </tr>\n",
       "    <tr>\n",
       "      <th>75%</th>\n",
       "      <td>3.000000</td>\n",
       "      <td>0.000000</td>\n",
       "      <td>4.000000</td>\n",
       "      <td>0.000000</td>\n",
       "      <td>-80.000000</td>\n",
       "      <td>500.800000</td>\n",
       "      <td>0.000000</td>\n",
       "      <td>0.000000</td>\n",
       "      <td>0.000000</td>\n",
       "      <td>0.000000e+00</td>\n",
       "      <td>...</td>\n",
       "      <td>3.941550e+05</td>\n",
       "      <td>0.000000e+00</td>\n",
       "      <td>0.000000e+00</td>\n",
       "      <td>7.254506e-01</td>\n",
       "      <td>0.000000e+00</td>\n",
       "      <td>-6.000000</td>\n",
       "      <td>1.000000</td>\n",
       "      <td>0.000000</td>\n",
       "      <td>1.000000</td>\n",
       "      <td>0.000000</td>\n",
       "    </tr>\n",
       "    <tr>\n",
       "      <th>max</th>\n",
       "      <td>32.000000</td>\n",
       "      <td>1.000000</td>\n",
       "      <td>108.000000</td>\n",
       "      <td>9.000000</td>\n",
       "      <td>0.000000</td>\n",
       "      <td>2922.000000</td>\n",
       "      <td>2792.000000</td>\n",
       "      <td>5250.000000</td>\n",
       "      <td>2770.000000</td>\n",
       "      <td>7.823776e+07</td>\n",
       "      <td>...</td>\n",
       "      <td>1.701000e+08</td>\n",
       "      <td>8.126600e+06</td>\n",
       "      <td>3.756681e+06</td>\n",
       "      <td>inf</td>\n",
       "      <td>inf</td>\n",
       "      <td>372.000000</td>\n",
       "      <td>17.000000</td>\n",
       "      <td>4.000000</td>\n",
       "      <td>17.000000</td>\n",
       "      <td>3.000000</td>\n",
       "    </tr>\n",
       "  </tbody>\n",
       "</table>\n",
       "<p>8 rows × 28 columns</p>\n",
       "</div>"
      ],
      "text/plain": [
       "              Active       Bad debt         Closed           Sold  \\\n",
       "count  307511.000000  307511.000000  307511.000000  307511.000000   \n",
       "mean        1.762275       0.000065       2.984391       0.018383   \n",
       "std         1.804891       0.008064       3.359529       0.146403   \n",
       "min         0.000000       0.000000       0.000000       0.000000   \n",
       "25%         0.000000       0.000000       0.000000       0.000000   \n",
       "50%         1.000000       0.000000       2.000000       0.000000   \n",
       "75%         3.000000       0.000000       4.000000       0.000000   \n",
       "max        32.000000       1.000000     108.000000       9.000000   \n",
       "\n",
       "       DaysRecentBurCredApplied  application_interval  max_CREDIT_DAY_OVERDUE  \\\n",
       "count             307511.000000         307511.000000           307511.000000   \n",
       "mean                -419.255152            400.662128                4.089542   \n",
       "std                  526.292236            429.961922               82.531621   \n",
       "min                -2922.000000              0.000000                0.000000   \n",
       "25%                 -537.000000            155.600000                0.000000   \n",
       "50%                 -239.000000            289.555556                0.000000   \n",
       "75%                  -80.000000            500.800000                0.000000   \n",
       "max                    0.000000           2922.000000             2792.000000   \n",
       "\n",
       "       Act_Total_Credit_Days_Overdue  Act_Max_Credit_Days_Overdue  \\\n",
       "count                  307511.000000                307511.000000   \n",
       "mean                        3.447496                     3.326499   \n",
       "std                        76.067471                    73.348144   \n",
       "min                         0.000000                     0.000000   \n",
       "25%                         0.000000                     0.000000   \n",
       "50%                         0.000000                     0.000000   \n",
       "75%                         0.000000                     0.000000   \n",
       "max                      5250.000000                  2770.000000   \n",
       "\n",
       "       ADJ_AMT_CREDIT_MAX_OVERDUE_x  ...  MAX_AMT_CREDIT_SUM_DEBT  \\\n",
       "count                  3.075110e+05  ...             3.075110e+05   \n",
       "mean                   5.857682e+03  ...             4.344722e+05   \n",
       "std                    1.857542e+05  ...             1.241232e+06   \n",
       "min                    0.000000e+00  ...            -2.595965e+04   \n",
       "25%                    0.000000e+00  ...             0.000000e+00   \n",
       "50%                    0.000000e+00  ...             7.670700e+04   \n",
       "75%                    0.000000e+00  ...             3.941550e+05   \n",
       "max                    7.823776e+07  ...             1.701000e+08   \n",
       "\n",
       "       ACT_AMT_CREDIT_SUM_LIMIT  ACT_AMT_CREDIT_SUM_OVERDUE  \\\n",
       "count              3.075110e+05                3.075110e+05   \n",
       "mean               1.742709e+04                1.671665e+02   \n",
       "std                8.410842e+04                1.395571e+04   \n",
       "min               -5.798541e+05                0.000000e+00   \n",
       "25%                0.000000e+00                0.000000e+00   \n",
       "50%                0.000000e+00                0.000000e+00   \n",
       "75%                0.000000e+00                0.000000e+00   \n",
       "max                8.126600e+06                3.756681e+06   \n",
       "\n",
       "       ActDebtToCreditRatio  ActOverdueToDebtRatio  DAYS_CREDIT_UPDATE  \\\n",
       "count          3.075110e+05           3.075110e+05       307511.000000   \n",
       "mean                    NaN                    inf         -120.810241   \n",
       "std                     NaN                    NaN          326.645995   \n",
       "min                    -inf          -3.969900e-01       -41890.000000   \n",
       "25%            0.000000e+00           0.000000e+00          -38.000000   \n",
       "50%            2.803600e-01           0.000000e+00          -15.000000   \n",
       "75%            7.254506e-01           0.000000e+00           -6.000000   \n",
       "max                     inf                    inf          372.000000   \n",
       "\n",
       "       Credit card_actcredlines  Mortgage_actcredlines  \\\n",
       "count             307511.000000          307511.000000   \n",
       "mean                   0.801116               0.035404   \n",
       "std                    1.112614               0.192841   \n",
       "min                    0.000000               0.000000   \n",
       "25%                    0.000000               0.000000   \n",
       "50%                    0.000000               0.000000   \n",
       "75%                    1.000000               0.000000   \n",
       "max                   17.000000               4.000000   \n",
       "\n",
       "       Otherconsumerloan_actcredlines  commercialloan_actcredlines  \n",
       "count                   307511.000000                307511.000000  \n",
       "mean                         0.924100                     0.001655  \n",
       "std                          1.128412                     0.043135  \n",
       "min                          0.000000                     0.000000  \n",
       "25%                          0.000000                     0.000000  \n",
       "50%                          1.000000                     0.000000  \n",
       "75%                          1.000000                     0.000000  \n",
       "max                         17.000000                     3.000000  \n",
       "\n",
       "[8 rows x 28 columns]"
      ]
     },
     "execution_count": 85,
     "metadata": {},
     "output_type": "execute_result"
    }
   ],
   "source": [
    "bureau_features_merged.drop(['SK_ID_CURR'],axis=1).describe(include=\"all\")"
   ]
  },
  {
   "cell_type": "markdown",
   "metadata": {},
   "source": [
    "### Bureau balance (DPD) data"
   ]
  },
  {
   "cell_type": "code",
   "execution_count": 83,
   "metadata": {
    "ExecuteTime": {
     "end_time": "2020-04-18T22:10:10.562721Z",
     "start_time": "2020-04-18T22:09:32.926692Z"
    }
   },
   "outputs": [
    {
     "name": "stdout",
     "output_type": "stream",
     "text": [
      "(307511, 33)\n"
     ]
    },
    {
     "data": {
      "text/html": [
       "<div>\n",
       "<style scoped>\n",
       "    .dataframe tbody tr th:only-of-type {\n",
       "        vertical-align: middle;\n",
       "    }\n",
       "\n",
       "    .dataframe tbody tr th {\n",
       "        vertical-align: top;\n",
       "    }\n",
       "\n",
       "    .dataframe thead th {\n",
       "        text-align: right;\n",
       "    }\n",
       "</style>\n",
       "<table border=\"1\" class=\"dataframe\">\n",
       "  <thead>\n",
       "    <tr style=\"text-align: right;\">\n",
       "      <th></th>\n",
       "      <th>SK_ID_CURR</th>\n",
       "      <th>Active</th>\n",
       "      <th>Bad debt</th>\n",
       "      <th>Closed</th>\n",
       "      <th>Sold</th>\n",
       "      <th>DaysRecentBurCredApplied</th>\n",
       "      <th>application_interval</th>\n",
       "      <th>max_CREDIT_DAY_OVERDUE</th>\n",
       "      <th>Act_Total_Credit_Days_Overdue</th>\n",
       "      <th>Act_Max_Credit_Days_Overdue</th>\n",
       "      <th>...</th>\n",
       "      <th>ActOverdueToDebtRatio</th>\n",
       "      <th>DAYS_CREDIT_UPDATE</th>\n",
       "      <th>Credit card_actcredlines</th>\n",
       "      <th>Mortgage_actcredlines</th>\n",
       "      <th>Otherconsumerloan_actcredlines</th>\n",
       "      <th>commercialloan_actcredlines</th>\n",
       "      <th>bb_AvgMonthCount</th>\n",
       "      <th>bb_TotalOverdueMonths</th>\n",
       "      <th>bb_TotalWrittenOff</th>\n",
       "      <th>bb_dpd_sum</th>\n",
       "    </tr>\n",
       "  </thead>\n",
       "  <tbody>\n",
       "    <tr>\n",
       "      <th>0</th>\n",
       "      <td>100002</td>\n",
       "      <td>2.0</td>\n",
       "      <td>0.0</td>\n",
       "      <td>6.0</td>\n",
       "      <td>0.0</td>\n",
       "      <td>-103.0</td>\n",
       "      <td>179.625000</td>\n",
       "      <td>0.0</td>\n",
       "      <td>0.0</td>\n",
       "      <td>0.0</td>\n",
       "      <td>...</td>\n",
       "      <td>0.0</td>\n",
       "      <td>-7.0</td>\n",
       "      <td>1.0</td>\n",
       "      <td>0.0</td>\n",
       "      <td>1.0</td>\n",
       "      <td>0.0</td>\n",
       "      <td>13.75</td>\n",
       "      <td>31.0</td>\n",
       "      <td>0.0</td>\n",
       "      <td>7.0</td>\n",
       "    </tr>\n",
       "    <tr>\n",
       "      <th>1</th>\n",
       "      <td>100003</td>\n",
       "      <td>1.0</td>\n",
       "      <td>0.0</td>\n",
       "      <td>3.0</td>\n",
       "      <td>0.0</td>\n",
       "      <td>-606.0</td>\n",
       "      <td>646.500000</td>\n",
       "      <td>0.0</td>\n",
       "      <td>0.0</td>\n",
       "      <td>0.0</td>\n",
       "      <td>...</td>\n",
       "      <td>0.0</td>\n",
       "      <td>-43.0</td>\n",
       "      <td>1.0</td>\n",
       "      <td>0.0</td>\n",
       "      <td>0.0</td>\n",
       "      <td>0.0</td>\n",
       "      <td>0.00</td>\n",
       "      <td>0.0</td>\n",
       "      <td>0.0</td>\n",
       "      <td>0.0</td>\n",
       "    </tr>\n",
       "    <tr>\n",
       "      <th>2</th>\n",
       "      <td>100004</td>\n",
       "      <td>0.0</td>\n",
       "      <td>0.0</td>\n",
       "      <td>2.0</td>\n",
       "      <td>0.0</td>\n",
       "      <td>-408.0</td>\n",
       "      <td>663.000000</td>\n",
       "      <td>0.0</td>\n",
       "      <td>0.0</td>\n",
       "      <td>0.0</td>\n",
       "      <td>...</td>\n",
       "      <td>0.0</td>\n",
       "      <td>-382.0</td>\n",
       "      <td>0.0</td>\n",
       "      <td>0.0</td>\n",
       "      <td>0.0</td>\n",
       "      <td>0.0</td>\n",
       "      <td>0.00</td>\n",
       "      <td>0.0</td>\n",
       "      <td>0.0</td>\n",
       "      <td>0.0</td>\n",
       "    </tr>\n",
       "    <tr>\n",
       "      <th>3</th>\n",
       "      <td>100006</td>\n",
       "      <td>0.0</td>\n",
       "      <td>0.0</td>\n",
       "      <td>0.0</td>\n",
       "      <td>0.0</td>\n",
       "      <td>0.0</td>\n",
       "      <td>0.000000</td>\n",
       "      <td>0.0</td>\n",
       "      <td>0.0</td>\n",
       "      <td>0.0</td>\n",
       "      <td>...</td>\n",
       "      <td>0.0</td>\n",
       "      <td>0.0</td>\n",
       "      <td>0.0</td>\n",
       "      <td>0.0</td>\n",
       "      <td>0.0</td>\n",
       "      <td>0.0</td>\n",
       "      <td>0.00</td>\n",
       "      <td>0.0</td>\n",
       "      <td>0.0</td>\n",
       "      <td>0.0</td>\n",
       "    </tr>\n",
       "    <tr>\n",
       "      <th>4</th>\n",
       "      <td>100007</td>\n",
       "      <td>0.0</td>\n",
       "      <td>0.0</td>\n",
       "      <td>1.0</td>\n",
       "      <td>0.0</td>\n",
       "      <td>-1149.0</td>\n",
       "      <td>1149.000000</td>\n",
       "      <td>0.0</td>\n",
       "      <td>0.0</td>\n",
       "      <td>0.0</td>\n",
       "      <td>...</td>\n",
       "      <td>0.0</td>\n",
       "      <td>-783.0</td>\n",
       "      <td>0.0</td>\n",
       "      <td>0.0</td>\n",
       "      <td>0.0</td>\n",
       "      <td>0.0</td>\n",
       "      <td>0.00</td>\n",
       "      <td>0.0</td>\n",
       "      <td>0.0</td>\n",
       "      <td>0.0</td>\n",
       "    </tr>\n",
       "    <tr>\n",
       "      <th>5</th>\n",
       "      <td>100008</td>\n",
       "      <td>1.0</td>\n",
       "      <td>0.0</td>\n",
       "      <td>2.0</td>\n",
       "      <td>0.0</td>\n",
       "      <td>-78.0</td>\n",
       "      <td>365.666667</td>\n",
       "      <td>0.0</td>\n",
       "      <td>0.0</td>\n",
       "      <td>0.0</td>\n",
       "      <td>...</td>\n",
       "      <td>0.0</td>\n",
       "      <td>-16.0</td>\n",
       "      <td>0.0</td>\n",
       "      <td>0.0</td>\n",
       "      <td>1.0</td>\n",
       "      <td>0.0</td>\n",
       "      <td>0.00</td>\n",
       "      <td>0.0</td>\n",
       "      <td>0.0</td>\n",
       "      <td>0.0</td>\n",
       "    </tr>\n",
       "    <tr>\n",
       "      <th>6</th>\n",
       "      <td>100009</td>\n",
       "      <td>4.0</td>\n",
       "      <td>0.0</td>\n",
       "      <td>14.0</td>\n",
       "      <td>0.0</td>\n",
       "      <td>-239.0</td>\n",
       "      <td>160.111111</td>\n",
       "      <td>0.0</td>\n",
       "      <td>0.0</td>\n",
       "      <td>0.0</td>\n",
       "      <td>...</td>\n",
       "      <td>0.0</td>\n",
       "      <td>-23.0</td>\n",
       "      <td>2.0</td>\n",
       "      <td>0.0</td>\n",
       "      <td>2.0</td>\n",
       "      <td>0.0</td>\n",
       "      <td>0.00</td>\n",
       "      <td>0.0</td>\n",
       "      <td>0.0</td>\n",
       "      <td>0.0</td>\n",
       "    </tr>\n",
       "    <tr>\n",
       "      <th>7</th>\n",
       "      <td>100010</td>\n",
       "      <td>1.0</td>\n",
       "      <td>0.0</td>\n",
       "      <td>1.0</td>\n",
       "      <td>0.0</td>\n",
       "      <td>-1138.0</td>\n",
       "      <td>1370.500000</td>\n",
       "      <td>0.0</td>\n",
       "      <td>0.0</td>\n",
       "      <td>0.0</td>\n",
       "      <td>...</td>\n",
       "      <td>0.0</td>\n",
       "      <td>-18.0</td>\n",
       "      <td>0.0</td>\n",
       "      <td>0.0</td>\n",
       "      <td>1.0</td>\n",
       "      <td>0.0</td>\n",
       "      <td>36.00</td>\n",
       "      <td>0.0</td>\n",
       "      <td>0.0</td>\n",
       "      <td>0.0</td>\n",
       "    </tr>\n",
       "    <tr>\n",
       "      <th>8</th>\n",
       "      <td>100011</td>\n",
       "      <td>0.0</td>\n",
       "      <td>0.0</td>\n",
       "      <td>4.0</td>\n",
       "      <td>0.0</td>\n",
       "      <td>-1309.0</td>\n",
       "      <td>627.000000</td>\n",
       "      <td>0.0</td>\n",
       "      <td>0.0</td>\n",
       "      <td>0.0</td>\n",
       "      <td>...</td>\n",
       "      <td>0.0</td>\n",
       "      <td>-965.0</td>\n",
       "      <td>0.0</td>\n",
       "      <td>0.0</td>\n",
       "      <td>0.0</td>\n",
       "      <td>0.0</td>\n",
       "      <td>0.00</td>\n",
       "      <td>0.0</td>\n",
       "      <td>0.0</td>\n",
       "      <td>0.0</td>\n",
       "    </tr>\n",
       "    <tr>\n",
       "      <th>9</th>\n",
       "      <td>100012</td>\n",
       "      <td>0.0</td>\n",
       "      <td>0.0</td>\n",
       "      <td>0.0</td>\n",
       "      <td>0.0</td>\n",
       "      <td>0.0</td>\n",
       "      <td>0.000000</td>\n",
       "      <td>0.0</td>\n",
       "      <td>0.0</td>\n",
       "      <td>0.0</td>\n",
       "      <td>...</td>\n",
       "      <td>0.0</td>\n",
       "      <td>0.0</td>\n",
       "      <td>0.0</td>\n",
       "      <td>0.0</td>\n",
       "      <td>0.0</td>\n",
       "      <td>0.0</td>\n",
       "      <td>0.00</td>\n",
       "      <td>0.0</td>\n",
       "      <td>0.0</td>\n",
       "      <td>0.0</td>\n",
       "    </tr>\n",
       "  </tbody>\n",
       "</table>\n",
       "<p>10 rows × 33 columns</p>\n",
       "</div>"
      ],
      "text/plain": [
       "   SK_ID_CURR  Active  Bad debt  Closed  Sold  DaysRecentBurCredApplied  \\\n",
       "0      100002     2.0       0.0     6.0   0.0                    -103.0   \n",
       "1      100003     1.0       0.0     3.0   0.0                    -606.0   \n",
       "2      100004     0.0       0.0     2.0   0.0                    -408.0   \n",
       "3      100006     0.0       0.0     0.0   0.0                       0.0   \n",
       "4      100007     0.0       0.0     1.0   0.0                   -1149.0   \n",
       "5      100008     1.0       0.0     2.0   0.0                     -78.0   \n",
       "6      100009     4.0       0.0    14.0   0.0                    -239.0   \n",
       "7      100010     1.0       0.0     1.0   0.0                   -1138.0   \n",
       "8      100011     0.0       0.0     4.0   0.0                   -1309.0   \n",
       "9      100012     0.0       0.0     0.0   0.0                       0.0   \n",
       "\n",
       "   application_interval  max_CREDIT_DAY_OVERDUE  \\\n",
       "0            179.625000                     0.0   \n",
       "1            646.500000                     0.0   \n",
       "2            663.000000                     0.0   \n",
       "3              0.000000                     0.0   \n",
       "4           1149.000000                     0.0   \n",
       "5            365.666667                     0.0   \n",
       "6            160.111111                     0.0   \n",
       "7           1370.500000                     0.0   \n",
       "8            627.000000                     0.0   \n",
       "9              0.000000                     0.0   \n",
       "\n",
       "   Act_Total_Credit_Days_Overdue  Act_Max_Credit_Days_Overdue  ...  \\\n",
       "0                            0.0                          0.0  ...   \n",
       "1                            0.0                          0.0  ...   \n",
       "2                            0.0                          0.0  ...   \n",
       "3                            0.0                          0.0  ...   \n",
       "4                            0.0                          0.0  ...   \n",
       "5                            0.0                          0.0  ...   \n",
       "6                            0.0                          0.0  ...   \n",
       "7                            0.0                          0.0  ...   \n",
       "8                            0.0                          0.0  ...   \n",
       "9                            0.0                          0.0  ...   \n",
       "\n",
       "   ActOverdueToDebtRatio  DAYS_CREDIT_UPDATE  Credit card_actcredlines  \\\n",
       "0                    0.0                -7.0                       1.0   \n",
       "1                    0.0               -43.0                       1.0   \n",
       "2                    0.0              -382.0                       0.0   \n",
       "3                    0.0                 0.0                       0.0   \n",
       "4                    0.0              -783.0                       0.0   \n",
       "5                    0.0               -16.0                       0.0   \n",
       "6                    0.0               -23.0                       2.0   \n",
       "7                    0.0               -18.0                       0.0   \n",
       "8                    0.0              -965.0                       0.0   \n",
       "9                    0.0                 0.0                       0.0   \n",
       "\n",
       "   Mortgage_actcredlines  Otherconsumerloan_actcredlines  \\\n",
       "0                    0.0                             1.0   \n",
       "1                    0.0                             0.0   \n",
       "2                    0.0                             0.0   \n",
       "3                    0.0                             0.0   \n",
       "4                    0.0                             0.0   \n",
       "5                    0.0                             1.0   \n",
       "6                    0.0                             2.0   \n",
       "7                    0.0                             1.0   \n",
       "8                    0.0                             0.0   \n",
       "9                    0.0                             0.0   \n",
       "\n",
       "   commercialloan_actcredlines  bb_AvgMonthCount  bb_TotalOverdueMonths  \\\n",
       "0                          0.0             13.75                   31.0   \n",
       "1                          0.0              0.00                    0.0   \n",
       "2                          0.0              0.00                    0.0   \n",
       "3                          0.0              0.00                    0.0   \n",
       "4                          0.0              0.00                    0.0   \n",
       "5                          0.0              0.00                    0.0   \n",
       "6                          0.0              0.00                    0.0   \n",
       "7                          0.0             36.00                    0.0   \n",
       "8                          0.0              0.00                    0.0   \n",
       "9                          0.0              0.00                    0.0   \n",
       "\n",
       "   bb_TotalWrittenOff  bb_dpd_sum  \n",
       "0                 0.0         7.0  \n",
       "1                 0.0         0.0  \n",
       "2                 0.0         0.0  \n",
       "3                 0.0         0.0  \n",
       "4                 0.0         0.0  \n",
       "5                 0.0         0.0  \n",
       "6                 0.0         0.0  \n",
       "7                 0.0         0.0  \n",
       "8                 0.0         0.0  \n",
       "9                 0.0         0.0  \n",
       "\n",
       "[10 rows x 33 columns]"
      ]
     },
     "execution_count": 83,
     "metadata": {},
     "output_type": "execute_result"
    }
   ],
   "source": [
    "# First create features at bureau ID level\n",
    "bb_copy = bureau_bal.copy()\n",
    "\n",
    "bb_copy['STATUS_mod'] = bb_copy.STATUS.map({'0':0, '1':1, '2':2, '3':3, '4':4, '5':5, 'X':np.nan, 'C':0}).map(lambda x: 0 if x=='C' else x).interpolate(method = 'linear')\n",
    "\n",
    "## Create flag to identify if credit written off in the month\n",
    "bb_copy['write_off'] = bb_copy.STATUS.map(lambda x: 1 if x=='5' else 0)\n",
    "\n",
    "bb_month_count = bb_copy.groupby('SK_ID_BUREAU')['MONTHS_BALANCE'].count()\n",
    "\n",
    "## Total number of months in DPD\n",
    "bb_dpd_sum = bb_copy.groupby('SK_ID_BUREAU')['STATUS_mod'].sum()\n",
    "\n",
    "## Total number of times written off \n",
    "bb_write_off = bb_copy.groupby('SK_ID_BUREAU')['write_off'].sum()\n",
    "\n",
    "bb_dpd_sum_2_year = bb_copy.loc[bb_copy.MONTHS_BALANCE>=-24].groupby('SK_ID_BUREAU')['STATUS_mod'].sum()\n",
    "\n",
    "## Total times written off in the past 2 years\n",
    "bb_write_off_2_year = bb_copy.loc[bb_copy.MONTHS_BALANCE>=-24].groupby('SK_ID_BUREAU')['write_off'].sum()\n",
    "\n",
    "## Merge individual features at Bureau ID level into a dataframe\n",
    "bb_feature = pd.DataFrame({'bb_month_count':bb_month_count, 'bb_dpd_sum':bb_dpd_sum, 'bb_write_off':bb_write_off, 'bb_dpd_sum_2_year':bb_dpd_sum_2_year, \n",
    "                          'bb_write_off_2_year':bb_write_off_2_year}).reset_index().fillna(0)\n",
    "\n",
    "\n",
    "# Merge with Current loan ID (sample loans)\n",
    "bureau_bb = pd.merge(bureau[['SK_ID_CURR','SK_ID_BUREAU']],bb_feature, on='SK_ID_BUREAU', how='left')\n",
    "\n",
    "\n",
    "# Now, start rolling up at loan ID level\n",
    "\n",
    "## Avg. number of months for which data is \n",
    "bb1 = bureau_bb.groupby('SK_ID_CURR')[['bb_month_count']].mean().reset_index().rename(columns={'bb_month_count':'bb_AvgMonthCount'})\n",
    "\n",
    "## Total number of overdue months for all bureau lines\n",
    "bb2 = bureau_bb.groupby('SK_ID_CURR')[['bb_dpd_sum']].sum().reset_index().rename(columns={'bb_dpd_sum':'bb_TotalOverdueMonths'})\n",
    "\n",
    "\n",
    "## Total number of times written off\n",
    "\n",
    "bb3 = bureau_bb.groupby('SK_ID_CURR')[['bb_write_off']].sum().reset_index().rename(columns={'bb_write_off':'bb_TotalWrittenOff'})\n",
    "\n",
    "## Maximum times overdue\n",
    "bb4 = bureau_bb.groupby('SK_ID_CURR')[['bb_dpd_sum']].max().reset_index().rename(columns={'bb_write_off':'bb_MaxOverdueMonth'})\n",
    "\n",
    "bureau_features_merged_all = multiple_left_join([bureau_features_merged,bb1,bb2,bb3,bb4],'SK_ID_CURR').replace(np.nan,0)\n",
    "\n",
    "print(bureau_features_merged_all.shape)\n",
    "\n",
    "bureau_features_merged_all.head(10)\n"
   ]
  },
  {
   "cell_type": "code",
   "execution_count": 84,
   "metadata": {
    "ExecuteTime": {
     "end_time": "2020-04-19T01:55:40.419920Z",
     "start_time": "2020-04-19T01:55:39.835255Z"
    }
   },
   "outputs": [
    {
     "data": {
      "text/html": [
       "<div>\n",
       "<style scoped>\n",
       "    .dataframe tbody tr th:only-of-type {\n",
       "        vertical-align: middle;\n",
       "    }\n",
       "\n",
       "    .dataframe tbody tr th {\n",
       "        vertical-align: top;\n",
       "    }\n",
       "\n",
       "    .dataframe thead th {\n",
       "        text-align: right;\n",
       "    }\n",
       "</style>\n",
       "<table border=\"1\" class=\"dataframe\">\n",
       "  <thead>\n",
       "    <tr style=\"text-align: right;\">\n",
       "      <th></th>\n",
       "      <th>Active</th>\n",
       "      <th>Bad debt</th>\n",
       "      <th>Closed</th>\n",
       "      <th>Sold</th>\n",
       "      <th>DaysRecentBurCredApplied</th>\n",
       "      <th>application_interval</th>\n",
       "      <th>max_CREDIT_DAY_OVERDUE</th>\n",
       "      <th>Act_Total_Credit_Days_Overdue</th>\n",
       "      <th>Act_Max_Credit_Days_Overdue</th>\n",
       "      <th>ADJ_AMT_CREDIT_MAX_OVERDUE_x</th>\n",
       "      <th>...</th>\n",
       "      <th>ActOverdueToDebtRatio</th>\n",
       "      <th>DAYS_CREDIT_UPDATE</th>\n",
       "      <th>Credit card_actcredlines</th>\n",
       "      <th>Mortgage_actcredlines</th>\n",
       "      <th>Otherconsumerloan_actcredlines</th>\n",
       "      <th>commercialloan_actcredlines</th>\n",
       "      <th>bb_AvgMonthCount</th>\n",
       "      <th>bb_TotalOverdueMonths</th>\n",
       "      <th>bb_TotalWrittenOff</th>\n",
       "      <th>bb_dpd_sum</th>\n",
       "    </tr>\n",
       "  </thead>\n",
       "  <tbody>\n",
       "    <tr>\n",
       "      <th>count</th>\n",
       "      <td>307511.000000</td>\n",
       "      <td>307511.000000</td>\n",
       "      <td>307511.000000</td>\n",
       "      <td>307511.000000</td>\n",
       "      <td>307511.000000</td>\n",
       "      <td>307511.000000</td>\n",
       "      <td>307511.000000</td>\n",
       "      <td>307511.000000</td>\n",
       "      <td>307511.000000</td>\n",
       "      <td>3.075110e+05</td>\n",
       "      <td>...</td>\n",
       "      <td>3.075110e+05</td>\n",
       "      <td>307511.000000</td>\n",
       "      <td>307511.000000</td>\n",
       "      <td>307511.000000</td>\n",
       "      <td>307511.000000</td>\n",
       "      <td>307511.000000</td>\n",
       "      <td>307511.000000</td>\n",
       "      <td>307511.000000</td>\n",
       "      <td>307511.000000</td>\n",
       "      <td>307511.000000</td>\n",
       "    </tr>\n",
       "    <tr>\n",
       "      <th>mean</th>\n",
       "      <td>1.762275</td>\n",
       "      <td>0.000065</td>\n",
       "      <td>2.984391</td>\n",
       "      <td>0.018383</td>\n",
       "      <td>-419.255152</td>\n",
       "      <td>400.662128</td>\n",
       "      <td>4.089542</td>\n",
       "      <td>3.447496</td>\n",
       "      <td>3.326499</td>\n",
       "      <td>5.857682e+03</td>\n",
       "      <td>...</td>\n",
       "      <td>inf</td>\n",
       "      <td>-120.810241</td>\n",
       "      <td>0.801116</td>\n",
       "      <td>0.035404</td>\n",
       "      <td>0.924100</td>\n",
       "      <td>0.001655</td>\n",
       "      <td>8.241179</td>\n",
       "      <td>1.735592</td>\n",
       "      <td>0.131794</td>\n",
       "      <td>1.051348</td>\n",
       "    </tr>\n",
       "    <tr>\n",
       "      <th>std</th>\n",
       "      <td>1.804891</td>\n",
       "      <td>0.008064</td>\n",
       "      <td>3.359529</td>\n",
       "      <td>0.146403</td>\n",
       "      <td>526.292236</td>\n",
       "      <td>429.961922</td>\n",
       "      <td>82.531621</td>\n",
       "      <td>76.067471</td>\n",
       "      <td>73.348144</td>\n",
       "      <td>1.857542e+05</td>\n",
       "      <td>...</td>\n",
       "      <td>NaN</td>\n",
       "      <td>326.645995</td>\n",
       "      <td>1.112614</td>\n",
       "      <td>0.192841</td>\n",
       "      <td>1.128412</td>\n",
       "      <td>0.043135</td>\n",
       "      <td>15.603149</td>\n",
       "      <td>19.491047</td>\n",
       "      <td>2.817280</td>\n",
       "      <td>10.708836</td>\n",
       "    </tr>\n",
       "    <tr>\n",
       "      <th>min</th>\n",
       "      <td>0.000000</td>\n",
       "      <td>0.000000</td>\n",
       "      <td>0.000000</td>\n",
       "      <td>0.000000</td>\n",
       "      <td>-2922.000000</td>\n",
       "      <td>0.000000</td>\n",
       "      <td>0.000000</td>\n",
       "      <td>0.000000</td>\n",
       "      <td>0.000000</td>\n",
       "      <td>0.000000e+00</td>\n",
       "      <td>...</td>\n",
       "      <td>-3.969900e-01</td>\n",
       "      <td>-41890.000000</td>\n",
       "      <td>0.000000</td>\n",
       "      <td>0.000000</td>\n",
       "      <td>0.000000</td>\n",
       "      <td>0.000000</td>\n",
       "      <td>0.000000</td>\n",
       "      <td>0.000000</td>\n",
       "      <td>0.000000</td>\n",
       "      <td>0.000000</td>\n",
       "    </tr>\n",
       "    <tr>\n",
       "      <th>25%</th>\n",
       "      <td>0.000000</td>\n",
       "      <td>0.000000</td>\n",
       "      <td>0.000000</td>\n",
       "      <td>0.000000</td>\n",
       "      <td>-537.000000</td>\n",
       "      <td>155.600000</td>\n",
       "      <td>0.000000</td>\n",
       "      <td>0.000000</td>\n",
       "      <td>0.000000</td>\n",
       "      <td>0.000000e+00</td>\n",
       "      <td>...</td>\n",
       "      <td>0.000000e+00</td>\n",
       "      <td>-38.000000</td>\n",
       "      <td>0.000000</td>\n",
       "      <td>0.000000</td>\n",
       "      <td>0.000000</td>\n",
       "      <td>0.000000</td>\n",
       "      <td>0.000000</td>\n",
       "      <td>0.000000</td>\n",
       "      <td>0.000000</td>\n",
       "      <td>0.000000</td>\n",
       "    </tr>\n",
       "    <tr>\n",
       "      <th>50%</th>\n",
       "      <td>1.000000</td>\n",
       "      <td>0.000000</td>\n",
       "      <td>2.000000</td>\n",
       "      <td>0.000000</td>\n",
       "      <td>-239.000000</td>\n",
       "      <td>289.555556</td>\n",
       "      <td>0.000000</td>\n",
       "      <td>0.000000</td>\n",
       "      <td>0.000000</td>\n",
       "      <td>0.000000e+00</td>\n",
       "      <td>...</td>\n",
       "      <td>0.000000e+00</td>\n",
       "      <td>-15.000000</td>\n",
       "      <td>0.000000</td>\n",
       "      <td>0.000000</td>\n",
       "      <td>1.000000</td>\n",
       "      <td>0.000000</td>\n",
       "      <td>0.000000</td>\n",
       "      <td>0.000000</td>\n",
       "      <td>0.000000</td>\n",
       "      <td>0.000000</td>\n",
       "    </tr>\n",
       "    <tr>\n",
       "      <th>75%</th>\n",
       "      <td>3.000000</td>\n",
       "      <td>0.000000</td>\n",
       "      <td>4.000000</td>\n",
       "      <td>0.000000</td>\n",
       "      <td>-80.000000</td>\n",
       "      <td>500.800000</td>\n",
       "      <td>0.000000</td>\n",
       "      <td>0.000000</td>\n",
       "      <td>0.000000</td>\n",
       "      <td>0.000000e+00</td>\n",
       "      <td>...</td>\n",
       "      <td>0.000000e+00</td>\n",
       "      <td>-6.000000</td>\n",
       "      <td>1.000000</td>\n",
       "      <td>0.000000</td>\n",
       "      <td>1.000000</td>\n",
       "      <td>0.000000</td>\n",
       "      <td>11.333333</td>\n",
       "      <td>0.000000</td>\n",
       "      <td>0.000000</td>\n",
       "      <td>0.000000</td>\n",
       "    </tr>\n",
       "    <tr>\n",
       "      <th>max</th>\n",
       "      <td>32.000000</td>\n",
       "      <td>1.000000</td>\n",
       "      <td>108.000000</td>\n",
       "      <td>9.000000</td>\n",
       "      <td>0.000000</td>\n",
       "      <td>2922.000000</td>\n",
       "      <td>2792.000000</td>\n",
       "      <td>5250.000000</td>\n",
       "      <td>2770.000000</td>\n",
       "      <td>7.823776e+07</td>\n",
       "      <td>...</td>\n",
       "      <td>inf</td>\n",
       "      <td>372.000000</td>\n",
       "      <td>17.000000</td>\n",
       "      <td>4.000000</td>\n",
       "      <td>17.000000</td>\n",
       "      <td>3.000000</td>\n",
       "      <td>97.000000</td>\n",
       "      <td>2100.000000</td>\n",
       "      <td>346.000000</td>\n",
       "      <td>446.877828</td>\n",
       "    </tr>\n",
       "  </tbody>\n",
       "</table>\n",
       "<p>8 rows × 32 columns</p>\n",
       "</div>"
      ],
      "text/plain": [
       "              Active       Bad debt         Closed           Sold  \\\n",
       "count  307511.000000  307511.000000  307511.000000  307511.000000   \n",
       "mean        1.762275       0.000065       2.984391       0.018383   \n",
       "std         1.804891       0.008064       3.359529       0.146403   \n",
       "min         0.000000       0.000000       0.000000       0.000000   \n",
       "25%         0.000000       0.000000       0.000000       0.000000   \n",
       "50%         1.000000       0.000000       2.000000       0.000000   \n",
       "75%         3.000000       0.000000       4.000000       0.000000   \n",
       "max        32.000000       1.000000     108.000000       9.000000   \n",
       "\n",
       "       DaysRecentBurCredApplied  application_interval  max_CREDIT_DAY_OVERDUE  \\\n",
       "count             307511.000000         307511.000000           307511.000000   \n",
       "mean                -419.255152            400.662128                4.089542   \n",
       "std                  526.292236            429.961922               82.531621   \n",
       "min                -2922.000000              0.000000                0.000000   \n",
       "25%                 -537.000000            155.600000                0.000000   \n",
       "50%                 -239.000000            289.555556                0.000000   \n",
       "75%                  -80.000000            500.800000                0.000000   \n",
       "max                    0.000000           2922.000000             2792.000000   \n",
       "\n",
       "       Act_Total_Credit_Days_Overdue  Act_Max_Credit_Days_Overdue  \\\n",
       "count                  307511.000000                307511.000000   \n",
       "mean                        3.447496                     3.326499   \n",
       "std                        76.067471                    73.348144   \n",
       "min                         0.000000                     0.000000   \n",
       "25%                         0.000000                     0.000000   \n",
       "50%                         0.000000                     0.000000   \n",
       "75%                         0.000000                     0.000000   \n",
       "max                      5250.000000                  2770.000000   \n",
       "\n",
       "       ADJ_AMT_CREDIT_MAX_OVERDUE_x  ...  ActOverdueToDebtRatio  \\\n",
       "count                  3.075110e+05  ...           3.075110e+05   \n",
       "mean                   5.857682e+03  ...                    inf   \n",
       "std                    1.857542e+05  ...                    NaN   \n",
       "min                    0.000000e+00  ...          -3.969900e-01   \n",
       "25%                    0.000000e+00  ...           0.000000e+00   \n",
       "50%                    0.000000e+00  ...           0.000000e+00   \n",
       "75%                    0.000000e+00  ...           0.000000e+00   \n",
       "max                    7.823776e+07  ...                    inf   \n",
       "\n",
       "       DAYS_CREDIT_UPDATE  Credit card_actcredlines  Mortgage_actcredlines  \\\n",
       "count       307511.000000             307511.000000          307511.000000   \n",
       "mean          -120.810241                  0.801116               0.035404   \n",
       "std            326.645995                  1.112614               0.192841   \n",
       "min         -41890.000000                  0.000000               0.000000   \n",
       "25%            -38.000000                  0.000000               0.000000   \n",
       "50%            -15.000000                  0.000000               0.000000   \n",
       "75%             -6.000000                  1.000000               0.000000   \n",
       "max            372.000000                 17.000000               4.000000   \n",
       "\n",
       "       Otherconsumerloan_actcredlines  commercialloan_actcredlines  \\\n",
       "count                   307511.000000                307511.000000   \n",
       "mean                         0.924100                     0.001655   \n",
       "std                          1.128412                     0.043135   \n",
       "min                          0.000000                     0.000000   \n",
       "25%                          0.000000                     0.000000   \n",
       "50%                          1.000000                     0.000000   \n",
       "75%                          1.000000                     0.000000   \n",
       "max                         17.000000                     3.000000   \n",
       "\n",
       "       bb_AvgMonthCount  bb_TotalOverdueMonths  bb_TotalWrittenOff  \\\n",
       "count     307511.000000          307511.000000       307511.000000   \n",
       "mean           8.241179               1.735592            0.131794   \n",
       "std           15.603149              19.491047            2.817280   \n",
       "min            0.000000               0.000000            0.000000   \n",
       "25%            0.000000               0.000000            0.000000   \n",
       "50%            0.000000               0.000000            0.000000   \n",
       "75%           11.333333               0.000000            0.000000   \n",
       "max           97.000000            2100.000000          346.000000   \n",
       "\n",
       "          bb_dpd_sum  \n",
       "count  307511.000000  \n",
       "mean        1.051348  \n",
       "std        10.708836  \n",
       "min         0.000000  \n",
       "25%         0.000000  \n",
       "50%         0.000000  \n",
       "75%         0.000000  \n",
       "max       446.877828  \n",
       "\n",
       "[8 rows x 32 columns]"
      ]
     },
     "execution_count": 84,
     "metadata": {},
     "output_type": "execute_result"
    }
   ],
   "source": [
    "bureau_features_merged_all.drop(['SK_ID_CURR'],axis=1).describe(include=\"all\")"
   ]
  },
  {
   "cell_type": "markdown",
   "metadata": {},
   "source": [
    "### Past Home Credit loans Instalments data"
   ]
  },
  {
   "cell_type": "code",
   "execution_count": 88,
   "metadata": {
    "ExecuteTime": {
     "end_time": "2020-04-19T02:14:02.167098Z",
     "start_time": "2020-04-19T02:12:48.643708Z"
    }
   },
   "outputs": [],
   "source": [
    "\n",
    "df = paymenthistorydata.copy()\n",
    "df['concat_previd_instalnumber'] = df['SK_ID_PREV'].astype(str) + df['NUM_INSTALMENT_NUMBER'].astype(str)\n",
    "\n",
    "\n",
    "# proportion of delayed payments in the past 1,3,6,9,12 months\n",
    "datadict = {'d1':pd.DataFrame(),'d2':pd.DataFrame(),'d3':pd.DataFrame(),'d4':pd.DataFrame(),'d5':pd.DataFrame()}\n",
    "keylist = ['d1','d2','d3','d4','d5']\n",
    "cnt = 0\n",
    "for i in [1,3,6,9,12]:\n",
    "    cnt_late = df[(df['DAYS_INSTALMENT'] > -30*i) & (df['DAYS_ENTRY_PAYMENT'] >df['DAYS_INSTALMENT'])].groupby('SK_ID_CURR')[['concat_previd_instalnumber']].nunique().reset_index().rename(columns = {'concat_previd_instalnumber':'lateinstalmentpayments'})\n",
    "    cnt_payments = df[(df['DAYS_INSTALMENT'] > -30*i)].groupby('SK_ID_CURR')[['concat_previd_instalnumber']].nunique().reset_index().rename(columns = {'concat_previd_instalnumber':'totalinstalments'})\n",
    "    joined = pd.merge(cnt_payments,cnt_late,how = 'left',on = 'SK_ID_CURR')\n",
    "    joined['propdelayedinstalpayments_'+str(i)+'months'] = joined['lateinstalmentpayments']/joined['totalinstalments']\n",
    "    datadict[keylist[cnt]] = joined.drop(['lateinstalmentpayments','totalinstalments'],axis=1)\n",
    "    cnt = cnt+1\n",
    "\n",
    "instalpaymentsdelaydata = datadict['d1']\n",
    "for data in [datadict['d2'],datadict['d3'],datadict['d4'],datadict['d5']]:\n",
    "    instalpaymentsdelaydata = pd.merge(instalpaymentsdelaydata,data,how='outer',on = 'SK_ID_CURR')\n",
    "\n",
    "\n",
    "#c - Use instalpaymentsdelaydata to join with main\n",
    "\n",
    "# The earliest instalment made - Tenure of instalment\n",
    "P1 = paymenthistorydata.sort_values(by=['SK_ID_CURR','DAYS_INSTALMENT'],ascending=True).groupby('SK_ID_CURR').nth(0).reset_index()[['SK_ID_CURR','DAYS_INSTALMENT']]\n",
    "P1 = P1.rename(columns = {'DAYS_INSTALMENT':'instalmentTenure'})\n",
    "\n",
    "#avg no. of days payments were made in advance\n",
    "\n",
    "df = paymenthistorydata.copy()\n",
    "datadict = {'d1':pd.DataFrame(),'d2':pd.DataFrame(),'d3':pd.DataFrame(),'d4':pd.DataFrame(),'d5':pd.DataFrame()}\n",
    "keylist = ['d1','d2','d3','d4','d5']\n",
    "cnt = 0\n",
    "for i in [1,3,6,9,12]:\n",
    "    d = df[df['DAYS_INSTALMENT'] > -30*i].sort_values(by=['SK_ID_PREV','NUM_INSTALMENT_NUMBER'], ascending=False).groupby(['SK_ID_PREV','NUM_INSTALMENT_NUMBER']).nth(0).reset_index()\n",
    "    d['dayspaidinadvance'] = d['DAYS_INSTALMENT'] - d['DAYS_ENTRY_PAYMENT']\n",
    "    datadict[keylist[cnt]] = d.groupby('SK_ID_CURR')[['dayspaidinadvance']].mean().reset_index().rename(columns={'dayspaidinadvance':'avgdaysinstalpaidinadvance_'+str(i)+'months'})\n",
    "    cnt = cnt+1\n",
    "\n",
    "P2 = datadict['d1']\n",
    "for data in [datadict['d2'],datadict['d3'],datadict['d4'],datadict['d5']]:\n",
    "    P2 = pd.merge(P2,data,how='outer',on = 'SK_ID_CURR')\n",
    "    \n",
    "pastinstalpaymentvars = pd.merge(instalpaymentsdelaydata, pd.merge(P1,P2,how='outer',on='SK_ID_CURR'), how='outer',on='SK_ID_CURR')\n",
    "\n"
   ]
  },
  {
   "cell_type": "code",
   "execution_count": 91,
   "metadata": {
    "ExecuteTime": {
     "end_time": "2020-04-19T02:15:34.300524Z",
     "start_time": "2020-04-19T02:15:34.216574Z"
    }
   },
   "outputs": [
    {
     "name": "stdout",
     "output_type": "stream",
     "text": [
      "(339587, 12)\n"
     ]
    },
    {
     "data": {
      "text/html": [
       "<div>\n",
       "<style scoped>\n",
       "    .dataframe tbody tr th:only-of-type {\n",
       "        vertical-align: middle;\n",
       "    }\n",
       "\n",
       "    .dataframe tbody tr th {\n",
       "        vertical-align: top;\n",
       "    }\n",
       "\n",
       "    .dataframe thead th {\n",
       "        text-align: right;\n",
       "    }\n",
       "</style>\n",
       "<table border=\"1\" class=\"dataframe\">\n",
       "  <thead>\n",
       "    <tr style=\"text-align: right;\">\n",
       "      <th></th>\n",
       "      <th>SK_ID_CURR</th>\n",
       "      <th>propdelayedinstalpayments_1months</th>\n",
       "      <th>propdelayedinstalpayments_3months</th>\n",
       "      <th>propdelayedinstalpayments_6months</th>\n",
       "      <th>propdelayedinstalpayments_9months</th>\n",
       "      <th>propdelayedinstalpayments_12months</th>\n",
       "      <th>instalmentTenure</th>\n",
       "      <th>avgdaysinstalpaidinadvance_1months</th>\n",
       "      <th>avgdaysinstalpaidinadvance_3months</th>\n",
       "      <th>avgdaysinstalpaidinadvance_6months</th>\n",
       "      <th>avgdaysinstalpaidinadvance_9months</th>\n",
       "      <th>avgdaysinstalpaidinadvance_12months</th>\n",
       "    </tr>\n",
       "  </thead>\n",
       "  <tbody>\n",
       "    <tr>\n",
       "      <th>0</th>\n",
       "      <td>100002</td>\n",
       "      <td>0.0</td>\n",
       "      <td>0.0</td>\n",
       "      <td>0.000000</td>\n",
       "      <td>0.000000</td>\n",
       "      <td>0.000000</td>\n",
       "      <td>-565.0</td>\n",
       "      <td>24.0</td>\n",
       "      <td>16.666667</td>\n",
       "      <td>17.000000</td>\n",
       "      <td>17.222222</td>\n",
       "      <td>17.583333</td>\n",
       "    </tr>\n",
       "    <tr>\n",
       "      <th>1</th>\n",
       "      <td>100006</td>\n",
       "      <td>0.0</td>\n",
       "      <td>0.0</td>\n",
       "      <td>0.000000</td>\n",
       "      <td>0.000000</td>\n",
       "      <td>0.000000</td>\n",
       "      <td>-545.0</td>\n",
       "      <td>1.0</td>\n",
       "      <td>1.000000</td>\n",
       "      <td>7.000000</td>\n",
       "      <td>6.400000</td>\n",
       "      <td>6.181818</td>\n",
       "    </tr>\n",
       "    <tr>\n",
       "      <th>2</th>\n",
       "      <td>100007</td>\n",
       "      <td>0.0</td>\n",
       "      <td>0.0</td>\n",
       "      <td>0.000000</td>\n",
       "      <td>0.000000</td>\n",
       "      <td>0.000000</td>\n",
       "      <td>-2326.0</td>\n",
       "      <td>0.0</td>\n",
       "      <td>0.333333</td>\n",
       "      <td>1.166667</td>\n",
       "      <td>1.888889</td>\n",
       "      <td>3.615385</td>\n",
       "    </tr>\n",
       "    <tr>\n",
       "      <th>3</th>\n",
       "      <td>100013</td>\n",
       "      <td>0.0</td>\n",
       "      <td>0.0</td>\n",
       "      <td>0.222222</td>\n",
       "      <td>0.133333</td>\n",
       "      <td>0.105263</td>\n",
       "      <td>-2705.0</td>\n",
       "      <td>0.0</td>\n",
       "      <td>0.000000</td>\n",
       "      <td>-0.666667</td>\n",
       "      <td>1.600000</td>\n",
       "      <td>1.315789</td>\n",
       "    </tr>\n",
       "    <tr>\n",
       "      <th>4</th>\n",
       "      <td>100017</td>\n",
       "      <td>0.0</td>\n",
       "      <td>0.0</td>\n",
       "      <td>0.000000</td>\n",
       "      <td>0.000000</td>\n",
       "      <td>0.000000</td>\n",
       "      <td>-2398.0</td>\n",
       "      <td>10.0</td>\n",
       "      <td>9.000000</td>\n",
       "      <td>10.000000</td>\n",
       "      <td>11.444444</td>\n",
       "      <td>11.416667</td>\n",
       "    </tr>\n",
       "    <tr>\n",
       "      <th>5</th>\n",
       "      <td>100018</td>\n",
       "      <td>0.0</td>\n",
       "      <td>0.0</td>\n",
       "      <td>0.000000</td>\n",
       "      <td>0.000000</td>\n",
       "      <td>0.000000</td>\n",
       "      <td>-1613.0</td>\n",
       "      <td>11.0</td>\n",
       "      <td>11.333333</td>\n",
       "      <td>14.800000</td>\n",
       "      <td>14.800000</td>\n",
       "      <td>14.800000</td>\n",
       "    </tr>\n",
       "    <tr>\n",
       "      <th>6</th>\n",
       "      <td>100021</td>\n",
       "      <td>0.0</td>\n",
       "      <td>0.0</td>\n",
       "      <td>0.000000</td>\n",
       "      <td>0.000000</td>\n",
       "      <td>0.000000</td>\n",
       "      <td>-2772.0</td>\n",
       "      <td>46.0</td>\n",
       "      <td>36.000000</td>\n",
       "      <td>25.166667</td>\n",
       "      <td>21.625000</td>\n",
       "      <td>21.625000</td>\n",
       "    </tr>\n",
       "    <tr>\n",
       "      <th>7</th>\n",
       "      <td>100022</td>\n",
       "      <td>0.0</td>\n",
       "      <td>0.0</td>\n",
       "      <td>0.000000</td>\n",
       "      <td>0.000000</td>\n",
       "      <td>0.000000</td>\n",
       "      <td>-209.0</td>\n",
       "      <td>22.0</td>\n",
       "      <td>23.000000</td>\n",
       "      <td>23.666667</td>\n",
       "      <td>23.428571</td>\n",
       "      <td>23.428571</td>\n",
       "    </tr>\n",
       "    <tr>\n",
       "      <th>8</th>\n",
       "      <td>100028</td>\n",
       "      <td>0.0</td>\n",
       "      <td>0.0</td>\n",
       "      <td>0.000000</td>\n",
       "      <td>0.000000</td>\n",
       "      <td>0.062500</td>\n",
       "      <td>-1773.0</td>\n",
       "      <td>2.0</td>\n",
       "      <td>1.000000</td>\n",
       "      <td>0.400000</td>\n",
       "      <td>0.700000</td>\n",
       "      <td>0.625000</td>\n",
       "    </tr>\n",
       "    <tr>\n",
       "      <th>9</th>\n",
       "      <td>100042</td>\n",
       "      <td>0.0</td>\n",
       "      <td>0.0</td>\n",
       "      <td>0.000000</td>\n",
       "      <td>0.000000</td>\n",
       "      <td>0.000000</td>\n",
       "      <td>-2719.0</td>\n",
       "      <td>0.0</td>\n",
       "      <td>0.000000</td>\n",
       "      <td>0.000000</td>\n",
       "      <td>0.000000</td>\n",
       "      <td>0.000000</td>\n",
       "    </tr>\n",
       "  </tbody>\n",
       "</table>\n",
       "</div>"
      ],
      "text/plain": [
       "   SK_ID_CURR  propdelayedinstalpayments_1months  \\\n",
       "0      100002                                0.0   \n",
       "1      100006                                0.0   \n",
       "2      100007                                0.0   \n",
       "3      100013                                0.0   \n",
       "4      100017                                0.0   \n",
       "5      100018                                0.0   \n",
       "6      100021                                0.0   \n",
       "7      100022                                0.0   \n",
       "8      100028                                0.0   \n",
       "9      100042                                0.0   \n",
       "\n",
       "   propdelayedinstalpayments_3months  propdelayedinstalpayments_6months  \\\n",
       "0                                0.0                           0.000000   \n",
       "1                                0.0                           0.000000   \n",
       "2                                0.0                           0.000000   \n",
       "3                                0.0                           0.222222   \n",
       "4                                0.0                           0.000000   \n",
       "5                                0.0                           0.000000   \n",
       "6                                0.0                           0.000000   \n",
       "7                                0.0                           0.000000   \n",
       "8                                0.0                           0.000000   \n",
       "9                                0.0                           0.000000   \n",
       "\n",
       "   propdelayedinstalpayments_9months  propdelayedinstalpayments_12months  \\\n",
       "0                           0.000000                            0.000000   \n",
       "1                           0.000000                            0.000000   \n",
       "2                           0.000000                            0.000000   \n",
       "3                           0.133333                            0.105263   \n",
       "4                           0.000000                            0.000000   \n",
       "5                           0.000000                            0.000000   \n",
       "6                           0.000000                            0.000000   \n",
       "7                           0.000000                            0.000000   \n",
       "8                           0.000000                            0.062500   \n",
       "9                           0.000000                            0.000000   \n",
       "\n",
       "   instalmentTenure  avgdaysinstalpaidinadvance_1months  \\\n",
       "0            -565.0                                24.0   \n",
       "1            -545.0                                 1.0   \n",
       "2           -2326.0                                 0.0   \n",
       "3           -2705.0                                 0.0   \n",
       "4           -2398.0                                10.0   \n",
       "5           -1613.0                                11.0   \n",
       "6           -2772.0                                46.0   \n",
       "7            -209.0                                22.0   \n",
       "8           -1773.0                                 2.0   \n",
       "9           -2719.0                                 0.0   \n",
       "\n",
       "   avgdaysinstalpaidinadvance_3months  avgdaysinstalpaidinadvance_6months  \\\n",
       "0                           16.666667                           17.000000   \n",
       "1                            1.000000                            7.000000   \n",
       "2                            0.333333                            1.166667   \n",
       "3                            0.000000                           -0.666667   \n",
       "4                            9.000000                           10.000000   \n",
       "5                           11.333333                           14.800000   \n",
       "6                           36.000000                           25.166667   \n",
       "7                           23.000000                           23.666667   \n",
       "8                            1.000000                            0.400000   \n",
       "9                            0.000000                            0.000000   \n",
       "\n",
       "   avgdaysinstalpaidinadvance_9months  avgdaysinstalpaidinadvance_12months  \n",
       "0                           17.222222                            17.583333  \n",
       "1                            6.400000                             6.181818  \n",
       "2                            1.888889                             3.615385  \n",
       "3                            1.600000                             1.315789  \n",
       "4                           11.444444                            11.416667  \n",
       "5                           14.800000                            14.800000  \n",
       "6                           21.625000                            21.625000  \n",
       "7                           23.428571                            23.428571  \n",
       "8                            0.700000                             0.625000  \n",
       "9                            0.000000                             0.000000  "
      ]
     },
     "execution_count": 91,
     "metadata": {},
     "output_type": "execute_result"
    }
   ],
   "source": [
    "pastinstalpaymentvars.replace(np.nan,0,inplace=True)\n",
    "print(pastinstalpaymentvars.shape)\n",
    "pastinstalpaymentvars.head(10)"
   ]
  },
  {
   "cell_type": "code",
   "execution_count": 93,
   "metadata": {
    "ExecuteTime": {
     "end_time": "2020-04-19T02:44:34.209000Z",
     "start_time": "2020-04-19T02:44:00.285010Z"
    }
   },
   "outputs": [],
   "source": [
    "# More features on past intalments data\n",
    "paymenthistorydata = paymenthistorydata.sort_values(['SK_ID_CURR', 'SK_ID_PREV', 'NUM_INSTALMENT_NUMBER'])\n",
    "payment_copy = paymenthistorydata.copy()\n",
    "payment_copy['IS_CREDIT'] = payment_copy.NUM_INSTALMENT_VERSION.map(lambda x: 1 if x==0 else 0)\n",
    "payment_copy['late_payment'] = (payment_copy.DAYS_INSTALMENT < payment_copy.DAYS_ENTRY_PAYMENT).map(lambda x: 1 if x==True else 0).fillna(0)\n",
    "payment_copy['less_payment'] = (payment_copy.AMT_INSTALMENT > payment_copy.AMT_PAYMENT).map(lambda x: 1 if x==True else 0).fillna(0)\n",
    "\n",
    "# Features regarding late and less payment in last 1 year\n",
    "\n",
    "# total late and less payments in recent 1 year\n",
    "payment_1y = payment_copy.loc[payment_copy.DAYS_ENTRY_PAYMENT>-365]\n",
    "# payment 1 year\n",
    "ip_payment_count_1y = payment_1y.groupby('SK_ID_CURR')['SK_ID_PREV'].count()\n",
    "ip_creditcard_count_1y = payment_1y.groupby(['SK_ID_CURR','SK_ID_PREV'])['IS_CREDIT'].sum().map(lambda x: 1 if x>0 else 0).reset_index().groupby('SK_ID_CURR')['IS_CREDIT'].sum()\n",
    "ip_total_late_times_1y = payment_1y.groupby('SK_ID_CURR')['late_payment'].sum()\n",
    "ip_total_less_times_1y = payment_1y.groupby('SK_ID_CURR')['less_payment'].sum()\n",
    "\n",
    "# total payment in recent 1 yr\n",
    "ip_total_actual_payment_1y = payment_1y.groupby('SK_ID_CURR')['AMT_PAYMENT'].sum()\n",
    "ip_total_required_payment_1y = payment_1y.groupby('SK_ID_CURR')['AMT_INSTALMENT'].sum()\n",
    "\n",
    "# Features regarding late and less payment in last 6 months\n",
    "\n",
    "\n",
    "# total late and less payments \n",
    "payment_6m = payment_copy.loc[payment_copy.DAYS_ENTRY_PAYMENT>-180]\n",
    "# payment 1 year\n",
    "ip_payment_count_6m = payment_6m.groupby('SK_ID_CURR')['SK_ID_PREV'].count()\n",
    "ip_creditcard_count_6m = payment_6m.groupby(['SK_ID_CURR','SK_ID_PREV'])['IS_CREDIT'].sum().map(lambda x: 1 if x>0 else 0).reset_index().groupby('SK_ID_CURR')['IS_CREDIT'].sum()\n",
    "ip_total_late_times_6m = payment_6m.groupby('SK_ID_CURR')['late_payment'].sum()\n",
    "ip_total_less_times_6m = payment_6m.groupby('SK_ID_CURR')['less_payment'].sum()\n",
    "\n",
    "# total payment \n",
    "ip_total_actual_payment_6m = payment_6m.groupby('SK_ID_CURR')['AMT_PAYMENT'].sum()\n",
    "ip_total_required_payment_6m = payment_6m.groupby('SK_ID_CURR')['AMT_INSTALMENT'].sum()\n",
    "\n",
    "\n",
    "\n",
    "# Features regarding late and less payment in last 3 months\n",
    "\n",
    "\n",
    "# total late and less payments \n",
    "payment_3m = payment_copy.loc[payment_copy.DAYS_ENTRY_PAYMENT>-90]\n",
    "# payment 1 year\n",
    "ip_payment_count_3m = payment_3m.groupby('SK_ID_CURR')['SK_ID_PREV'].count()\n",
    "ip_creditcard_count_3m = payment_3m.groupby(['SK_ID_CURR','SK_ID_PREV'])['IS_CREDIT'].sum().map(lambda x: 1 if x>0 else 0).reset_index().groupby('SK_ID_CURR')['IS_CREDIT'].sum()\n",
    "ip_total_late_times_3m = payment_3m.groupby('SK_ID_CURR')['late_payment'].sum()\n",
    "ip_total_less_times_3m = payment_3m.groupby('SK_ID_CURR')['less_payment'].sum()\n",
    "\n",
    "# total payment \n",
    "ip_total_actual_payment_3m = payment_3m.groupby('SK_ID_CURR')['AMT_PAYMENT'].sum()\n",
    "ip_total_required_payment_3m = payment_3m.groupby('SK_ID_CURR')['AMT_INSTALMENT'].sum()\n",
    "\n",
    "\n",
    "# Features regarding late and less payment in last 1 month\n",
    "\n",
    "# total late and less payments \n",
    "payment_1m = payment_copy.loc[payment_copy.DAYS_ENTRY_PAYMENT>-30]\n",
    "# payment 1 year\n",
    "ip_payment_count_1m = payment_1m.groupby('SK_ID_CURR')['SK_ID_PREV'].count()\n",
    "ip_creditcard_count_1m = payment_1m.groupby(['SK_ID_CURR','SK_ID_PREV'])['IS_CREDIT'].sum().map(lambda x: 1 if x>0 else 0).reset_index().groupby('SK_ID_CURR')['IS_CREDIT'].sum()\n",
    "ip_total_late_times_1m = payment_1m.groupby('SK_ID_CURR')['late_payment'].sum()\n",
    "ip_total_less_times_1m = payment_1m.groupby('SK_ID_CURR')['less_payment'].sum()\n",
    "\n",
    "# total payment \n",
    "ip_total_actual_payment_1m = payment_1m.groupby('SK_ID_CURR')['AMT_PAYMENT'].sum()\n",
    "ip_total_required_payment_1m = payment_1m.groupby('SK_ID_CURR')['AMT_INSTALMENT'].sum()\n",
    "\n",
    "\n",
    "\n",
    "pastinstalpaymentvars_more = pd.DataFrame({'ip_payment_count_1y':ip_payment_count_1y,'ip_creditcard_count_1y':ip_creditcard_count_1y,'ip_total_late_times_1y':ip_total_late_times_1y,'ip_total_less_times_1y':ip_total_less_times_1y,'ip_total_actual_payment_1y':ip_total_actual_payment_1y,'ip_total_required_payment_1y':ip_total_required_payment_1y,'ip_payment_count_6m':ip_payment_count_6m,'ip_creditcard_count_6m':ip_creditcard_count_6m,'ip_total_late_times_6m':ip_total_late_times_6m,'ip_total_less_times_6m':ip_total_less_times_6m,'ip_total_actual_payment_6m':ip_total_actual_payment_6m,'ip_total_required_payment_6m':ip_total_required_payment_6m,'ip_payment_count_3m':ip_payment_count_3m,'ip_creditcard_count_3m':ip_creditcard_count_3m,'ip_total_late_times_3m':ip_total_late_times_3m,'ip_total_less_times_3m':ip_total_less_times_3m,'ip_total_actual_payment_3m':ip_total_actual_payment_3m,'ip_total_required_payment_3m':ip_total_required_payment_3m,'ip_payment_count_1m':ip_payment_count_1m,'ip_creditcard_count_1m':ip_creditcard_count_1m,'ip_total_late_times_1m':ip_total_late_times_1m,'ip_total_less_times_1m':ip_total_less_times_1m,'ip_total_actual_payment_1m':ip_total_actual_payment_1m,'ip_total_required_payment_1m':ip_total_required_payment_1m}).reset_index().fillna(0)\n"
   ]
  },
  {
   "cell_type": "markdown",
   "metadata": {},
   "source": [
    "### Previous loans applications data"
   ]
  },
  {
   "cell_type": "code",
   "execution_count": 95,
   "metadata": {
    "ExecuteTime": {
     "end_time": "2020-04-19T02:57:34.665775Z",
     "start_time": "2020-04-19T02:56:53.295549Z"
    }
   },
   "outputs": [],
   "source": [
    "# 1. Amount applied for the last application; 2. Avg. amt applied for all appl in the past;3.Avg.credit to requested amt ratio for applications in the past\n",
    "#4. number of application under each type; 5. number of consumer loans with 0 down payment \n",
    "#6. Total number of past applications refused; 7. preferred channel for the prev applications 8. cnt of x-sell loans in the past\n",
    "\n",
    "\n",
    "\n",
    "df = prevapplications[['SK_ID_CURR']].drop_duplicates()\n",
    "X1 =  prevapplications.sort_values(by=['SK_ID_CURR','DAYS_DECISION'],ascending=False).groupby('SK_ID_CURR').nth(0).reset_index()[['SK_ID_CURR','AMT_APPLICATION']].rename(columns = {'AMT_APPLICATION':'lastapplamountrequested'})\n",
    "\n",
    "X2 = prevapplications.groupby('SK_ID_CURR')[['AMT_APPLICATION']].mean().reset_index().rename(columns={'AMT_APPLICATION':'avgpastapplamountreq'})\n",
    "\n",
    "X3 = pd.merge(prevapplications.groupby('SK_ID_CURR')[['AMT_CREDIT']].sum().reset_index(),prevapplications.groupby('SK_ID_CURR')[['AMT_APPLICATION']].sum().reset_index(),how='outer',on='SK_ID_CURR')\n",
    "X3['pastapplamtcredittoreqratio'] = X3['AMT_CREDIT']/X3['AMT_APPLICATION']\n",
    "X3 = X3.drop(['AMT_CREDIT','AMT_APPLICATION'],axis=1)\n",
    "\n",
    "X4 = prevapplications.groupby(['SK_ID_CURR','NAME_CONTRACT_TYPE'])[['SK_ID_PREV']].nunique().reset_index().rename(columns={'SK_ID_PREV':'countappl'})\n",
    "X4['NAME_CONTRACT_TYPE'] = X4['NAME_CONTRACT_TYPE'].apply(lambda x: 'pastapplcnt_' + x.replace(\" \",\"\"))\n",
    "X4 = X4.pivot(index='SK_ID_CURR',columns='NAME_CONTRACT_TYPE',values='countappl').reset_index()\n",
    "X4 = X4.replace(np.nan,0)\n",
    "\n",
    "\n",
    "X5 = prevapplications[(prevapplications['NAME_CONTRACT_TYPE'] == 'Consumer loans') & (prevapplications['AMT_DOWN_PAYMENT'] == 0)].groupby('SK_ID_CURR')[['SK_ID_PREV']].nunique().reset_index().rename(columns={'SK_ID_PREV':'pastconsumerloans0downpaym'})\n",
    "X5 = pd.merge(X4[['SK_ID_CURR','pastapplcnt_Consumerloans']],X5,how='left',on = 'SK_ID_CURR')\n",
    "X5['propconsumerloanswith0downpaym'] = X5['pastconsumerloans0downpaym']/X5['pastapplcnt_Consumerloans']\n",
    "X5 = X5.drop(['pastapplcnt_Consumerloans','pastconsumerloans0downpaym'],axis=1).replace(np.nan,0)\n",
    "\n",
    "\n",
    "X6 = prevapplications[prevapplications['NAME_CONTRACT_STATUS'] == 'Refused'].groupby('SK_ID_CURR')[['SK_ID_PREV']].nunique().reset_index().rename(columns = {'SK_ID_PREV':'cntpastapplRefused'})\n",
    "\n",
    "\n",
    "X7 = prevapplications.groupby(['SK_ID_CURR','CHANNEL_TYPE'])[['SK_ID_PREV']].nunique().reset_index()\n",
    "X7['maxcnt'] = X7.groupby('SK_ID_CURR')['SK_ID_PREV'].transform(max)\n",
    "X7['prefchannelflag'] = X7.apply(lambda x: 1 if x['SK_ID_PREV'] == x['maxcnt'] else 0,axis=1)\n",
    "X7['cntprefchannels'] = X7.groupby('SK_ID_CURR')['prefchannelflag'].transform(sum)\n",
    "X7.loc[X7['cntprefchannels'] > 1,'prefchannel'] = 'Multiple'\n",
    "X7.loc[X7['cntprefchannels'] == 1,'prefchannel'] = X7['CHANNEL_TYPE']\n",
    "X7 = X7[X7['SK_ID_PREV'] == X7['maxcnt']][['SK_ID_CURR','prefchannel']].drop_duplicates()\n",
    "\n",
    "\n",
    "X8 = prevapplications[prevapplications['NAME_PRODUCT_TYPE'] == 'x-sell'].groupby('SK_ID_CURR')[['SK_ID_PREV']].nunique().reset_index().rename(columns={'SK_ID_PREV':'cntXsellcreditaccounts'})\n",
    "X8 = pd.merge(df,X8,how='outer',on='SK_ID_CURR').replace(np.nan,0)\n",
    "\n",
    "\n",
    "dflist = [loan_sample,X1,X2,X3,X4,X5,X6,X7,X8]\n",
    "joinkey = 'SK_ID_CURR'\n",
    "\n",
    "prevapplications_features = multiple_left_join(dflist,joinkey).replace(np.nan,0)\n",
    "\n",
    "    \n"
   ]
  },
  {
   "cell_type": "markdown",
   "metadata": {},
   "source": [
    "## Merge features from all datasets"
   ]
  },
  {
   "cell_type": "code",
   "execution_count": 100,
   "metadata": {
    "ExecuteTime": {
     "end_time": "2020-04-19T03:08:38.495537Z",
     "start_time": "2020-04-19T03:08:31.912526Z"
    }
   },
   "outputs": [],
   "source": [
    "dflist = [apptrain,bureau_features_merged_all,pastinstalpaymentvars,pastinstalpaymentvars_more, prevapplications_features]\n",
    "joinkey = 'SK_ID_CURR'"
   ]
  },
  {
   "cell_type": "code",
   "execution_count": 98,
   "metadata": {
    "ExecuteTime": {
     "end_time": "2020-04-19T03:02:37.588674Z",
     "start_time": "2020-04-19T03:02:37.582681Z"
    }
   },
   "outputs": [
    {
     "data": {
      "text/plain": [
       "(307511, 200)"
      ]
     },
     "execution_count": 98,
     "metadata": {},
     "output_type": "execute_result"
    }
   ],
   "source": [
    "Master.shape"
   ]
  },
  {
   "cell_type": "code",
   "execution_count": 99,
   "metadata": {
    "ExecuteTime": {
     "end_time": "2020-04-19T03:02:55.178999Z",
     "start_time": "2020-04-19T03:02:55.130009Z"
    }
   },
   "outputs": [
    {
     "data": {
      "text/html": [
       "<div>\n",
       "<style scoped>\n",
       "    .dataframe tbody tr th:only-of-type {\n",
       "        vertical-align: middle;\n",
       "    }\n",
       "\n",
       "    .dataframe tbody tr th {\n",
       "        vertical-align: top;\n",
       "    }\n",
       "\n",
       "    .dataframe thead th {\n",
       "        text-align: right;\n",
       "    }\n",
       "</style>\n",
       "<table border=\"1\" class=\"dataframe\">\n",
       "  <thead>\n",
       "    <tr style=\"text-align: right;\">\n",
       "      <th></th>\n",
       "      <th>SK_ID_CURR</th>\n",
       "      <th>TARGET</th>\n",
       "      <th>NAME_CONTRACT_TYPE</th>\n",
       "      <th>CODE_GENDER</th>\n",
       "      <th>FLAG_OWN_CAR</th>\n",
       "      <th>FLAG_OWN_REALTY</th>\n",
       "      <th>CNT_CHILDREN</th>\n",
       "      <th>AMT_INCOME_TOTAL</th>\n",
       "      <th>AMT_CREDIT</th>\n",
       "      <th>AMT_ANNUITY</th>\n",
       "      <th>...</th>\n",
       "      <th>avgpastapplamountreq</th>\n",
       "      <th>pastapplamtcredittoreqratio</th>\n",
       "      <th>pastapplcnt_Cashloans</th>\n",
       "      <th>pastapplcnt_Consumerloans</th>\n",
       "      <th>pastapplcnt_Revolvingloans</th>\n",
       "      <th>pastapplcnt_XNA</th>\n",
       "      <th>propconsumerloanswith0downpaym</th>\n",
       "      <th>cntpastapplRefused</th>\n",
       "      <th>prefchannel</th>\n",
       "      <th>cntXsellcreditaccounts</th>\n",
       "    </tr>\n",
       "  </thead>\n",
       "  <tbody>\n",
       "    <tr>\n",
       "      <th>0</th>\n",
       "      <td>100002</td>\n",
       "      <td>1</td>\n",
       "      <td>Cash loans</td>\n",
       "      <td>M</td>\n",
       "      <td>N</td>\n",
       "      <td>Y</td>\n",
       "      <td>0</td>\n",
       "      <td>202500.0</td>\n",
       "      <td>406597.5</td>\n",
       "      <td>24700.5</td>\n",
       "      <td>...</td>\n",
       "      <td>179055.000000</td>\n",
       "      <td>1.000000</td>\n",
       "      <td>0.0</td>\n",
       "      <td>1.0</td>\n",
       "      <td>0.0</td>\n",
       "      <td>0.0</td>\n",
       "      <td>1.000000</td>\n",
       "      <td>0.0</td>\n",
       "      <td>Stone</td>\n",
       "      <td>0.0</td>\n",
       "    </tr>\n",
       "    <tr>\n",
       "      <th>1</th>\n",
       "      <td>100003</td>\n",
       "      <td>0</td>\n",
       "      <td>Cash loans</td>\n",
       "      <td>F</td>\n",
       "      <td>N</td>\n",
       "      <td>N</td>\n",
       "      <td>0</td>\n",
       "      <td>270000.0</td>\n",
       "      <td>1293502.5</td>\n",
       "      <td>35698.5</td>\n",
       "      <td>...</td>\n",
       "      <td>435436.500000</td>\n",
       "      <td>1.111967</td>\n",
       "      <td>1.0</td>\n",
       "      <td>2.0</td>\n",
       "      <td>0.0</td>\n",
       "      <td>0.0</td>\n",
       "      <td>0.500000</td>\n",
       "      <td>0.0</td>\n",
       "      <td>Multiple</td>\n",
       "      <td>1.0</td>\n",
       "    </tr>\n",
       "    <tr>\n",
       "      <th>2</th>\n",
       "      <td>100004</td>\n",
       "      <td>0</td>\n",
       "      <td>Revolving loans</td>\n",
       "      <td>M</td>\n",
       "      <td>Y</td>\n",
       "      <td>Y</td>\n",
       "      <td>0</td>\n",
       "      <td>67500.0</td>\n",
       "      <td>135000.0</td>\n",
       "      <td>6750.0</td>\n",
       "      <td>...</td>\n",
       "      <td>24282.000000</td>\n",
       "      <td>0.828021</td>\n",
       "      <td>0.0</td>\n",
       "      <td>1.0</td>\n",
       "      <td>0.0</td>\n",
       "      <td>0.0</td>\n",
       "      <td>0.000000</td>\n",
       "      <td>0.0</td>\n",
       "      <td>Regional / Local</td>\n",
       "      <td>0.0</td>\n",
       "    </tr>\n",
       "    <tr>\n",
       "      <th>3</th>\n",
       "      <td>100006</td>\n",
       "      <td>0</td>\n",
       "      <td>Cash loans</td>\n",
       "      <td>F</td>\n",
       "      <td>N</td>\n",
       "      <td>Y</td>\n",
       "      <td>0</td>\n",
       "      <td>135000.0</td>\n",
       "      <td>312682.5</td>\n",
       "      <td>29686.5</td>\n",
       "      <td>...</td>\n",
       "      <td>272203.260000</td>\n",
       "      <td>1.071609</td>\n",
       "      <td>5.0</td>\n",
       "      <td>2.0</td>\n",
       "      <td>2.0</td>\n",
       "      <td>0.0</td>\n",
       "      <td>0.000000</td>\n",
       "      <td>1.0</td>\n",
       "      <td>Credit and cash offices</td>\n",
       "      <td>4.0</td>\n",
       "    </tr>\n",
       "    <tr>\n",
       "      <th>4</th>\n",
       "      <td>100007</td>\n",
       "      <td>0</td>\n",
       "      <td>Cash loans</td>\n",
       "      <td>M</td>\n",
       "      <td>N</td>\n",
       "      <td>Y</td>\n",
       "      <td>0</td>\n",
       "      <td>121500.0</td>\n",
       "      <td>513000.0</td>\n",
       "      <td>21865.5</td>\n",
       "      <td>...</td>\n",
       "      <td>150530.250000</td>\n",
       "      <td>1.107012</td>\n",
       "      <td>4.0</td>\n",
       "      <td>2.0</td>\n",
       "      <td>0.0</td>\n",
       "      <td>0.0</td>\n",
       "      <td>0.000000</td>\n",
       "      <td>0.0</td>\n",
       "      <td>Country-wide</td>\n",
       "      <td>3.0</td>\n",
       "    </tr>\n",
       "    <tr>\n",
       "      <th>5</th>\n",
       "      <td>100008</td>\n",
       "      <td>0</td>\n",
       "      <td>Cash loans</td>\n",
       "      <td>M</td>\n",
       "      <td>N</td>\n",
       "      <td>Y</td>\n",
       "      <td>0</td>\n",
       "      <td>99000.0</td>\n",
       "      <td>490495.5</td>\n",
       "      <td>27517.5</td>\n",
       "      <td>...</td>\n",
       "      <td>155701.800000</td>\n",
       "      <td>1.045381</td>\n",
       "      <td>2.0</td>\n",
       "      <td>3.0</td>\n",
       "      <td>0.0</td>\n",
       "      <td>0.0</td>\n",
       "      <td>0.333333</td>\n",
       "      <td>0.0</td>\n",
       "      <td>Country-wide</td>\n",
       "      <td>1.0</td>\n",
       "    </tr>\n",
       "    <tr>\n",
       "      <th>6</th>\n",
       "      <td>100009</td>\n",
       "      <td>0</td>\n",
       "      <td>Cash loans</td>\n",
       "      <td>F</td>\n",
       "      <td>Y</td>\n",
       "      <td>Y</td>\n",
       "      <td>1</td>\n",
       "      <td>171000.0</td>\n",
       "      <td>1560726.0</td>\n",
       "      <td>41301.0</td>\n",
       "      <td>...</td>\n",
       "      <td>76741.714286</td>\n",
       "      <td>0.913944</td>\n",
       "      <td>0.0</td>\n",
       "      <td>7.0</td>\n",
       "      <td>0.0</td>\n",
       "      <td>0.0</td>\n",
       "      <td>0.142857</td>\n",
       "      <td>0.0</td>\n",
       "      <td>Regional / Local</td>\n",
       "      <td>0.0</td>\n",
       "    </tr>\n",
       "    <tr>\n",
       "      <th>7</th>\n",
       "      <td>100010</td>\n",
       "      <td>0</td>\n",
       "      <td>Cash loans</td>\n",
       "      <td>M</td>\n",
       "      <td>Y</td>\n",
       "      <td>Y</td>\n",
       "      <td>0</td>\n",
       "      <td>360000.0</td>\n",
       "      <td>1530000.0</td>\n",
       "      <td>42075.0</td>\n",
       "      <td>...</td>\n",
       "      <td>247212.000000</td>\n",
       "      <td>1.055009</td>\n",
       "      <td>0.0</td>\n",
       "      <td>1.0</td>\n",
       "      <td>0.0</td>\n",
       "      <td>0.0</td>\n",
       "      <td>1.000000</td>\n",
       "      <td>0.0</td>\n",
       "      <td>Stone</td>\n",
       "      <td>0.0</td>\n",
       "    </tr>\n",
       "    <tr>\n",
       "      <th>8</th>\n",
       "      <td>100011</td>\n",
       "      <td>0</td>\n",
       "      <td>Cash loans</td>\n",
       "      <td>F</td>\n",
       "      <td>N</td>\n",
       "      <td>Y</td>\n",
       "      <td>0</td>\n",
       "      <td>112500.0</td>\n",
       "      <td>1019610.0</td>\n",
       "      <td>33826.5</td>\n",
       "      <td>...</td>\n",
       "      <td>202732.875000</td>\n",
       "      <td>1.291554</td>\n",
       "      <td>2.0</td>\n",
       "      <td>1.0</td>\n",
       "      <td>1.0</td>\n",
       "      <td>0.0</td>\n",
       "      <td>0.000000</td>\n",
       "      <td>1.0</td>\n",
       "      <td>Credit and cash offices</td>\n",
       "      <td>1.0</td>\n",
       "    </tr>\n",
       "    <tr>\n",
       "      <th>9</th>\n",
       "      <td>100012</td>\n",
       "      <td>0</td>\n",
       "      <td>Revolving loans</td>\n",
       "      <td>M</td>\n",
       "      <td>N</td>\n",
       "      <td>Y</td>\n",
       "      <td>0</td>\n",
       "      <td>135000.0</td>\n",
       "      <td>405000.0</td>\n",
       "      <td>20250.0</td>\n",
       "      <td>...</td>\n",
       "      <td>60930.000000</td>\n",
       "      <td>1.216470</td>\n",
       "      <td>3.0</td>\n",
       "      <td>1.0</td>\n",
       "      <td>0.0</td>\n",
       "      <td>0.0</td>\n",
       "      <td>1.000000</td>\n",
       "      <td>0.0</td>\n",
       "      <td>Credit and cash offices</td>\n",
       "      <td>2.0</td>\n",
       "    </tr>\n",
       "  </tbody>\n",
       "</table>\n",
       "<p>10 rows × 200 columns</p>\n",
       "</div>"
      ],
      "text/plain": [
       "   SK_ID_CURR  TARGET NAME_CONTRACT_TYPE CODE_GENDER FLAG_OWN_CAR  \\\n",
       "0      100002       1         Cash loans           M            N   \n",
       "1      100003       0         Cash loans           F            N   \n",
       "2      100004       0    Revolving loans           M            Y   \n",
       "3      100006       0         Cash loans           F            N   \n",
       "4      100007       0         Cash loans           M            N   \n",
       "5      100008       0         Cash loans           M            N   \n",
       "6      100009       0         Cash loans           F            Y   \n",
       "7      100010       0         Cash loans           M            Y   \n",
       "8      100011       0         Cash loans           F            N   \n",
       "9      100012       0    Revolving loans           M            N   \n",
       "\n",
       "  FLAG_OWN_REALTY  CNT_CHILDREN  AMT_INCOME_TOTAL  AMT_CREDIT  AMT_ANNUITY  \\\n",
       "0               Y             0          202500.0    406597.5      24700.5   \n",
       "1               N             0          270000.0   1293502.5      35698.5   \n",
       "2               Y             0           67500.0    135000.0       6750.0   \n",
       "3               Y             0          135000.0    312682.5      29686.5   \n",
       "4               Y             0          121500.0    513000.0      21865.5   \n",
       "5               Y             0           99000.0    490495.5      27517.5   \n",
       "6               Y             1          171000.0   1560726.0      41301.0   \n",
       "7               Y             0          360000.0   1530000.0      42075.0   \n",
       "8               Y             0          112500.0   1019610.0      33826.5   \n",
       "9               Y             0          135000.0    405000.0      20250.0   \n",
       "\n",
       "   ...  avgpastapplamountreq pastapplamtcredittoreqratio  \\\n",
       "0  ...         179055.000000                    1.000000   \n",
       "1  ...         435436.500000                    1.111967   \n",
       "2  ...          24282.000000                    0.828021   \n",
       "3  ...         272203.260000                    1.071609   \n",
       "4  ...         150530.250000                    1.107012   \n",
       "5  ...         155701.800000                    1.045381   \n",
       "6  ...          76741.714286                    0.913944   \n",
       "7  ...         247212.000000                    1.055009   \n",
       "8  ...         202732.875000                    1.291554   \n",
       "9  ...          60930.000000                    1.216470   \n",
       "\n",
       "  pastapplcnt_Cashloans pastapplcnt_Consumerloans pastapplcnt_Revolvingloans  \\\n",
       "0                   0.0                       1.0                        0.0   \n",
       "1                   1.0                       2.0                        0.0   \n",
       "2                   0.0                       1.0                        0.0   \n",
       "3                   5.0                       2.0                        2.0   \n",
       "4                   4.0                       2.0                        0.0   \n",
       "5                   2.0                       3.0                        0.0   \n",
       "6                   0.0                       7.0                        0.0   \n",
       "7                   0.0                       1.0                        0.0   \n",
       "8                   2.0                       1.0                        1.0   \n",
       "9                   3.0                       1.0                        0.0   \n",
       "\n",
       "  pastapplcnt_XNA  propconsumerloanswith0downpaym  cntpastapplRefused  \\\n",
       "0             0.0                        1.000000                 0.0   \n",
       "1             0.0                        0.500000                 0.0   \n",
       "2             0.0                        0.000000                 0.0   \n",
       "3             0.0                        0.000000                 1.0   \n",
       "4             0.0                        0.000000                 0.0   \n",
       "5             0.0                        0.333333                 0.0   \n",
       "6             0.0                        0.142857                 0.0   \n",
       "7             0.0                        1.000000                 0.0   \n",
       "8             0.0                        0.000000                 1.0   \n",
       "9             0.0                        1.000000                 0.0   \n",
       "\n",
       "               prefchannel  cntXsellcreditaccounts  \n",
       "0                    Stone                     0.0  \n",
       "1                 Multiple                     1.0  \n",
       "2         Regional / Local                     0.0  \n",
       "3  Credit and cash offices                     4.0  \n",
       "4             Country-wide                     3.0  \n",
       "5             Country-wide                     1.0  \n",
       "6         Regional / Local                     0.0  \n",
       "7                    Stone                     0.0  \n",
       "8  Credit and cash offices                     1.0  \n",
       "9  Credit and cash offices                     2.0  \n",
       "\n",
       "[10 rows x 200 columns]"
      ]
     },
     "execution_count": 99,
     "metadata": {},
     "output_type": "execute_result"
    }
   ],
   "source": [
    "Master.head(10)"
   ]
  },
  {
   "cell_type": "code",
   "execution_count": 101,
   "metadata": {
    "ExecuteTime": {
     "end_time": "2020-04-19T03:11:12.163311Z",
     "start_time": "2020-04-19T03:10:15.006977Z"
    }
   },
   "outputs": [],
   "source": [
    "# Export Master data and close session\n",
    "Master.to_csv(\"Master.csv\")"
   ]
  },
  {
   "cell_type": "markdown",
   "metadata": {},
   "source": [
    "# Explore Master Dataset"
   ]
  },
  {
   "cell_type": "code",
   "execution_count": 4,
   "metadata": {
    "ExecuteTime": {
     "end_time": "2020-04-19T06:21:03.555816Z",
     "start_time": "2020-04-19T06:20:53.860909Z"
    }
   },
   "outputs": [],
   "source": [
    "# -------- Restart Session\n",
    "# Import Master data created above\n",
    "\n",
    "master = pd.read_csv(\"Master.csv\")\n",
    "master.replace(np.nan,0,inplace=True)"
   ]
  },
  {
   "cell_type": "code",
   "execution_count": 18,
   "metadata": {
    "ExecuteTime": {
     "end_time": "2020-04-19T06:29:35.764932Z",
     "start_time": "2020-04-19T06:29:33.648403Z"
    }
   },
   "outputs": [],
   "source": [
    "master = master.replace([np.inf, -np.inf], np.nan)\n",
    "master = master.dropna(axis=0)"
   ]
  },
  {
   "cell_type": "code",
   "execution_count": 10,
   "metadata": {
    "ExecuteTime": {
     "end_time": "2020-04-19T04:31:17.393049Z",
     "start_time": "2020-04-19T04:31:17.384059Z"
    },
    "scrolled": true
   },
   "outputs": [
    {
     "name": "stdout",
     "output_type": "stream",
     "text": [
      "Unnamed: 0                          int64\n",
      "SK_ID_CURR                          int64\n",
      "TARGET                              int64\n",
      "NAME_CONTRACT_TYPE                 object\n",
      "CODE_GENDER                        object\n",
      "                                   ...   \n",
      "pastapplcnt_XNA                   float64\n",
      "propconsumerloanswith0downpaym    float64\n",
      "cntpastapplRefused                float64\n",
      "prefchannel                        object\n",
      "cntXsellcreditaccounts            float64\n",
      "Length: 201, dtype: object\n"
     ]
    }
   ],
   "source": [
    "print(master.dtypes)"
   ]
  },
  {
   "cell_type": "code",
   "execution_count": 19,
   "metadata": {
    "ExecuteTime": {
     "end_time": "2020-04-19T06:30:26.397521Z",
     "start_time": "2020-04-19T06:30:26.333556Z"
    }
   },
   "outputs": [
    {
     "data": {
      "text/plain": [
       "(306206, 201)"
      ]
     },
     "execution_count": 19,
     "metadata": {},
     "output_type": "execute_result"
    }
   ],
   "source": [
    "master.shape"
   ]
  },
  {
   "cell_type": "markdown",
   "metadata": {},
   "source": [
    "## Explore categorical variables"
   ]
  },
  {
   "cell_type": "code",
   "execution_count": 8,
   "metadata": {
    "ExecuteTime": {
     "end_time": "2020-04-19T04:27:28.155880Z",
     "start_time": "2020-04-19T04:27:24.185075Z"
    }
   },
   "outputs": [
    {
     "name": "stdout",
     "output_type": "stream",
     "text": [
      "NAME_CONTRACT_TYPE \n",
      "\n",
      "                 NAME_CONTRACT_TYPE\n",
      "Cash loans                   278232\n",
      "Revolving loans               29279 \n",
      "\n",
      "CODE_GENDER \n",
      "\n",
      "     CODE_GENDER\n",
      "F         202448\n",
      "M         105059\n",
      "XNA            4 \n",
      "\n",
      "FLAG_OWN_CAR \n",
      "\n",
      "   FLAG_OWN_CAR\n",
      "N        202924\n",
      "Y        104587 \n",
      "\n",
      "FLAG_OWN_REALTY \n",
      "\n",
      "   FLAG_OWN_REALTY\n",
      "Y           213312\n",
      "N            94199 \n",
      "\n",
      "NAME_TYPE_SUITE \n",
      "\n",
      "                 NAME_TYPE_SUITE\n",
      "Unaccompanied             248526\n",
      "Family                     40149\n",
      "Spouse, partner            11370\n",
      "Children                    3267\n",
      "Other_B                     1770\n",
      "0                           1292\n",
      "Other_A                      866\n",
      "Group of people              271 \n",
      "\n",
      "NAME_INCOME_TYPE \n",
      "\n",
      "                      NAME_INCOME_TYPE\n",
      "Working                         158774\n",
      "Commercial associate             71617\n",
      "Pensioner                        55362\n",
      "State servant                    21703\n",
      "Unemployed                          22\n",
      "Student                             18\n",
      "Businessman                         10\n",
      "Maternity leave                      5 \n",
      "\n",
      "NAME_EDUCATION_TYPE \n",
      "\n",
      "                               NAME_EDUCATION_TYPE\n",
      "Secondary / secondary special               218391\n",
      "Higher education                             74863\n",
      "Incomplete higher                            10277\n",
      "Lower secondary                               3816\n",
      "Academic degree                                164 \n",
      "\n",
      "NAME_FAMILY_STATUS \n",
      "\n",
      "                      NAME_FAMILY_STATUS\n",
      "Married                           196432\n",
      "Single / not married               45444\n",
      "Civil marriage                     29775\n",
      "Separated                          19770\n",
      "Widow                              16088\n",
      "Unknown                                2 \n",
      "\n",
      "NAME_HOUSING_TYPE \n",
      "\n",
      "                     NAME_HOUSING_TYPE\n",
      "House / apartment               272868\n",
      "With parents                     14840\n",
      "Municipal apartment              11183\n",
      "Rented apartment                  4881\n",
      "Office apartment                  2617\n",
      "Co-op apartment                   1122 \n",
      "\n",
      "OCCUPATION_TYPE \n",
      "\n",
      "                       OCCUPATION_TYPE\n",
      "0                                96391\n",
      "Laborers                         55186\n",
      "Sales staff                      32102\n",
      "Core staff                       27570\n",
      "Managers                         21371\n",
      "Drivers                          18603\n",
      "High skill tech staff            11380\n",
      "Accountants                       9813\n",
      "Medicine staff                    8537\n",
      "Security staff                    6721\n",
      "Cooking staff                     5946\n",
      "Cleaning staff                    4653\n",
      "Private service staff             2652\n",
      "Low-skill Laborers                2093\n",
      "Waiters/barmen staff              1348\n",
      "Secretaries                       1305\n",
      "Realty agents                      751\n",
      "HR staff                           563\n",
      "IT staff                           526 \n",
      "\n",
      "WEEKDAY_APPR_PROCESS_START \n",
      "\n",
      "           WEEKDAY_APPR_PROCESS_START\n",
      "TUESDAY                         53901\n",
      "WEDNESDAY                       51934\n",
      "MONDAY                          50714\n",
      "THURSDAY                        50591\n",
      "FRIDAY                          50338\n",
      "SATURDAY                        33852\n",
      "SUNDAY                          16181 \n",
      "\n",
      "ORGANIZATION_TYPE \n",
      "\n",
      "                        ORGANIZATION_TYPE\n",
      "Business Entity Type 3              67992\n",
      "XNA                                 55374\n",
      "Self-employed                       38412\n",
      "Other                               16683\n",
      "Medicine                            11193\n",
      "Business Entity Type 2              10553\n",
      "Government                          10404\n",
      "School                               8893\n",
      "Trade: type 7                        7831\n",
      "Kindergarten                         6880\n",
      "Construction                         6721\n",
      "Business Entity Type 1               5984\n",
      "Transport: type 4                    5398\n",
      "Trade: type 3                        3492\n",
      "Industry: type 9                     3368\n",
      "Industry: type 3                     3278\n",
      "Security                             3247\n",
      "Housing                              2958\n",
      "Industry: type 11                    2704\n",
      "Military                             2634\n",
      "Bank                                 2507\n",
      "Agriculture                          2454\n",
      "Police                               2341\n",
      "Transport: type 2                    2204\n",
      "Postal                               2157\n",
      "Security Ministries                  1974\n",
      "Trade: type 2                        1900\n",
      "Restaurant                           1811\n",
      "Services                             1575\n",
      "University                           1327\n",
      "Industry: type 7                     1307\n",
      "Transport: type 3                    1187\n",
      "Industry: type 1                     1039\n",
      "Hotel                                 966\n",
      "Electricity                           950\n",
      "Industry: type 4                      877\n",
      "Trade: type 6                         631\n",
      "Industry: type 5                      599\n",
      "Insurance                             597\n",
      "Telecom                               577\n",
      "Emergency                             560\n",
      "Industry: type 2                      458\n",
      "Advertising                           429\n",
      "Realtor                               396\n",
      "Culture                               379\n",
      "Industry: type 12                     369\n",
      "Trade: type 1                         348\n",
      "Mobile                                317\n",
      "Legal Services                        305\n",
      "Cleaning                              260\n",
      "Transport: type 1                     201\n",
      "Industry: type 6                      112\n",
      "Industry: type 10                     109\n",
      "Religion                               85\n",
      "Industry: type 13                      67\n",
      "Trade: type 4                          64\n",
      "Trade: type 5                          49\n",
      "Industry: type 8                       24 \n",
      "\n",
      "FONDKAPREMONT_MODE \n",
      "\n",
      "                       FONDKAPREMONT_MODE\n",
      "0                                  210295\n",
      "reg oper account                    73830\n",
      "reg oper spec account               12080\n",
      "not specified                        5687\n",
      "org spec account                     5619 \n",
      "\n",
      "HOUSETYPE_MODE \n",
      "\n",
      "                  HOUSETYPE_MODE\n",
      "0                         154297\n",
      "block of flats            150503\n",
      "specific housing            1499\n",
      "terraced house              1212 \n",
      "\n",
      "WALLSMATERIAL_MODE \n",
      "\n",
      "              WALLSMATERIAL_MODE\n",
      "0                         156341\n",
      "Panel                      66040\n",
      "Stone, brick               64815\n",
      "Block                       9253\n",
      "Wooden                      5362\n",
      "Mixed                       2296\n",
      "Monolithic                  1779\n",
      "Others                      1625 \n",
      "\n",
      "EMERGENCYSTATE_MODE \n",
      "\n",
      "     EMERGENCYSTATE_MODE\n",
      "No                159428\n",
      "0                 145755\n",
      "Yes                 2328 \n",
      "\n",
      "prefchannel \n",
      "\n",
      "                            prefchannel\n",
      "Credit and cash offices           90312\n",
      "Country-wide                      88529\n",
      "Multiple                          52843\n",
      "Stone                             33043\n",
      "0                                 16454\n",
      "Regional / Local                  15700\n",
      "AP+ (Cash loan)                    6363\n",
      "Contact center                     3345\n",
      "Channel of corporate sales          889\n",
      "Car dealer                           33 \n",
      "\n"
     ]
    }
   ],
   "source": [
    "categorical_var_freq(master)"
   ]
  },
  {
   "cell_type": "code",
   "execution_count": 13,
   "metadata": {
    "ExecuteTime": {
     "end_time": "2020-04-19T04:34:50.466961Z",
     "start_time": "2020-04-19T04:34:42.180254Z"
    }
   },
   "outputs": [
    {
     "data": {
      "image/png": "[encoded data removed]",
      "text/plain": [
       "<Figure size 2880x2880 with 16 Axes>"
      ]
     },
     "metadata": {
      "needs_background": "light"
     },
     "output_type": "display_data"
    }
   ],
   "source": [
    "plot_stacked_bars(master,'TARGET','SK_ID_CURR')"
   ]
  },
  {
   "cell_type": "code",
   "execution_count": 18,
   "metadata": {
    "ExecuteTime": {
     "end_time": "2020-04-19T04:49:50.413466Z",
     "start_time": "2020-04-19T04:49:21.602013Z"
    }
   },
   "outputs": [
    {
     "data": {
      "text/plain": [
       "<matplotlib.axes._subplots.AxesSubplot at 0x23a53ac7588>"
      ]
     },
     "execution_count": 18,
     "metadata": {},
     "output_type": "execute_result"
    },
    {
     "data": {
      "image/png": "[encoded data removed]",
      "text/plain": [
       "<Figure size 432x288 with 2 Axes>"
      ]
     },
     "metadata": {
      "needs_background": "light"
     },
     "output_type": "display_data"
    }
   ],
   "source": [
    "df = master.drop(['SK_ID_CURR'],axis=1).copy()\n",
    "df['TARGET'] = df['TARGET'].astype('object') \n",
    "categcols = list(df.select_dtypes(include = \"object\").columns)\n",
    "assoc_table = np.empty((len(categcols),len(categcols)))\n",
    "i=0\n",
    "j=0\n",
    "\n",
    "while i<len(categcols):\n",
    "    while j<len(categcols):\n",
    "        v1=df[categcols[i]]\n",
    "        v2=df[categcols[j]]\n",
    "        assoc_table[i,j] = cramers_v(v1,v2)\n",
    "        j=j+1\n",
    "    i=i+1\n",
    "    j=0\n",
    "\n",
    "assoc_data = pd.DataFrame(assoc_table,index=categcols,columns=categcols)\n",
    "# display(assoc_data)\n",
    "\n",
    "sb.heatmap(assoc_data, cmap='PuOr')"
   ]
  },
  {
   "cell_type": "markdown",
   "metadata": {},
   "source": [
    "## Explore Numerical variables"
   ]
  },
  {
   "cell_type": "code",
   "execution_count": 19,
   "metadata": {
    "ExecuteTime": {
     "end_time": "2020-04-19T04:53:46.116902Z",
     "start_time": "2020-04-19T04:53:42.752827Z"
    }
   },
   "outputs": [
    {
     "data": {
      "text/html": [
       "<div>\n",
       "<style scoped>\n",
       "    .dataframe tbody tr th:only-of-type {\n",
       "        vertical-align: middle;\n",
       "    }\n",
       "\n",
       "    .dataframe tbody tr th {\n",
       "        vertical-align: top;\n",
       "    }\n",
       "\n",
       "    .dataframe thead th {\n",
       "        text-align: right;\n",
       "    }\n",
       "</style>\n",
       "<table border=\"1\" class=\"dataframe\">\n",
       "  <thead>\n",
       "    <tr style=\"text-align: right;\">\n",
       "      <th></th>\n",
       "      <th>Unnamed: 0</th>\n",
       "      <th>CNT_CHILDREN</th>\n",
       "      <th>AMT_INCOME_TOTAL</th>\n",
       "      <th>AMT_CREDIT</th>\n",
       "      <th>AMT_ANNUITY</th>\n",
       "      <th>AMT_GOODS_PRICE</th>\n",
       "      <th>REGION_POPULATION_RELATIVE</th>\n",
       "      <th>DAYS_BIRTH</th>\n",
       "      <th>DAYS_EMPLOYED</th>\n",
       "      <th>DAYS_REGISTRATION</th>\n",
       "      <th>...</th>\n",
       "      <th>lastapplamountrequested</th>\n",
       "      <th>avgpastapplamountreq</th>\n",
       "      <th>pastapplamtcredittoreqratio</th>\n",
       "      <th>pastapplcnt_Cashloans</th>\n",
       "      <th>pastapplcnt_Consumerloans</th>\n",
       "      <th>pastapplcnt_Revolvingloans</th>\n",
       "      <th>pastapplcnt_XNA</th>\n",
       "      <th>propconsumerloanswith0downpaym</th>\n",
       "      <th>cntpastapplRefused</th>\n",
       "      <th>cntXsellcreditaccounts</th>\n",
       "    </tr>\n",
       "  </thead>\n",
       "  <tbody>\n",
       "    <tr>\n",
       "      <th>count</th>\n",
       "      <td>307511.000000</td>\n",
       "      <td>307511.000000</td>\n",
       "      <td>3.075110e+05</td>\n",
       "      <td>3.075110e+05</td>\n",
       "      <td>307511.000000</td>\n",
       "      <td>3.075110e+05</td>\n",
       "      <td>307511.000000</td>\n",
       "      <td>307511.000000</td>\n",
       "      <td>307511.000000</td>\n",
       "      <td>307511.000000</td>\n",
       "      <td>...</td>\n",
       "      <td>3.075110e+05</td>\n",
       "      <td>3.075110e+05</td>\n",
       "      <td>3.075110e+05</td>\n",
       "      <td>307511.000000</td>\n",
       "      <td>307511.000000</td>\n",
       "      <td>307511.000000</td>\n",
       "      <td>307511.000000</td>\n",
       "      <td>307511.000000</td>\n",
       "      <td>307511.000000</td>\n",
       "      <td>307511.000000</td>\n",
       "    </tr>\n",
       "    <tr>\n",
       "      <th>mean</th>\n",
       "      <td>153755.000000</td>\n",
       "      <td>0.417052</td>\n",
       "      <td>1.687979e+05</td>\n",
       "      <td>5.990260e+05</td>\n",
       "      <td>27107.516051</td>\n",
       "      <td>5.379095e+05</td>\n",
       "      <td>0.020868</td>\n",
       "      <td>-16036.995067</td>\n",
       "      <td>63815.045904</td>\n",
       "      <td>-4986.120328</td>\n",
       "      <td>...</td>\n",
       "      <td>1.578430e+05</td>\n",
       "      <td>1.457651e+05</td>\n",
       "      <td>inf</td>\n",
       "      <td>2.038184</td>\n",
       "      <td>2.033280</td>\n",
       "      <td>0.524755</td>\n",
       "      <td>0.001018</td>\n",
       "      <td>0.379538</td>\n",
       "      <td>0.797988</td>\n",
       "      <td>1.253269</td>\n",
       "    </tr>\n",
       "    <tr>\n",
       "      <th>std</th>\n",
       "      <td>88770.923652</td>\n",
       "      <td>0.722121</td>\n",
       "      <td>2.371231e+05</td>\n",
       "      <td>4.024908e+05</td>\n",
       "      <td>14494.443757</td>\n",
       "      <td>3.696338e+05</td>\n",
       "      <td>0.013831</td>\n",
       "      <td>4363.988632</td>\n",
       "      <td>141275.766519</td>\n",
       "      <td>3522.886321</td>\n",
       "      <td>...</td>\n",
       "      <td>2.804727e+05</td>\n",
       "      <td>1.531047e+05</td>\n",
       "      <td>NaN</td>\n",
       "      <td>3.180878</td>\n",
       "      <td>1.828083</td>\n",
       "      <td>0.989541</td>\n",
       "      <td>0.034999</td>\n",
       "      <td>0.409012</td>\n",
       "      <td>1.774843</td>\n",
       "      <td>1.958884</td>\n",
       "    </tr>\n",
       "    <tr>\n",
       "      <th>min</th>\n",
       "      <td>0.000000</td>\n",
       "      <td>0.000000</td>\n",
       "      <td>2.565000e+04</td>\n",
       "      <td>4.500000e+04</td>\n",
       "      <td>0.000000</td>\n",
       "      <td>0.000000e+00</td>\n",
       "      <td>0.000290</td>\n",
       "      <td>-25229.000000</td>\n",
       "      <td>-17912.000000</td>\n",
       "      <td>-24672.000000</td>\n",
       "      <td>...</td>\n",
       "      <td>0.000000e+00</td>\n",
       "      <td>0.000000e+00</td>\n",
       "      <td>0.000000e+00</td>\n",
       "      <td>0.000000</td>\n",
       "      <td>0.000000</td>\n",
       "      <td>0.000000</td>\n",
       "      <td>0.000000</td>\n",
       "      <td>0.000000</td>\n",
       "      <td>0.000000</td>\n",
       "      <td>0.000000</td>\n",
       "    </tr>\n",
       "    <tr>\n",
       "      <th>25%</th>\n",
       "      <td>76877.500000</td>\n",
       "      <td>0.000000</td>\n",
       "      <td>1.125000e+05</td>\n",
       "      <td>2.700000e+05</td>\n",
       "      <td>16524.000000</td>\n",
       "      <td>2.385000e+05</td>\n",
       "      <td>0.010006</td>\n",
       "      <td>-19682.000000</td>\n",
       "      <td>-2760.000000</td>\n",
       "      <td>-7479.500000</td>\n",
       "      <td>...</td>\n",
       "      <td>0.000000e+00</td>\n",
       "      <td>5.525100e+04</td>\n",
       "      <td>9.827807e-01</td>\n",
       "      <td>0.000000</td>\n",
       "      <td>1.000000</td>\n",
       "      <td>0.000000</td>\n",
       "      <td>0.000000</td>\n",
       "      <td>0.000000</td>\n",
       "      <td>0.000000</td>\n",
       "      <td>0.000000</td>\n",
       "    </tr>\n",
       "    <tr>\n",
       "      <th>50%</th>\n",
       "      <td>153755.000000</td>\n",
       "      <td>0.000000</td>\n",
       "      <td>1.471500e+05</td>\n",
       "      <td>5.135310e+05</td>\n",
       "      <td>24903.000000</td>\n",
       "      <td>4.500000e+05</td>\n",
       "      <td>0.018850</td>\n",
       "      <td>-15750.000000</td>\n",
       "      <td>-1213.000000</td>\n",
       "      <td>-4504.000000</td>\n",
       "      <td>...</td>\n",
       "      <td>6.070950e+04</td>\n",
       "      <td>9.984857e+04</td>\n",
       "      <td>1.045594e+00</td>\n",
       "      <td>1.000000</td>\n",
       "      <td>2.000000</td>\n",
       "      <td>0.000000</td>\n",
       "      <td>0.000000</td>\n",
       "      <td>0.285714</td>\n",
       "      <td>0.000000</td>\n",
       "      <td>0.000000</td>\n",
       "    </tr>\n",
       "    <tr>\n",
       "      <th>75%</th>\n",
       "      <td>230632.500000</td>\n",
       "      <td>1.000000</td>\n",
       "      <td>2.025000e+05</td>\n",
       "      <td>8.086500e+05</td>\n",
       "      <td>34596.000000</td>\n",
       "      <td>6.795000e+05</td>\n",
       "      <td>0.028663</td>\n",
       "      <td>-12413.000000</td>\n",
       "      <td>-289.000000</td>\n",
       "      <td>-2010.000000</td>\n",
       "      <td>...</td>\n",
       "      <td>1.584000e+05</td>\n",
       "      <td>1.832186e+05</td>\n",
       "      <td>1.122567e+00</td>\n",
       "      <td>3.000000</td>\n",
       "      <td>3.000000</td>\n",
       "      <td>1.000000</td>\n",
       "      <td>0.000000</td>\n",
       "      <td>0.750000</td>\n",
       "      <td>1.000000</td>\n",
       "      <td>2.000000</td>\n",
       "    </tr>\n",
       "    <tr>\n",
       "      <th>max</th>\n",
       "      <td>307510.000000</td>\n",
       "      <td>19.000000</td>\n",
       "      <td>1.170000e+08</td>\n",
       "      <td>4.050000e+06</td>\n",
       "      <td>258025.500000</td>\n",
       "      <td>4.050000e+06</td>\n",
       "      <td>0.072508</td>\n",
       "      <td>-7489.000000</td>\n",
       "      <td>365243.000000</td>\n",
       "      <td>0.000000</td>\n",
       "      <td>...</td>\n",
       "      <td>4.050000e+06</td>\n",
       "      <td>4.050000e+06</td>\n",
       "      <td>inf</td>\n",
       "      <td>60.000000</td>\n",
       "      <td>45.000000</td>\n",
       "      <td>31.000000</td>\n",
       "      <td>3.000000</td>\n",
       "      <td>1.000000</td>\n",
       "      <td>68.000000</td>\n",
       "      <td>51.000000</td>\n",
       "    </tr>\n",
       "  </tbody>\n",
       "</table>\n",
       "<p>8 rows × 182 columns</p>\n",
       "</div>"
      ],
      "text/plain": [
       "          Unnamed: 0   CNT_CHILDREN  AMT_INCOME_TOTAL    AMT_CREDIT  \\\n",
       "count  307511.000000  307511.000000      3.075110e+05  3.075110e+05   \n",
       "mean   153755.000000       0.417052      1.687979e+05  5.990260e+05   \n",
       "std     88770.923652       0.722121      2.371231e+05  4.024908e+05   \n",
       "min         0.000000       0.000000      2.565000e+04  4.500000e+04   \n",
       "25%     76877.500000       0.000000      1.125000e+05  2.700000e+05   \n",
       "50%    153755.000000       0.000000      1.471500e+05  5.135310e+05   \n",
       "75%    230632.500000       1.000000      2.025000e+05  8.086500e+05   \n",
       "max    307510.000000      19.000000      1.170000e+08  4.050000e+06   \n",
       "\n",
       "         AMT_ANNUITY  AMT_GOODS_PRICE  REGION_POPULATION_RELATIVE  \\\n",
       "count  307511.000000     3.075110e+05               307511.000000   \n",
       "mean    27107.516051     5.379095e+05                    0.020868   \n",
       "std     14494.443757     3.696338e+05                    0.013831   \n",
       "min         0.000000     0.000000e+00                    0.000290   \n",
       "25%     16524.000000     2.385000e+05                    0.010006   \n",
       "50%     24903.000000     4.500000e+05                    0.018850   \n",
       "75%     34596.000000     6.795000e+05                    0.028663   \n",
       "max    258025.500000     4.050000e+06                    0.072508   \n",
       "\n",
       "          DAYS_BIRTH  DAYS_EMPLOYED  DAYS_REGISTRATION  ...  \\\n",
       "count  307511.000000  307511.000000      307511.000000  ...   \n",
       "mean   -16036.995067   63815.045904       -4986.120328  ...   \n",
       "std      4363.988632  141275.766519        3522.886321  ...   \n",
       "min    -25229.000000  -17912.000000      -24672.000000  ...   \n",
       "25%    -19682.000000   -2760.000000       -7479.500000  ...   \n",
       "50%    -15750.000000   -1213.000000       -4504.000000  ...   \n",
       "75%    -12413.000000    -289.000000       -2010.000000  ...   \n",
       "max     -7489.000000  365243.000000           0.000000  ...   \n",
       "\n",
       "       lastapplamountrequested  avgpastapplamountreq  \\\n",
       "count             3.075110e+05          3.075110e+05   \n",
       "mean              1.578430e+05          1.457651e+05   \n",
       "std               2.804727e+05          1.531047e+05   \n",
       "min               0.000000e+00          0.000000e+00   \n",
       "25%               0.000000e+00          5.525100e+04   \n",
       "50%               6.070950e+04          9.984857e+04   \n",
       "75%               1.584000e+05          1.832186e+05   \n",
       "max               4.050000e+06          4.050000e+06   \n",
       "\n",
       "       pastapplamtcredittoreqratio  pastapplcnt_Cashloans  \\\n",
       "count                 3.075110e+05          307511.000000   \n",
       "mean                           inf               2.038184   \n",
       "std                            NaN               3.180878   \n",
       "min                   0.000000e+00               0.000000   \n",
       "25%                   9.827807e-01               0.000000   \n",
       "50%                   1.045594e+00               1.000000   \n",
       "75%                   1.122567e+00               3.000000   \n",
       "max                            inf              60.000000   \n",
       "\n",
       "       pastapplcnt_Consumerloans  pastapplcnt_Revolvingloans  pastapplcnt_XNA  \\\n",
       "count              307511.000000               307511.000000    307511.000000   \n",
       "mean                    2.033280                    0.524755         0.001018   \n",
       "std                     1.828083                    0.989541         0.034999   \n",
       "min                     0.000000                    0.000000         0.000000   \n",
       "25%                     1.000000                    0.000000         0.000000   \n",
       "50%                     2.000000                    0.000000         0.000000   \n",
       "75%                     3.000000                    1.000000         0.000000   \n",
       "max                    45.000000                   31.000000         3.000000   \n",
       "\n",
       "       propconsumerloanswith0downpaym  cntpastapplRefused  \\\n",
       "count                   307511.000000       307511.000000   \n",
       "mean                         0.379538            0.797988   \n",
       "std                          0.409012            1.774843   \n",
       "min                          0.000000            0.000000   \n",
       "25%                          0.000000            0.000000   \n",
       "50%                          0.285714            0.000000   \n",
       "75%                          0.750000            1.000000   \n",
       "max                          1.000000           68.000000   \n",
       "\n",
       "       cntXsellcreditaccounts  \n",
       "count           307511.000000  \n",
       "mean                 1.253269  \n",
       "std                  1.958884  \n",
       "min                  0.000000  \n",
       "25%                  0.000000  \n",
       "50%                  0.000000  \n",
       "75%                  2.000000  \n",
       "max                 51.000000  \n",
       "\n",
       "[8 rows x 182 columns]"
      ]
     },
     "execution_count": 19,
     "metadata": {},
     "output_type": "execute_result"
    }
   ],
   "source": [
    "master.drop(['SK_ID_CURR','TARGET'],axis=1).describe()"
   ]
  },
  {
   "cell_type": "code",
   "execution_count": 170,
   "metadata": {
    "ExecuteTime": {
     "end_time": "2020-04-19T19:49:29.389038Z",
     "start_time": "2020-04-19T19:49:26.852477Z"
    }
   },
   "outputs": [
    {
     "data": {
      "image/png": "[encoded data removed]",
      "text/plain": [
       "<Figure size 1080x720 with 4 Axes>"
      ]
     },
     "metadata": {
      "needs_background": "light"
     },
     "output_type": "display_data"
    }
   ],
   "source": [
    "df0 = master[master['TARGET']==0]\n",
    "df1 = master[master['TARGET']==1]\n",
    "\n",
    "\n",
    "# numericcolnames = ['application_interval','DAYS_CREDIT_UPDATE','ip_total_less_times_1y','ip_total_actual_payment_1m','MAX_AMT_CREDIT_SUM_DEBT','propdelayedinstalpayments_12months','ActDebtToCreditRatio','AMT_INCOME_TOTAL']\n",
    "\n",
    "\n",
    "fig, axes = plt.subplots(2, 2, figsize=(15,10))\n",
    "\n",
    "sb.distplot(df0['application_interval'],color=\"skyblue\",label=var,ax=axes[0,0]);\n",
    "sb.distplot(df1['application_interval'],color=\"red\",label=var,ax=axes[0,0]);\n",
    "\n",
    "sb.distplot(df0['MAX_AMT_CREDIT_SUM_DEBT'],color=\"skyblue\",label=var,ax=axes[0,1]);\n",
    "sb.distplot(df1['MAX_AMT_CREDIT_SUM_DEBT'],color=\"red\",label=var,ax=axes[0,1]);\n",
    "\n",
    "sb.distplot(df0['ActDebtToCreditRatio'],color=\"skyblue\",label=var,ax=axes[1,0]);\n",
    "sb.distplot(df1['ActDebtToCreditRatio'],color=\"red\",label=var,ax=axes[1,0]);\n",
    "\n",
    "sb.distplot(df0['AMT_INCOME_TOTAL'],color=\"skyblue\",label=var,ax=axes[1,1]);\n",
    "sb.distplot(df1['AMT_INCOME_TOTAL'],color=\"red\",label=var,ax=axes[1,1]);"
   ]
  },
  {
   "cell_type": "markdown",
   "metadata": {},
   "source": [
    "We will continue exploring numerical variables further once we have reduced our feature set"
   ]
  },
  {
   "cell_type": "markdown",
   "metadata": {},
   "source": [
    "# Data Modeling"
   ]
  },
  {
   "cell_type": "markdown",
   "metadata": {},
   "source": [
    "The current dataset is too big for building complex models as my system does not have a GPU. Hence, for the purpose of this project, I will take a random sample of 100,000 rows from the master dataset. This will ensure that the class proportions in the response variable remain approximately the same"
   ]
  },
  {
   "cell_type": "code",
   "execution_count": 20,
   "metadata": {
    "ExecuteTime": {
     "end_time": "2020-04-19T06:30:45.353082Z",
     "start_time": "2020-04-19T06:30:44.625343Z"
    }
   },
   "outputs": [],
   "source": [
    "model_data = master.sample(n=100000,random_state=710)"
   ]
  },
  {
   "cell_type": "code",
   "execution_count": 21,
   "metadata": {
    "ExecuteTime": {
     "end_time": "2020-04-19T06:30:49.515358Z",
     "start_time": "2020-04-19T06:30:49.455378Z"
    }
   },
   "outputs": [
    {
     "data": {
      "text/plain": [
       "0    92017\n",
       "1     7983\n",
       "Name: TARGET, dtype: int64"
      ]
     },
     "execution_count": 21,
     "metadata": {},
     "output_type": "execute_result"
    }
   ],
   "source": [
    "model_data['TARGET'].value_counts()"
   ]
  },
  {
   "cell_type": "code",
   "execution_count": 62,
   "metadata": {
    "ExecuteTime": {
     "end_time": "2020-04-19T14:54:22.669482Z",
     "start_time": "2020-04-19T14:54:22.521548Z"
    }
   },
   "outputs": [
    {
     "data": {
      "image/png": "[encoded data removed]",
      "text/plain": [
       "<Figure size 432x288 with 1 Axes>"
      ]
     },
     "metadata": {
      "needs_background": "light"
     },
     "output_type": "display_data"
    }
   ],
   "source": [
    "sb.countplot(x='TARGET',data=model_data);"
   ]
  },
  {
   "cell_type": "markdown",
   "metadata": {},
   "source": [
    "## Convert categorical variables to dummies (Binary encoding)"
   ]
  },
  {
   "cell_type": "code",
   "execution_count": 22,
   "metadata": {
    "ExecuteTime": {
     "end_time": "2020-04-19T06:31:03.283708Z",
     "start_time": "2020-04-19T06:30:54.750292Z"
    }
   },
   "outputs": [],
   "source": [
    "categ_cols = list(model_data.select_dtypes(include=\"object\").columns)\n",
    "\n",
    "model_data_v2 = model_data.copy()\n",
    "for col in categ_cols:\n",
    "    model_data_v2 = pd.concat([model_data_v2,pd.get_dummies(model_data[col]).add_prefix(col+'_').iloc[:,:-1]],axis=1).drop([col],axis=1)"
   ]
  },
  {
   "cell_type": "code",
   "execution_count": 24,
   "metadata": {
    "ExecuteTime": {
     "end_time": "2020-04-19T05:27:33.308068Z",
     "start_time": "2020-04-19T05:27:33.302074Z"
    }
   },
   "outputs": [
    {
     "data": {
      "text/plain": [
       "(100000, 323)"
      ]
     },
     "execution_count": 24,
     "metadata": {},
     "output_type": "execute_result"
    }
   ],
   "source": [
    "model_data_v2.shape"
   ]
  },
  {
   "cell_type": "markdown",
   "metadata": {},
   "source": [
    "## Split data into Train and Test samples"
   ]
  },
  {
   "cell_type": "code",
   "execution_count": 23,
   "metadata": {
    "ExecuteTime": {
     "end_time": "2020-04-19T06:31:10.653610Z",
     "start_time": "2020-04-19T06:31:10.186881Z"
    }
   },
   "outputs": [],
   "source": [
    "from sklearn.model_selection import train_test_split\n",
    "X = np.array(model_data_v2.drop(['TARGET','SK_ID_CURR'],axis=1))\n",
    "Y = np.array(model_data_v2[['TARGET']])"
   ]
  },
  {
   "cell_type": "code",
   "execution_count": 24,
   "metadata": {
    "ExecuteTime": {
     "end_time": "2020-04-19T06:31:13.683598Z",
     "start_time": "2020-04-19T06:31:12.876082Z"
    }
   },
   "outputs": [],
   "source": [
    "x_train, x_test, y_train, y_test = train_test_split(X,Y,test_size=0.25,random_state = 710)\n",
    "x_train_df = pd.DataFrame(x_train, columns = model_data_v2.drop(['TARGET','SK_ID_CURR'],axis=1).columns)"
   ]
  },
  {
   "cell_type": "markdown",
   "metadata": {},
   "source": [
    "## Data Resampling - Train sample"
   ]
  },
  {
   "cell_type": "markdown",
   "metadata": {},
   "source": [
    "As the response classes are highly imbalanced in the dataset, we will try resampling the data using the Imbalanced-learn library (https://imbalanced-learn.readthedocs.io/en/stable/install.html) tomek links pairs (https://imbalanced-learn.readthedocs.io/en/stable/generated/imblearn.under_sampling.TomekLinks.html) and SMOTE"
   ]
  },
  {
   "cell_type": "code",
   "execution_count": 30,
   "metadata": {
    "ExecuteTime": {
     "end_time": "2020-04-19T06:04:34.562561Z",
     "start_time": "2020-04-19T06:04:28.893264Z"
    },
    "collapsed": true
   },
   "outputs": [
    {
     "name": "stdout",
     "output_type": "stream",
     "text": [
      "Collecting imblearn\n",
      "  Using cached https://files.pythonhosted.org/packages/81/a7/4179e6ebfd654bd0eac0b9c06125b8b4c96a9d0a8ff9e9507eb2a26d2d7e/imblearn-0.0-py2.py3-none-any.whl\n",
      "Collecting imbalanced-learn (from imblearn)\n",
      "  Using cached https://files.pythonhosted.org/packages/c8/73/36a13185c2acff44d601dc6107b5347e075561a49e15ddd4e69988414c3e/imbalanced_learn-0.6.2-py3-none-any.whl\n",
      "Requirement already satisfied: scikit-learn>=0.22 in c:\\users\\hi\\anaconda3\\lib\\site-packages (from imbalanced-learn->imblearn) (0.22.2.post1)\n",
      "Requirement already satisfied: numpy>=1.11 in c:\\users\\hi\\anaconda3\\lib\\site-packages (from imbalanced-learn->imblearn) (1.16.2)\n",
      "Requirement already satisfied: joblib>=0.11 in c:\\users\\hi\\anaconda3\\lib\\site-packages (from imbalanced-learn->imblearn) (0.14.1)\n",
      "Requirement already satisfied: scipy>=0.17 in c:\\users\\hi\\anaconda3\\lib\\site-packages (from imbalanced-learn->imblearn) (1.4.1)\n",
      "Installing collected packages: imbalanced-learn, imblearn\n",
      "Successfully installed imbalanced-learn-0.6.2 imblearn-0.0\n"
     ]
    }
   ],
   "source": [
    "# !pip install imblearn"
   ]
  },
  {
   "cell_type": "code",
   "execution_count": 34,
   "metadata": {
    "ExecuteTime": {
     "end_time": "2020-04-19T06:55:08.148677Z",
     "start_time": "2020-04-19T06:47:10.705168Z"
    }
   },
   "outputs": [],
   "source": [
    "import imblearn\n",
    "from imblearn.combine import SMOTETomek\n",
    "\n",
    "smt = SMOTETomek()\n",
    "x_train_smt, y_train_smt = smt.fit_sample(x_train, y_train)"
   ]
  },
  {
   "cell_type": "code",
   "execution_count": null,
   "metadata": {},
   "outputs": [],
   "source": [
    "# Optional - Generate training samples using only tomek links without smote (Used for 2nd logistic model)\n",
    "\n",
    "import imblearn\n",
    "from imblearn.under_sampling import TomekLinks\n",
    "\n",
    "tl = TomekLinks()\n",
    "x_train_tl, y_train_tl = tl.fit_sample(x_train, y_train)"
   ]
  },
  {
   "cell_type": "code",
   "execution_count": 35,
   "metadata": {
    "ExecuteTime": {
     "end_time": "2020-04-19T06:55:57.600191Z",
     "start_time": "2020-04-19T06:55:57.594196Z"
    }
   },
   "outputs": [
    {
     "name": "stdout",
     "output_type": "stream",
     "text": [
      "(75000, 1)\n",
      "5957\n",
      "(137696,)\n",
      "68848\n"
     ]
    }
   ],
   "source": [
    "print(y_train.shape)\n",
    "print(np.sum(y_train))\n",
    "\n",
    "print(y_train_smt.shape)\n",
    "print(np.sum(y_train_smt))"
   ]
  },
  {
   "cell_type": "markdown",
   "metadata": {},
   "source": [
    "## Feature engineering Part II: Feature Selection"
   ]
  },
  {
   "cell_type": "markdown",
   "metadata": {},
   "source": [
    "### Selection using logistic regression with L1 regularization"
   ]
  },
  {
   "cell_type": "code",
   "execution_count": 37,
   "metadata": {
    "ExecuteTime": {
     "end_time": "2020-04-19T07:41:07.936713Z",
     "start_time": "2020-04-19T07:09:40.655331Z"
    }
   },
   "outputs": [
    {
     "name": "stdout",
     "output_type": "stream",
     "text": [
      "139 selected features\n"
     ]
    }
   ],
   "source": [
    "from sklearn.feature_selection import SelectFromModel\n",
    "from sklearn.linear_model import LogisticRegression\n",
    "from sklearn.preprocessing import MinMaxScaler\n",
    "\n",
    "x_train_norm = MinMaxScaler().fit_transform(x_train_smt)\n",
    "\n",
    "embeded_lr_selector = SelectFromModel(LogisticRegression(penalty=\"l1\",solver='liblinear'), '1.25*median')\n",
    "embeded_lr_selector.fit(x_train_norm, y_train_smt)\n",
    "\n",
    "embeded_lr_support = embeded_lr_selector.get_support()\n",
    "embeded_lr_feature = x_train_df.loc[:,embeded_lr_support].columns.tolist()\n",
    "print(str(len(embeded_lr_feature)), 'selected features')"
   ]
  },
  {
   "cell_type": "code",
   "execution_count": 38,
   "metadata": {
    "ExecuteTime": {
     "end_time": "2020-04-19T07:41:49.600229Z",
     "start_time": "2020-04-19T07:41:49.594234Z"
    },
    "scrolled": true
   },
   "outputs": [
    {
     "name": "stdout",
     "output_type": "stream",
     "text": [
      "['AMT_INCOME_TOTAL', 'AMT_CREDIT', 'AMT_ANNUITY', 'AMT_GOODS_PRICE', 'DAYS_BIRTH', 'DAYS_EMPLOYED', 'DAYS_ID_PUBLISH', 'OWN_CAR_AGE', 'FLAG_MOBIL', 'FLAG_EMP_PHONE', 'FLAG_CONT_MOBILE', 'REGION_RATING_CLIENT_W_CITY', 'REG_REGION_NOT_WORK_REGION', 'LIVE_REGION_NOT_WORK_REGION', 'EXT_SOURCE_1', 'EXT_SOURCE_2', 'EXT_SOURCE_3', 'BASEMENTAREA_AVG', 'YEARS_BUILD_AVG', 'ENTRANCES_AVG', 'FLOORSMAX_AVG', 'LANDAREA_AVG', 'LIVINGAREA_AVG', 'NONLIVINGAREA_AVG', 'BASEMENTAREA_MODE', 'YEARS_BEGINEXPLUATATION_MODE', 'FLOORSMAX_MODE', 'FLOORSMIN_MODE', 'LANDAREA_MODE', 'LIVINGAREA_MODE', 'NONLIVINGAPARTMENTS_MODE', 'NONLIVINGAREA_MODE', 'APARTMENTS_MEDI', 'YEARS_BEGINEXPLUATATION_MEDI', 'YEARS_BUILD_MEDI', 'ENTRANCES_MEDI', 'FLOORSMAX_MEDI', 'FLOORSMIN_MEDI', 'TOTALAREA_MODE', 'OBS_30_CNT_SOCIAL_CIRCLE', 'DEF_30_CNT_SOCIAL_CIRCLE', 'OBS_60_CNT_SOCIAL_CIRCLE', 'DEF_60_CNT_SOCIAL_CIRCLE', 'FLAG_DOCUMENT_2', 'FLAG_DOCUMENT_3', 'FLAG_DOCUMENT_5', 'FLAG_DOCUMENT_6', 'FLAG_DOCUMENT_7', 'FLAG_DOCUMENT_10', 'FLAG_DOCUMENT_13', 'FLAG_DOCUMENT_14', 'FLAG_DOCUMENT_15', 'FLAG_DOCUMENT_17', 'FLAG_DOCUMENT_18', 'FLAG_DOCUMENT_19', 'FLAG_DOCUMENT_21', 'AMT_REQ_CREDIT_BUREAU_HOUR', 'AMT_REQ_CREDIT_BUREAU_DAY', 'AMT_REQ_CREDIT_BUREAU_WEEK', 'AMT_REQ_CREDIT_BUREAU_MON', 'Active', 'Closed', 'DaysRecentBurCredApplied', 'application_interval', 'Act_Max_Credit_Days_Overdue', 'ADJ_AMT_CREDIT_MAX_OVERDUE_x', 'ACT_ADJ_AMT_CREDIT_SUM_DEBT', 'AVG_ADJ_AMT_CREDIT_SUM_DEBT', 'MAX_AMT_CREDIT_SUM_DEBT', 'ACT_AMT_CREDIT_SUM_LIMIT', 'ActDebtToCreditRatio', 'DAYS_CREDIT_UPDATE', 'Credit card_actcredlines', 'Mortgage_actcredlines', 'bb_dpd_sum', 'propdelayedinstalpayments_6months', 'propdelayedinstalpayments_12months', 'avgdaysinstalpaidinadvance_1months', 'avgdaysinstalpaidinadvance_3months', 'avgdaysinstalpaidinadvance_9months', 'avgdaysinstalpaidinadvance_12months', 'ip_payment_count_1y', 'ip_total_late_times_1y', 'ip_total_less_times_1y', 'ip_total_actual_payment_1y', 'ip_total_required_payment_1y', 'ip_total_late_times_6m', 'ip_total_actual_payment_6m', 'ip_total_required_payment_6m', 'ip_payment_count_3m', 'ip_creditcard_count_3m', 'ip_total_late_times_3m', 'ip_total_required_payment_3m', 'ip_payment_count_1m', 'ip_creditcard_count_1m', 'ip_total_less_times_1m', 'ip_total_actual_payment_1m', 'lastapplamountrequested', 'avgpastapplamountreq', 'pastapplcnt_Cashloans', 'pastapplcnt_Consumerloans', 'pastapplcnt_Revolvingloans', 'pastapplcnt_XNA', 'cntpastapplRefused', 'cntXsellcreditaccounts', 'CODE_GENDER_F', 'FLAG_OWN_CAR_N', 'NAME_TYPE_SUITE_0', 'NAME_INCOME_TYPE_Maternity leave', 'NAME_INCOME_TYPE_Pensioner', 'NAME_INCOME_TYPE_Student', 'NAME_INCOME_TYPE_Unemployed', 'NAME_EDUCATION_TYPE_Academic degree', 'NAME_EDUCATION_TYPE_Higher education', 'NAME_EDUCATION_TYPE_Incomplete higher', 'NAME_FAMILY_STATUS_Unknown', 'OCCUPATION_TYPE_HR staff', 'ORGANIZATION_TYPE_Advertising', 'ORGANIZATION_TYPE_Cleaning', 'ORGANIZATION_TYPE_Emergency', 'ORGANIZATION_TYPE_Industry: type 10', 'ORGANIZATION_TYPE_Industry: type 12', 'ORGANIZATION_TYPE_Industry: type 5', 'ORGANIZATION_TYPE_Industry: type 6', 'ORGANIZATION_TYPE_Legal Services', 'ORGANIZATION_TYPE_Military', 'ORGANIZATION_TYPE_Mobile', 'ORGANIZATION_TYPE_Realtor', 'ORGANIZATION_TYPE_Trade: type 2', 'ORGANIZATION_TYPE_Trade: type 3', 'ORGANIZATION_TYPE_Trade: type 5', 'ORGANIZATION_TYPE_Transport: type 1', 'ORGANIZATION_TYPE_Transport: type 3', 'ORGANIZATION_TYPE_Transport: type 4', 'FONDKAPREMONT_MODE_not specified', 'HOUSETYPE_MODE_specific housing', 'prefchannel_AP+ (Cash loan)', 'prefchannel_Car dealer', 'prefchannel_Channel of corporate sales']\n"
     ]
    }
   ],
   "source": [
    "print(embeded_lr_feature)"
   ]
  },
  {
   "cell_type": "markdown",
   "metadata": {},
   "source": [
    "### Selection using RandomForest Classifier"
   ]
  },
  {
   "cell_type": "code",
   "execution_count": 39,
   "metadata": {
    "ExecuteTime": {
     "end_time": "2020-04-19T07:46:08.089427Z",
     "start_time": "2020-04-19T07:44:39.979772Z"
    }
   },
   "outputs": [
    {
     "name": "stdout",
     "output_type": "stream",
     "text": [
      "153 selected features\n"
     ]
    }
   ],
   "source": [
    "from sklearn.ensemble import RandomForestClassifier\n",
    "\n",
    "embeded_rf_selector = SelectFromModel(RandomForestClassifier(n_estimators=100), threshold='1.25*median')\n",
    "embeded_rf_selector.fit(x_train_smt, y_train_smt)\n",
    "\n",
    "embeded_rf_support = embeded_rf_selector.get_support()\n",
    "embeded_rf_feature = x_train_df.loc[:,embeded_rf_support].columns.tolist()\n",
    "print(str(len(embeded_rf_feature)), 'selected features')"
   ]
  },
  {
   "cell_type": "code",
   "execution_count": 42,
   "metadata": {
    "ExecuteTime": {
     "end_time": "2020-04-19T07:51:57.213674Z",
     "start_time": "2020-04-19T07:51:57.207680Z"
    }
   },
   "outputs": [
    {
     "name": "stdout",
     "output_type": "stream",
     "text": [
      "77\n",
      "['application_interval', 'avgdaysinstalpaidinadvance_9months', 'ip_total_actual_payment_1m', 'DAYS_CREDIT_UPDATE', 'ip_total_required_payment_1y', 'ip_total_required_payment_6m', 'LANDAREA_AVG', 'FLOORSMIN_MODE', 'EXT_SOURCE_2', 'ip_total_less_times_1y', 'OBS_60_CNT_SOCIAL_CIRCLE', 'ip_payment_count_1y', 'Active', 'ip_total_actual_payment_6m', 'MAX_AMT_CREDIT_SUM_DEBT', 'ip_total_late_times_6m', 'EXT_SOURCE_1', 'propdelayedinstalpayments_12months', 'FLAG_OWN_CAR_N', 'ENTRANCES_MEDI', 'YEARS_BEGINEXPLUATATION_MODE', 'ACT_AMT_CREDIT_SUM_LIMIT', 'FLOORSMAX_MEDI', 'cntXsellcreditaccounts', 'Credit card_actcredlines', 'CODE_GENDER_F', 'DEF_60_CNT_SOCIAL_CIRCLE', 'avgdaysinstalpaidinadvance_1months', 'LIVINGAREA_MODE', 'pastapplcnt_Cashloans', 'DaysRecentBurCredApplied', 'FLOORSMIN_MEDI', 'ADJ_AMT_CREDIT_MAX_OVERDUE_x', 'AMT_ANNUITY', 'DEF_30_CNT_SOCIAL_CIRCLE', 'ip_payment_count_3m', 'LIVINGAREA_AVG', 'ip_payment_count_1m', 'FLAG_DOCUMENT_3', 'OWN_CAR_AGE', 'NAME_EDUCATION_TYPE_Higher education', 'ip_total_late_times_3m', 'EXT_SOURCE_3', 'FLOORSMAX_MODE', 'ip_total_required_payment_3m', 'ENTRANCES_AVG', 'pastapplcnt_Revolvingloans', 'ip_total_actual_payment_1y', 'REGION_RATING_CLIENT_W_CITY', 'avgdaysinstalpaidinadvance_3months', 'pastapplcnt_Consumerloans', 'AMT_CREDIT', 'ip_creditcard_count_1m', 'Closed', 'OBS_30_CNT_SOCIAL_CIRCLE', 'DAYS_BIRTH', 'TOTALAREA_MODE', 'ACT_ADJ_AMT_CREDIT_SUM_DEBT', 'propdelayedinstalpayments_6months', 'lastapplamountrequested', 'YEARS_BUILD_AVG', 'DAYS_ID_PUBLISH', 'ip_total_late_times_1y', 'APARTMENTS_MEDI', 'AMT_INCOME_TOTAL', 'AMT_GOODS_PRICE', 'cntpastapplRefused', 'avgpastapplamountreq', 'FLOORSMAX_AVG', 'avgdaysinstalpaidinadvance_12months', 'BASEMENTAREA_AVG', 'ip_creditcard_count_3m', 'YEARS_BEGINEXPLUATATION_MEDI', 'AVG_ADJ_AMT_CREDIT_SUM_DEBT', 'ActDebtToCreditRatio', 'YEARS_BUILD_MEDI', 'DAYS_EMPLOYED']\n"
     ]
    }
   ],
   "source": [
    "# Take features that are common in selection procedures\n",
    "\n",
    "intersection = set(embeded_lr_feature).intersection(embeded_rf_feature)\n",
    "selected_features_list = list(intersection)\n",
    "print(len(selected_features_list))\n",
    "print(selected_features_list)"
   ]
  },
  {
   "cell_type": "code",
   "execution_count": 46,
   "metadata": {
    "ExecuteTime": {
     "end_time": "2020-04-19T08:00:39.053488Z",
     "start_time": "2020-04-19T08:00:38.677685Z"
    }
   },
   "outputs": [],
   "source": [
    "# obtain feature indexes for the selected common features\n",
    "\n",
    "selected_vars_index =embeded_lr_support & embeded_rf_support\n",
    "x_train_selected = x_train_smt[:,selected_vars_index]\n",
    "x_test_selected = x_test[:,selected_vars_index]"
   ]
  },
  {
   "cell_type": "code",
   "execution_count": 48,
   "metadata": {
    "ExecuteTime": {
     "end_time": "2020-04-19T14:16:55.471416Z",
     "start_time": "2020-04-19T14:16:55.465421Z"
    }
   },
   "outputs": [
    {
     "data": {
      "text/plain": [
       "(137696, 77)"
      ]
     },
     "execution_count": 48,
     "metadata": {},
     "output_type": "execute_result"
    }
   ],
   "source": [
    "x_train_selected.shape"
   ]
  },
  {
   "cell_type": "markdown",
   "metadata": {},
   "source": [
    "After taking the common set of features selected by Regularized logistic regression and Random Forest model, we have a list of 77 predictors"
   ]
  },
  {
   "cell_type": "markdown",
   "metadata": {},
   "source": [
    "## Logistic regression (with smote - artificial balancing)"
   ]
  },
  {
   "cell_type": "markdown",
   "metadata": {},
   "source": [
    "### Fit model"
   ]
  },
  {
   "cell_type": "code",
   "execution_count": 50,
   "metadata": {
    "ExecuteTime": {
     "end_time": "2020-04-19T14:24:24.973270Z",
     "start_time": "2020-04-19T14:22:45.161345Z"
    }
   },
   "outputs": [
    {
     "data": {
      "text/plain": [
       "LogisticRegression(C=1.0, class_weight=None, dual=False, fit_intercept=True,\n",
       "                   intercept_scaling=1, l1_ratio=None, max_iter=100000,\n",
       "                   multi_class='auto', n_jobs=None, penalty='l2',\n",
       "                   random_state=None, solver='lbfgs', tol=0.0001, verbose=0,\n",
       "                   warm_start=False)"
      ]
     },
     "execution_count": 50,
     "metadata": {},
     "output_type": "execute_result"
    }
   ],
   "source": [
    "from sklearn.linear_model import LogisticRegression\n",
    "\n",
    "logisticmodel = LogisticRegression(penalty=\"l2\",max_iter=100000)\n",
    "logisticmodel.fit(x_train_selected, np.ravel(y_train_smt))"
   ]
  },
  {
   "cell_type": "markdown",
   "metadata": {},
   "source": [
    "### Evaluate Model Performance on Train and select optimum probability cutoff"
   ]
  },
  {
   "cell_type": "code",
   "execution_count": 82,
   "metadata": {
    "ExecuteTime": {
     "end_time": "2020-04-19T15:44:37.844269Z",
     "start_time": "2020-04-19T15:44:36.852837Z"
    }
   },
   "outputs": [
    {
     "name": "stdout",
     "output_type": "stream",
     "text": [
      "optimum probability is:  [0.35]\n"
     ]
    },
    {
     "data": {
      "image/png": "[encoded data removed]",
      "text/plain": [
       "<Figure size 432x288 with 1 Axes>"
      ]
     },
     "metadata": {
      "needs_background": "light"
     },
     "output_type": "display_data"
    }
   ],
   "source": [
    "# Choose optimum probability cutoff using F1 score\n",
    "\n",
    "from sklearn import metrics\n",
    "\n",
    "train_predprob = logisticmodel.predict_proba(x_train_selected)[:,1].reshape((y_train_smt.shape[0],1))\n",
    "y_observed = y_train_smt.reshape((y_train_smt.shape[0],1))\n",
    "\n",
    "prob_array = np.around(np.arange(0.1,0.8,0.05), decimals=2)\n",
    "F1score_array = np.zeros(prob_array.size)\n",
    "i=0\n",
    "for p in prob_array:\n",
    "    y_predicted = (train_predprob>=p)*1\n",
    "    F1score_array[i] = metrics.f1_score(y_observed,y_predicted)\n",
    "    i=i+1\n",
    "\n",
    "plt.plot(prob_array,F1score_array);\n",
    "\n",
    "print('optimum probability is: ',prob_array[F1score_array == np.max(F1score_array)])\n"
   ]
  },
  {
   "cell_type": "code",
   "execution_count": 83,
   "metadata": {
    "ExecuteTime": {
     "end_time": "2020-04-19T15:46:29.072869Z",
     "start_time": "2020-04-19T15:46:28.795031Z"
    },
    "collapsed": true
   },
   "outputs": [
    {
     "name": "stdout",
     "output_type": "stream",
     "text": [
      "optimum probability is:  [0.2]\n"
     ]
    },
    {
     "data": {
      "image/png": "[encoded data removed]",
      "text/plain": [
       "<Figure size 432x288 with 1 Axes>"
      ]
     },
     "metadata": {
      "needs_background": "light"
     },
     "output_type": "display_data"
    }
   ],
   "source": [
    "# # Choose optimum probability cutoff using Asymmetric misclassification cost\n",
    "\n",
    "# from sklearn import metrics\n",
    "\n",
    "# train_predprob = logisticmodel.predict_proba(x_train_selected)[:,1].reshape((y_train_smt.shape[0],1))\n",
    "# y_observed = y_train_smt.reshape((y_train_smt.shape[0],1))\n",
    "\n",
    "# prob_array = np.around(np.arange(0.1,0.8,0.05), decimals=2)\n",
    "# asym_misclassif_array = np.zeros(prob_array.size)\n",
    "# i=0\n",
    "# for p in prob_array:\n",
    "#     asym_misclassif_array[i] = asymm_misclassif(train_predprob,y_observed,p)\n",
    "#     i=i+1\n",
    "\n",
    "# plt.plot(prob_array,asym_misclassif_array) ;\n",
    "# print('optimum probability is: ',prob_array[asym_misclassif_array == np.min(asym_misclassif_array)])\n"
   ]
  },
  {
   "cell_type": "markdown",
   "metadata": {},
   "source": [
    "### Check performance on Test sample"
   ]
  },
  {
   "cell_type": "code",
   "execution_count": 85,
   "metadata": {
    "ExecuteTime": {
     "end_time": "2020-04-19T15:58:59.318244Z",
     "start_time": "2020-04-19T15:58:59.078384Z"
    }
   },
   "outputs": [
    {
     "name": "stdout",
     "output_type": "stream",
     "text": [
      "Confusion Matrix :\n",
      "[[ 4234 18740]\n",
      " [  181  1845]]\n",
      "Accuracy Score : 0.24316\n",
      "Report : \n",
      "              precision    recall  f1-score   support\n",
      "\n",
      "           0       0.96      0.18      0.31     22974\n",
      "           1       0.09      0.91      0.16      2026\n",
      "\n",
      "    accuracy                           0.24     25000\n",
      "   macro avg       0.52      0.55      0.24     25000\n",
      "weighted avg       0.89      0.24      0.30     25000\n",
      "\n"
     ]
    }
   ],
   "source": [
    "from sklearn.metrics import confusion_matrix \n",
    "from sklearn.metrics import accuracy_score \n",
    "from sklearn.metrics import classification_report\n",
    "\n",
    "test_predprob = logisticmodel.predict_proba(x_test_selected)[:,1].reshape((y_test.shape[0],1))\n",
    "y_test_predicted = (test_predprob>0.35)*1\n",
    "y_test_observed = y_test.reshape((y_test.shape[0],1))\n",
    "\n",
    "print('Confusion Matrix :')\n",
    "print(confusion_matrix(y_test_observed,y_test_predicted)) \n",
    "print('Accuracy Score :',accuracy_score(y_test_observed, y_test_predicted))\n",
    "print('Report : ')\n",
    "print(classification_report(y_test_observed, y_test_predicted))\n"
   ]
  },
  {
   "cell_type": "markdown",
   "metadata": {},
   "source": [
    "## Logistic regression (Imbalanced data - Cost sensitive learning)"
   ]
  },
  {
   "cell_type": "markdown",
   "metadata": {},
   "source": [
    "In this section, we will use the original imbalanced training set, and instead choose the optimum probability by using imbalanced cost of False negative classification. The training set used in this section is obtained after removing tomek link pairs i.e. removes only majority classes that are very closely placed to a minority class"
   ]
  },
  {
   "cell_type": "markdown",
   "metadata": {},
   "source": [
    "### Fit model"
   ]
  },
  {
   "cell_type": "code",
   "execution_count": 88,
   "metadata": {
    "ExecuteTime": {
     "end_time": "2020-04-19T16:17:10.225731Z",
     "start_time": "2020-04-19T16:17:09.170486Z"
    }
   },
   "outputs": [
    {
     "data": {
      "text/plain": [
       "(72820, 77)"
      ]
     },
     "execution_count": 88,
     "metadata": {},
     "output_type": "execute_result"
    }
   ],
   "source": [
    "x_train_selected = x_train_tl[:,selected_vars_index]\n",
    "x_train_selected.shape"
   ]
  },
  {
   "cell_type": "code",
   "execution_count": 89,
   "metadata": {
    "ExecuteTime": {
     "end_time": "2020-04-19T16:17:23.935384Z",
     "start_time": "2020-04-19T16:17:23.926392Z"
    }
   },
   "outputs": [
    {
     "data": {
      "text/plain": [
       "5957"
      ]
     },
     "execution_count": 89,
     "metadata": {},
     "output_type": "execute_result"
    }
   ],
   "source": [
    "np.sum(y_train_tl)"
   ]
  },
  {
   "cell_type": "code",
   "execution_count": 90,
   "metadata": {
    "ExecuteTime": {
     "end_time": "2020-04-19T16:21:17.031845Z",
     "start_time": "2020-04-19T16:20:46.935635Z"
    }
   },
   "outputs": [
    {
     "data": {
      "text/plain": [
       "LogisticRegression(C=1.0, class_weight=None, dual=False, fit_intercept=True,\n",
       "                   intercept_scaling=1, l1_ratio=None, max_iter=100000,\n",
       "                   multi_class='auto', n_jobs=None, penalty='l2',\n",
       "                   random_state=None, solver='lbfgs', tol=0.0001, verbose=0,\n",
       "                   warm_start=False)"
      ]
     },
     "execution_count": 90,
     "metadata": {},
     "output_type": "execute_result"
    }
   ],
   "source": [
    "from sklearn.linear_model import LogisticRegression\n",
    "\n",
    "logisticmodel = LogisticRegression(penalty=\"l2\",max_iter=100000)\n",
    "logisticmodel.fit(x_train_selected, np.ravel(y_train_tl))"
   ]
  },
  {
   "cell_type": "markdown",
   "metadata": {},
   "source": [
    "### Evaluate model performance and choose p_cutoff using asymmetric misclassification cost"
   ]
  },
  {
   "cell_type": "code",
   "execution_count": 113,
   "metadata": {
    "ExecuteTime": {
     "end_time": "2020-04-19T16:54:48.219483Z",
     "start_time": "2020-04-19T16:54:47.980620Z"
    }
   },
   "outputs": [
    {
     "name": "stdout",
     "output_type": "stream",
     "text": [
      "optimum probability is:  [0.08]\n"
     ]
    },
    {
     "data": {
      "image/png": "[encoded data removed]",
      "text/plain": [
       "<Figure size 432x288 with 1 Axes>"
      ]
     },
     "metadata": {
      "needs_background": "light"
     },
     "output_type": "display_data"
    }
   ],
   "source": [
    "# Choose optimum probability cutoff using Asymmetric misclassification cost\n",
    "\n",
    "train_predprob = logisticmodel.predict_proba(x_train_selected)[:,1].reshape((y_train_tl.shape[0],1))\n",
    "y_observed = y_train_tl.reshape((y_train_tl.shape[0],1))\n",
    "\n",
    "prob_array = np.around(np.arange(0,0.2,0.02), decimals=2)\n",
    "asym_misclassif_array = np.zeros(prob_array.size)\n",
    "i=0\n",
    "for p in prob_array:\n",
    "    asym_misclassif_array[i] = asymm_misclassif(train_predprob,y_observed,p)\n",
    "    i=i+1\n",
    "\n",
    "plt.plot(prob_array,asym_misclassif_array) ;\n",
    "print('optimum probability is: ',prob_array[asym_misclassif_array == np.min(asym_misclassif_array)])"
   ]
  },
  {
   "cell_type": "markdown",
   "metadata": {},
   "source": [
    "### Check performance of test sample"
   ]
  },
  {
   "cell_type": "code",
   "execution_count": 114,
   "metadata": {
    "ExecuteTime": {
     "end_time": "2020-04-19T16:55:00.637092Z",
     "start_time": "2020-04-19T16:55:00.529174Z"
    }
   },
   "outputs": [
    {
     "name": "stdout",
     "output_type": "stream",
     "text": [
      "Confusion Matrix :\n",
      "[[13376  9598]\n",
      " [  762  1264]]\n",
      "Accuracy Score : 0.5856\n",
      "Report : \n",
      "              precision    recall  f1-score   support\n",
      "\n",
      "           0       0.95      0.58      0.72     22974\n",
      "           1       0.12      0.62      0.20      2026\n",
      "\n",
      "    accuracy                           0.59     25000\n",
      "   macro avg       0.53      0.60      0.46     25000\n",
      "weighted avg       0.88      0.59      0.68     25000\n",
      "\n"
     ]
    }
   ],
   "source": [
    "from sklearn.metrics import confusion_matrix \n",
    "from sklearn.metrics import accuracy_score \n",
    "from sklearn.metrics import classification_report\n",
    "\n",
    "test_predprob = logisticmodel.predict_proba(x_test_selected)[:,1].reshape((y_test.shape[0],1))\n",
    "y_test_predicted = (test_predprob>0.08)*1\n",
    "y_test_observed = y_test.reshape((y_test.shape[0],1))\n",
    "\n",
    "print('Confusion Matrix :')\n",
    "print(confusion_matrix(y_test_observed,y_test_predicted))\n",
    "print('Accuracy Score :',accuracy_score(y_test_observed, y_test_predicted))\n",
    "print('Report : ')\n",
    "print(classification_report(y_test_observed, y_test_predicted))"
   ]
  },
  {
   "cell_type": "markdown",
   "metadata": {},
   "source": [
    "## XGboost"
   ]
  },
  {
   "cell_type": "code",
   "execution_count": 117,
   "metadata": {
    "ExecuteTime": {
     "end_time": "2020-04-19T17:15:36.271249Z",
     "start_time": "2020-04-19T17:15:26.325952Z"
    }
   },
   "outputs": [
    {
     "name": "stdout",
     "output_type": "stream",
     "text": [
      "Collecting xgboost\n",
      "  Downloading xgboost-1.0.2-py3-none-win_amd64.whl (24.6 MB)\n",
      "Requirement already satisfied: scipy in c:\\users\\hi\\anaconda3\\lib\\site-packages (from xgboost) (1.4.1)\n",
      "Requirement already satisfied: numpy in c:\\users\\hi\\anaconda3\\lib\\site-packages (from xgboost) (1.18.1)\n",
      "Installing collected packages: xgboost\n",
      "Successfully installed xgboost-1.0.2\n",
      "Note: you may need to restart the kernel to use updated packages.\n"
     ]
    }
   ],
   "source": [
    "pip install xgboost"
   ]
  },
  {
   "cell_type": "code",
   "execution_count": 119,
   "metadata": {
    "ExecuteTime": {
     "end_time": "2020-04-19T17:24:24.264861Z",
     "start_time": "2020-04-19T17:24:17.201835Z"
    }
   },
   "outputs": [],
   "source": [
    "import xgboost  as xgb"
   ]
  },
  {
   "cell_type": "markdown",
   "metadata": {},
   "source": [
    "### Fit model"
   ]
  },
  {
   "cell_type": "code",
   "execution_count": 121,
   "metadata": {
    "ExecuteTime": {
     "end_time": "2020-04-19T17:46:14.694583Z",
     "start_time": "2020-04-19T17:43:21.150820Z"
    }
   },
   "outputs": [
    {
     "data": {
      "text/plain": [
       "XGBClassifier(base_score=0.5, booster=None, colsample_bylevel=1,\n",
       "              colsample_bynode=1, colsample_bytree=1, gamma=0, gpu_id=-1,\n",
       "              importance_type='gain', interaction_constraints=None,\n",
       "              learning_rate=0.05, max_delta_step=0, max_depth=3,\n",
       "              min_child_weight=1, missing=nan, monotone_constraints=None,\n",
       "              n_estimators=1000, n_jobs=0, num_parallel_tree=1,\n",
       "              objective='binary:logistic', random_state=0, reg_alpha=0,\n",
       "              reg_lambda=1, scale_pos_weight=1, subsample=1, tree_method=None,\n",
       "              validate_parameters=False, verbosity=None)"
      ]
     },
     "execution_count": 121,
     "metadata": {},
     "output_type": "execute_result"
    }
   ],
   "source": [
    "gbm = xgb.XGBClassifier(max_depth=3, n_estimators=1000, learning_rate=0.05)\n",
    "gbm.fit(x_train_selected,y_train_tl)"
   ]
  },
  {
   "cell_type": "markdown",
   "metadata": {},
   "source": [
    "### Choose optimum cutoff probability"
   ]
  },
  {
   "cell_type": "code",
   "execution_count": 122,
   "metadata": {
    "ExecuteTime": {
     "end_time": "2020-04-19T17:48:55.982836Z",
     "start_time": "2020-04-19T17:48:54.479694Z"
    }
   },
   "outputs": [
    {
     "name": "stdout",
     "output_type": "stream",
     "text": [
      "optimum probability is:  [0.11]\n"
     ]
    },
    {
     "data": {
      "image/png": "[encoded data removed]",
      "text/plain": [
       "<Figure size 432x288 with 1 Axes>"
      ]
     },
     "metadata": {
      "needs_background": "light"
     },
     "output_type": "display_data"
    }
   ],
   "source": [
    "train_predprob = gbm.predict_proba(x_train_selected)[:,1].reshape((y_train_tl.shape[0],1))\n",
    "y_observed = y_train_tl.reshape((y_train_tl.shape[0],1))\n",
    "\n",
    "prob_array = np.around(np.arange(0,0.3,0.01), decimals=2)\n",
    "asym_misclassif_array = np.zeros(prob_array.size)\n",
    "i=0\n",
    "for p in prob_array:\n",
    "    asym_misclassif_array[i] = asymm_misclassif(train_predprob,y_observed,p)\n",
    "    i=i+1\n",
    "\n",
    "plt.plot(prob_array,asym_misclassif_array) ;\n",
    "print('optimum probability is: ',prob_array[asym_misclassif_array == np.min(asym_misclassif_array)])"
   ]
  },
  {
   "cell_type": "markdown",
   "metadata": {},
   "source": [
    "### Predict on test set and report performance"
   ]
  },
  {
   "cell_type": "code",
   "execution_count": 123,
   "metadata": {
    "ExecuteTime": {
     "end_time": "2020-04-19T17:53:08.877316Z",
     "start_time": "2020-04-19T17:53:08.322634Z"
    }
   },
   "outputs": [
    {
     "name": "stdout",
     "output_type": "stream",
     "text": [
      "Confusion Matrix :\n",
      "[[18605  4369]\n",
      " [  869  1157]]\n",
      "Accuracy Score : 0.79048\n",
      "Report : \n",
      "              precision    recall  f1-score   support\n",
      "\n",
      "           0       0.96      0.81      0.88     22974\n",
      "           1       0.21      0.57      0.31      2026\n",
      "\n",
      "    accuracy                           0.79     25000\n",
      "   macro avg       0.58      0.69      0.59     25000\n",
      "weighted avg       0.89      0.79      0.83     25000\n",
      "\n"
     ]
    }
   ],
   "source": [
    "from sklearn.metrics import confusion_matrix \n",
    "from sklearn.metrics import accuracy_score \n",
    "from sklearn.metrics import classification_report\n",
    "\n",
    "test_predprob = gbm.predict_proba(x_test_selected)[:,1].reshape((y_test.shape[0],1))\n",
    "y_test_predicted = (test_predprob>0.11)*1\n",
    "y_test_observed = y_test.reshape((y_test.shape[0],1))\n",
    "\n",
    "print('Confusion Matrix :')\n",
    "print(confusion_matrix(y_test_observed,y_test_predicted))\n",
    "print('Accuracy Score :',accuracy_score(y_test_observed, y_test_predicted))\n",
    "print('Report : ')\n",
    "print(classification_report(y_test_observed, y_test_predicted))"
   ]
  },
  {
   "cell_type": "markdown",
   "metadata": {},
   "source": [
    "## Artificial Neural Network"
   ]
  },
  {
   "cell_type": "code",
   "execution_count": 128,
   "metadata": {
    "ExecuteTime": {
     "end_time": "2020-04-19T18:18:36.824057Z",
     "start_time": "2020-04-19T18:18:36.726113Z"
    }
   },
   "outputs": [
    {
     "name": "stderr",
     "output_type": "stream",
     "text": [
      "Using TensorFlow backend.\n"
     ]
    }
   ],
   "source": [
    "import keras"
   ]
  },
  {
   "cell_type": "code",
   "execution_count": 129,
   "metadata": {
    "ExecuteTime": {
     "end_time": "2020-04-19T18:19:01.120965Z",
     "start_time": "2020-04-19T18:19:01.115974Z"
    },
    "scrolled": true
   },
   "outputs": [],
   "source": [
    "from keras.layers import Dense, Activation, Dropout\n",
    "from keras.models import Sequential\n",
    "from keras.optimizers import Adam\n",
    "from keras.callbacks import EarlyStopping"
   ]
  },
  {
   "cell_type": "markdown",
   "metadata": {},
   "source": [
    "### Design layer architecture"
   ]
  },
  {
   "cell_type": "code",
   "execution_count": 150,
   "metadata": {
    "ExecuteTime": {
     "end_time": "2020-04-19T19:07:06.774606Z",
     "start_time": "2020-04-19T19:07:06.688658Z"
    }
   },
   "outputs": [],
   "source": [
    "# For the scope of this project, we will use a 6-layer deep network (5 hidden layers) and gradually reduce the number of units in each layer\n",
    "\n",
    "\n",
    "model = Sequential()\n",
    "model.add(Dense(50, input_shape=(x_train.shape[1],)))\n",
    "model.add(Activation('relu'))\n",
    "model.add(Dense(30))\n",
    "model.add(Activation('relu'))\n",
    "model.add(Dense(10))\n",
    "model.add(Activation('relu'))\n",
    "model.add(Dense(5))\n",
    "model.add(Activation('relu'))\n",
    "model.add(Dense(2))\n",
    "model.add(Activation('relu'))\n",
    "\n",
    "model.add(Dense(1))\n",
    "model.add(Activation('sigmoid'))\n",
    "\n",
    "# Use Adam optimizer\n",
    "\n",
    "my_optimizer = Adam(lr=0.001, beta_1=0.9, beta_2=0.99, epsilon=1e-08)\n",
    "model.compile(optimizer=my_optimizer, loss='binary_crossentropy')\n",
    "early_stopping_monitor = EarlyStopping(patience=6)"
   ]
  },
  {
   "cell_type": "code",
   "execution_count": 142,
   "metadata": {
    "ExecuteTime": {
     "end_time": "2020-04-19T18:55:17.499093Z",
     "start_time": "2020-04-19T18:55:17.492094Z"
    }
   },
   "outputs": [],
   "source": [
    "Adam?"
   ]
  },
  {
   "cell_type": "markdown",
   "metadata": {},
   "source": [
    "### Fit model on training set"
   ]
  },
  {
   "cell_type": "code",
   "execution_count": null,
   "metadata": {},
   "outputs": [],
   "source": [
    "# Due to memory limitations, I have not tuned model parameters and am using default values for some parameters"
   ]
  },
  {
   "cell_type": "code",
   "execution_count": 147,
   "metadata": {
    "ExecuteTime": {
     "end_time": "2020-04-19T19:05:04.499318Z",
     "start_time": "2020-04-19T19:05:04.163463Z"
    }
   },
   "outputs": [],
   "source": [
    "x_train_norm = MinMaxScaler().fit_transform(x_train)"
   ]
  },
  {
   "cell_type": "code",
   "execution_count": 158,
   "metadata": {
    "ExecuteTime": {
     "end_time": "2020-04-19T19:23:14.759081Z",
     "start_time": "2020-04-19T19:21:39.017830Z"
    }
   },
   "outputs": [
    {
     "name": "stdout",
     "output_type": "stream",
     "text": [
      "Epoch 1/50\n",
      "75000/75000 [==============================] - 2s 25us/step - loss: 1.0069\n",
      "Epoch 2/50\n",
      " 5800/75000 [=>............................] - ETA: 1s - loss: 0.9662"
     ]
    },
    {
     "name": "stderr",
     "output_type": "stream",
     "text": [
      "C:\\Users\\Hi\\Anaconda3\\lib\\site-packages\\keras\\callbacks\\callbacks.py:846: RuntimeWarning:\n",
      "\n",
      "Early stopping conditioned on metric `val_loss` which is not available. Available metrics are: loss\n",
      "\n"
     ]
    },
    {
     "name": "stdout",
     "output_type": "stream",
     "text": [
      "75000/75000 [==============================] - 2s 25us/step - loss: 0.9858\n",
      "Epoch 3/50\n",
      "75000/75000 [==============================] - 2s 28us/step - loss: 0.9779\n",
      "Epoch 4/50\n",
      "75000/75000 [==============================] - 2s 25us/step - loss: 0.9693\n",
      "Epoch 5/50\n",
      "75000/75000 [==============================] - 2s 25us/step - loss: 0.9609\n",
      "Epoch 6/50\n",
      "75000/75000 [==============================] - 2s 25us/step - loss: 0.9526\n",
      "Epoch 7/50\n",
      "75000/75000 [==============================] - 2s 25us/step - loss: 0.9418\n",
      "Epoch 8/50\n",
      "75000/75000 [==============================] - 2s 25us/step - loss: 0.9330\n",
      "Epoch 9/50\n",
      "75000/75000 [==============================] - 2s 26us/step - loss: 0.9226\n",
      "Epoch 10/50\n",
      "75000/75000 [==============================] - 2s 25us/step - loss: 0.9132\n",
      "Epoch 11/50\n",
      "75000/75000 [==============================] - 2s 25us/step - loss: 0.9036\n",
      "Epoch 12/50\n",
      "75000/75000 [==============================] - 2s 25us/step - loss: 0.8914\n",
      "Epoch 13/50\n",
      "75000/75000 [==============================] - 2s 27us/step - loss: 0.8815\n",
      "Epoch 14/50\n",
      "75000/75000 [==============================] - 2s 25us/step - loss: 0.8690\n",
      "Epoch 15/50\n",
      "75000/75000 [==============================] - 2s 26us/step - loss: 0.8595\n",
      "Epoch 16/50\n",
      "75000/75000 [==============================] - 2s 25us/step - loss: 0.8492\n",
      "Epoch 17/50\n",
      "75000/75000 [==============================] - 2s 27us/step - loss: 0.8408\n",
      "Epoch 18/50\n",
      "75000/75000 [==============================] - 2s 25us/step - loss: 0.8302\n",
      "Epoch 19/50\n",
      "75000/75000 [==============================] - 2s 26us/step - loss: 0.8208\n",
      "Epoch 20/50\n",
      "75000/75000 [==============================] - 2s 25us/step - loss: 0.8104\n",
      "Epoch 21/50\n",
      "75000/75000 [==============================] - 2s 25us/step - loss: 0.8021\n",
      "Epoch 22/50\n",
      "75000/75000 [==============================] - 2s 25us/step - loss: 0.7960\n",
      "Epoch 23/50\n",
      "75000/75000 [==============================] - 2s 25us/step - loss: 0.7894\n",
      "Epoch 24/50\n",
      "75000/75000 [==============================] - 2s 28us/step - loss: 0.7848\n",
      "Epoch 25/50\n",
      "75000/75000 [==============================] - 2s 26us/step - loss: 0.7755\n",
      "Epoch 26/50\n",
      "75000/75000 [==============================] - 2s 25us/step - loss: 0.7728\n",
      "Epoch 27/50\n",
      "75000/75000 [==============================] - 2s 25us/step - loss: 0.7654\n",
      "Epoch 28/50\n",
      "75000/75000 [==============================] - 2s 25us/step - loss: 0.7637\n",
      "Epoch 29/50\n",
      "75000/75000 [==============================] - 2s 25us/step - loss: 0.7583\n",
      "Epoch 30/50\n",
      "75000/75000 [==============================] - 2s 25us/step - loss: 0.7459\n",
      "Epoch 31/50\n",
      "75000/75000 [==============================] - 2s 26us/step - loss: 0.7478\n",
      "Epoch 32/50\n",
      "75000/75000 [==============================] - 2s 25us/step - loss: 0.7439\n",
      "Epoch 33/50\n",
      "75000/75000 [==============================] - 2s 26us/step - loss: 0.7398\n",
      "Epoch 34/50\n",
      "75000/75000 [==============================] - 2s 25us/step - loss: 0.7347\n",
      "Epoch 35/50\n",
      "75000/75000 [==============================] - 2s 25us/step - loss: 0.7315\n",
      "Epoch 36/50\n",
      "75000/75000 [==============================] - 2s 25us/step - loss: 0.7242\n",
      "Epoch 37/50\n",
      "75000/75000 [==============================] - 2s 26us/step - loss: 0.7209\n",
      "Epoch 38/50\n",
      "75000/75000 [==============================] - 2s 26us/step - loss: 0.7226\n",
      "Epoch 39/50\n",
      "75000/75000 [==============================] - 2s 27us/step - loss: 0.7197\n",
      "Epoch 40/50\n",
      "75000/75000 [==============================] - 2s 25us/step - loss: 0.7117\n",
      "Epoch 41/50\n",
      "75000/75000 [==============================] - 2s 25us/step - loss: 0.7116\n",
      "Epoch 42/50\n",
      "75000/75000 [==============================] - 2s 26us/step - loss: 0.7083\n",
      "Epoch 43/50\n",
      "75000/75000 [==============================] - 2s 25us/step - loss: 0.7041\n",
      "Epoch 44/50\n",
      "75000/75000 [==============================] - 2s 25us/step - loss: 0.7086\n",
      "Epoch 45/50\n",
      "75000/75000 [==============================] - 2s 25us/step - loss: 0.6999\n",
      "Epoch 46/50\n",
      "75000/75000 [==============================] - 2s 26us/step - loss: 0.6932\n",
      "Epoch 47/50\n",
      "75000/75000 [==============================] - 2s 25us/step - loss: 0.6936\n",
      "Epoch 48/50\n",
      "75000/75000 [==============================] - 2s 26us/step - loss: 0.6926\n",
      "Epoch 49/50\n",
      "75000/75000 [==============================] - 2s 25us/step - loss: 0.6946\n",
      "Epoch 50/50\n",
      "75000/75000 [==============================] - 2s 26us/step - loss: 0.6820\n"
     ]
    },
    {
     "data": {
      "text/plain": [
       "<keras.callbacks.callbacks.History at 0x2ac2a6565f8>"
      ]
     },
     "execution_count": 158,
     "metadata": {},
     "output_type": "execute_result"
    }
   ],
   "source": [
    "model.fit(x_train_norm, y_train, batch_size=100,epochs=50, callbacks=[early_stopping_monitor],class_weight={0:1,1:10})"
   ]
  },
  {
   "cell_type": "code",
   "execution_count": 153,
   "metadata": {
    "ExecuteTime": {
     "end_time": "2020-04-19T19:10:27.478784Z",
     "start_time": "2020-04-19T19:10:27.469793Z"
    }
   },
   "outputs": [],
   "source": [
    "model.predict_proba?"
   ]
  },
  {
   "cell_type": "markdown",
   "metadata": {},
   "source": [
    "### Choose optimum p-cutoff"
   ]
  },
  {
   "cell_type": "markdown",
   "metadata": {},
   "source": [
    "Since class weights were added during training, p-cutoff is chosen using symmetric misclassification"
   ]
  },
  {
   "cell_type": "code",
   "execution_count": 159,
   "metadata": {
    "ExecuteTime": {
     "end_time": "2020-04-19T19:23:59.890686Z",
     "start_time": "2020-04-19T19:23:58.681010Z"
    }
   },
   "outputs": [
    {
     "name": "stdout",
     "output_type": "stream",
     "text": [
      "optimum probability is:  [0.29]\n"
     ]
    },
    {
     "data": {
      "image/png": "[encoded data removed]",
      "text/plain": [
       "<Figure size 432x288 with 1 Axes>"
      ]
     },
     "metadata": {
      "needs_background": "light"
     },
     "output_type": "display_data"
    }
   ],
   "source": [
    "train_predprob = model.predict_proba(x_train_norm)[:,0].reshape((y_train.shape[0],1))\n",
    "y_observed = y_train.reshape((y_train.shape[0],1))\n",
    "\n",
    "prob_array = np.around(np.arange(0,0.3,0.01), decimals=2)\n",
    "sym_misclassif_array = np.zeros(prob_array.size)\n",
    "i=0\n",
    "for p in prob_array:\n",
    "    sym_misclassif_array[i] = symm_misclassif(train_predprob,y_observed,p)\n",
    "    i=i+1\n",
    "\n",
    "plt.plot(prob_array,sym_misclassif_array) ;\n",
    "print('optimum probability is: ',prob_array[sym_misclassif_array == np.min(sym_misclassif_array)])"
   ]
  },
  {
   "cell_type": "markdown",
   "metadata": {},
   "source": [
    "### Predict on Test and report performance"
   ]
  },
  {
   "cell_type": "code",
   "execution_count": 160,
   "metadata": {
    "ExecuteTime": {
     "end_time": "2020-04-19T19:24:15.539825Z",
     "start_time": "2020-04-19T19:24:15.093851Z"
    }
   },
   "outputs": [
    {
     "name": "stdout",
     "output_type": "stream",
     "text": [
      "Confusion Matrix :\n",
      "[[16142  6832]\n",
      " [ 1283   743]]\n",
      "Accuracy Score : 0.6754\n",
      "Report : \n",
      "              precision    recall  f1-score   support\n",
      "\n",
      "           0       0.93      0.70      0.80     22974\n",
      "           1       0.10      0.37      0.15      2026\n",
      "\n",
      "    accuracy                           0.68     25000\n",
      "   macro avg       0.51      0.53      0.48     25000\n",
      "weighted avg       0.86      0.68      0.75     25000\n",
      "\n"
     ]
    }
   ],
   "source": [
    "test_predprob = model.predict_proba(x_test)[:,0].reshape((y_test.shape[0],1))\n",
    "y_test_predicted = (test_predprob>0.29)*1\n",
    "y_test_observed = y_test.reshape((y_test.shape[0],1))\n",
    "\n",
    "print('Confusion Matrix :')\n",
    "print(confusion_matrix(y_test_observed,y_test_predicted))\n",
    "print('Accuracy Score :',accuracy_score(y_test_observed, y_test_predicted))\n",
    "print('Report : ')\n",
    "print(classification_report(y_test_observed, y_test_predicted))"
   ]
  }
 ],
 "metadata": {
  "kernelspec": {
   "display_name": "Python 3",
   "language": "python",
   "name": "python3"
  },
  "language_info": {
   "codemirror_mode": {
    "name": "ipython",
    "version": 3
   },
   "file_extension": ".py",
   "mimetype": "text/x-python",
   "name": "python",
   "nbconvert_exporter": "python",
   "pygments_lexer": "ipython3",
   "version": "3.7.3"
  },
  "latex_envs": {
   "LaTeX_envs_menu_present": true,
   "autoclose": false,
   "autocomplete": true,
   "bibliofile": "biblio.bib",
   "cite_by": "apalike",
   "current_citInitial": 1,
   "eqLabelWithNumbers": true,
   "eqNumInitial": 1,
   "hotkeys": {
    "equation": "Ctrl-E",
    "itemize": "Ctrl-I"
   },
   "labels_anchors": false,
   "latex_user_defs": false,
   "report_style_numbering": false,
   "user_envs_cfg": false
  },
  "toc": {
   "base_numbering": 1,
   "nav_menu": {},
   "number_sections": true,
   "sideBar": true,
   "skip_h1_title": false,
   "title_cell": "Table of Contents",
   "title_sidebar": "Contents",
   "toc_cell": false,
   "toc_position": {
    "height": "calc(100% - 180px)",
    "left": "10px",
    "top": "150px",
    "width": "303.542px"
   },
   "toc_section_display": true,
   "toc_window_display": true
  },
  "varInspector": {
   "cols": {
    "lenName": 16,
    "lenType": 16,
    "lenVar": 40
   },
   "kernels_config": {
    "python": {
     "delete_cmd_postfix": "",
     "delete_cmd_prefix": "del ",
     "library": "var_list.py",
     "varRefreshCmd": "print(var_dic_list())"
    },
    "r": {
     "delete_cmd_postfix": ") ",
     "delete_cmd_prefix": "rm(",
     "library": "var_list.r",
     "varRefreshCmd": "cat(var_dic_list()) "
    }
   },
   "types_to_exclude": [
    "module",
    "function",
    "builtin_function_or_method",
    "instance",
    "_Feature"
   ],
   "window_display": false
  }
 },
 "nbformat": 4,
 "nbformat_minor": 2
}
